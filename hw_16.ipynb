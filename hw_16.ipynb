{
 "cells": [
  {
   "cell_type": "code",
   "execution_count": 2,
   "metadata": {},
   "outputs": [
    {
     "name": "stdout",
     "output_type": "stream",
     "text": [
      "Collecting flask\n",
      "  Downloading Flask-2.3.2-py3-none-any.whl (96 kB)\n",
      "     ---------------------------------------- 0.0/96.9 kB ? eta -:--:--\n",
      "     ---- ----------------------------------- 10.2/96.9 kB ? eta -:--:--\n",
      "     ---- ----------------------------------- 10.2/96.9 kB ? eta -:--:--\n",
      "     ---- ----------------------------------- 10.2/96.9 kB ? eta -:--:--\n",
      "     ---- ----------------------------------- 10.2/96.9 kB ? eta -:--:--\n",
      "     ---- ----------------------------------- 10.2/96.9 kB ? eta -:--:--\n",
      "     ------------------------ ------------- 61.4/96.9 kB 193.2 kB/s eta 0:00:01\n",
      "     ------------------------ ------------- 61.4/96.9 kB 193.2 kB/s eta 0:00:01\n",
      "     ------------------------ ------------- 61.4/96.9 kB 193.2 kB/s eta 0:00:01\n",
      "     ------------------------------------ - 92.2/96.9 kB 180.8 kB/s eta 0:00:01\n",
      "     -------------------------------------- 96.9/96.9 kB 173.3 kB/s eta 0:00:00\n",
      "Collecting blinker>=1.6.2\n",
      "  Downloading blinker-1.6.2-py3-none-any.whl (13 kB)\n",
      "Collecting click>=8.1.3\n",
      "  Downloading click-8.1.3-py3-none-any.whl (96 kB)\n",
      "     ---------------------------------------- 0.0/96.6 kB ? eta -:--:--\n",
      "     ---- ----------------------------------- 10.2/96.6 kB ? eta -:--:--\n",
      "     ------------ --------------------------- 30.7/96.6 kB 1.3 MB/s eta 0:00:01\n",
      "     ------------------------ ------------- 61.4/96.6 kB 544.7 kB/s eta 0:00:01\n",
      "     -------------------------------- ----- 81.9/96.6 kB 456.6 kB/s eta 0:00:01\n",
      "     -------------------------------------- 96.6/96.6 kB 423.3 kB/s eta 0:00:00\n",
      "Requirement already satisfied: Jinja2>=3.1.2 in c:\\users\\vmakh\\anaconda3\\lib\\site-packages (from flask) (3.1.2)\n",
      "Collecting itsdangerous>=2.1.2\n",
      "  Downloading itsdangerous-2.1.2-py3-none-any.whl (15 kB)\n",
      "Requirement already satisfied: Werkzeug>=2.3.3 in c:\\users\\vmakh\\anaconda3\\lib\\site-packages (from flask) (2.3.4)\n",
      "Requirement already satisfied: colorama in c:\\users\\vmakh\\anaconda3\\lib\\site-packages (from click>=8.1.3->flask) (0.4.6)\n",
      "Requirement already satisfied: MarkupSafe>=2.0 in c:\\users\\vmakh\\anaconda3\\lib\\site-packages (from Jinja2>=3.1.2->flask) (2.1.1)\n",
      "Installing collected packages: itsdangerous, click, blinker, flask\n",
      "  Attempting uninstall: click\n",
      "    Found existing installation: click 8.0.4\n",
      "    Uninstalling click-8.0.4:\n",
      "      Successfully uninstalled click-8.0.4\n",
      "Successfully installed blinker-1.6.2 click-8.1.3 flask-2.3.2 itsdangerous-2.1.2\n",
      "Note: you may need to restart the kernel to use updated packages.\n"
     ]
    }
   ],
   "source": [
    "pip install flask"
   ]
  },
  {
   "cell_type": "code",
   "execution_count": 1,
   "metadata": {},
   "outputs": [
    {
     "name": "stdout",
     "output_type": "stream",
     "text": [
      " * Serving Flask app '__main__'\n",
      " * Debug mode: off\n"
     ]
    },
    {
     "name": "stderr",
     "output_type": "stream",
     "text": [
      "WARNING: This is a development server. Do not use it in a production deployment. Use a production WSGI server instead.\n",
      " * Running on all addresses (0.0.0.0)\n",
      " * Running on http://127.0.0.1:80\n",
      " * Running on http://192.168.0.23:80\n",
      "Press CTRL+C to quit\n"
     ]
    }
   ],
   "source": [
    "from flask import Flask\n",
    "\n",
    "app = Flask(__name__)\n",
    "\n",
    "@app.route(\"/\")\n",
    "def index():\n",
    "    return \"Hello, world!\"\n",
    "\n",
    "if __name__ == \"__main__\":\n",
    "    app.run(host=\"0.0.0.0\", port=80)"
   ]
  },
  {
   "cell_type": "code",
   "execution_count": 3,
   "metadata": {},
   "outputs": [
    {
     "name": "stdout",
     "output_type": "stream",
     "text": [
      " * Serving Flask app '__main__'\n",
      " * Debug mode: off\n"
     ]
    },
    {
     "name": "stderr",
     "output_type": "stream",
     "text": [
      "WARNING: This is a development server. Do not use it in a production deployment. Use a production WSGI server instead.\n",
      " * Running on all addresses (0.0.0.0)\n",
      " * Running on http://127.0.0.1:80\n",
      " * Running on http://192.168.0.23:80\n",
      "Press CTRL+C to quit\n",
      "127.0.0.1 - - [22/Jun/2023 06:32:26] code 400, message Bad request version ('\\x00\\x12\\x00\\x10\\x04\\x03\\x08\\x04\\x04\\x01\\x05\\x03\\x08\\x05\\x05\\x01\\x08\\x06\\x06\\x01\\x00-\\x00\\x02\\x01\\x01Di\\x00\\x05\\x00\\x03\\x02h2\\x00')\n",
      "127.0.0.1 - - [22/Jun/2023 06:32:26] \"\\x16\\x03\\x01\\x02\\x00\\x01\\x00\\x01ü\\x03\\x03êï\\x18\\x15¬\\x1fP-7\\x18\\x01¨Ï;\\x96çoJhP\\x14GqÂ4\\x19õ\\x138VìU \\x86öË\\x1eí´Ò\\x95QÃý³Ã\\x1dËf²²?\\x1bÍÏ¯Pj\\x10¿s'\\x04g>\\x00 êê\\x13\\x01\\x13\\x02\\x13\\x03À+À/À,À0Ì©Ì¨À\\x13À\\x14\\x00\\x9c\\x00\\x9d\\x00/\\x005\\x01\\x00\\x01\\x93ºº\\x00\\x00\\x00\\x17\\x00\\x00\\x003\\x00+\\x00)::\\x00\\x01\\x00\\x00\\x1d\\x00 ÎRðzF\\x85¬ET\\x1dPû\\x18Çº¢\\x81\\x17\\x1cê-Îª\\x86\\x81¸ãc\\x0dfð@\\x00\\x0d\\x00\\x12\\x00\\x10\\x04\\x03\\x08\\x04\\x04\\x01\\x05\\x03\\x08\\x05\\x05\\x01\\x08\\x06\\x06\\x01\\x00-\\x00\\x02\\x01\\x01Di\\x00\\x05\\x00\\x03\\x02h2\\x00\" HTTPStatus.BAD_REQUEST -\n",
      "127.0.0.1 - - [22/Jun/2023 06:32:26] code 400, message Bad request version ('\\x00\\x02\\x01\\x00\\x00\\x1b\\x00\\x03\\x02\\x00\\x02\\x00')\n",
      "127.0.0.1 - - [22/Jun/2023 06:32:26] \"\\x16\\x03\\x01\\x02\\x00\\x01\\x00\\x01ü\\x03\\x03¯Îg\\x14¦Å¦\\x15¾2(\\x9cãWgæ>ÿýåÝ\\x89?\\x08\\x8c\"}Ê\\x1e¯\\x85\\x8d dyÃ\\x18ò 9q½\\x88KËv·Ã×\\x0f££¡£Ù\\x83wó_V¬ùiíû\\x00 ÊÊ\\x13\\x01\\x13\\x02\\x13\\x03À+À/À,À0Ì©Ì¨À\\x13À\\x14\\x00\\x9c\\x00\\x9d\\x00/\\x005\\x01\\x00\\x01\\x93jj\\x00\\x00\\x00\\x17\\x00\\x00\\x00\\x0b\\x00\\x02\\x01\\x00\\x00\\x1b\\x00\\x03\\x02\\x00\\x02\\x00\" HTTPStatus.BAD_REQUEST -\n"
     ]
    }
   ],
   "source": [
    "app = Flask(__name__)\n",
    "\n",
    "app.config[\"SERVER_NAME\"] = \"localhost\"\n",
    "app.config[\"APPLICATION_ROOT\"] = \"/\"\n",
    "\n",
    "@app.route(\"/\")\n",
    "def index():\n",
    "    return \"Hello, world!\"\n",
    "\n",
    "if __name__ == \"__main__\":\n",
    "    app.run(host=\"0.0.0.0\", port=80)\n"
   ]
  },
  {
   "cell_type": "code",
   "execution_count": 2,
   "metadata": {},
   "outputs": [
    {
     "name": "stdout",
     "output_type": "stream",
     "text": [
      "Collecting python-telegram-botNote: you may need to restart the kernel to use updated packages.\n",
      "\n",
      "  Downloading python_telegram_bot-20.3-py3-none-any.whl (545 kB)\n",
      "     ---------------------------------------- 0.0/545.4 kB ? eta -:--:--\n",
      "     --- --------------------------------- 51.2/545.4 kB 871.5 kB/s eta 0:00:01\n",
      "     ------------ ------------------------- 174.1/545.4 kB 1.7 MB/s eta 0:00:01\n",
      "     ------------------------- ------------ 368.6/545.4 kB 2.5 MB/s eta 0:00:01\n",
      "     -------------------------------------- 545.4/545.4 kB 2.8 MB/s eta 0:00:00\n",
      "Collecting httpx~=0.24.0\n",
      "  Downloading httpx-0.24.1-py3-none-any.whl (75 kB)\n",
      "     ---------------------------------------- 0.0/75.4 kB ? eta -:--:--\n",
      "     ---------------------------------------- 75.4/75.4 kB ? eta 0:00:00\n",
      "Requirement already satisfied: sniffio in c:\\users\\vmakh\\anaconda3\\lib\\site-packages (from httpx~=0.24.0->python-telegram-bot) (1.2.0)\n",
      "Requirement already satisfied: idna in c:\\users\\vmakh\\anaconda3\\lib\\site-packages (from httpx~=0.24.0->python-telegram-bot) (3.4)\n",
      "Requirement already satisfied: certifi in c:\\users\\vmakh\\anaconda3\\lib\\site-packages (from httpx~=0.24.0->python-telegram-bot) (2023.5.7)\n",
      "Collecting httpcore<0.18.0,>=0.15.0\n",
      "  Downloading httpcore-0.17.2-py3-none-any.whl (72 kB)\n",
      "     ---------------------------------------- 0.0/72.5 kB ? eta -:--:--\n",
      "     ---------------------------------------- 72.5/72.5 kB ? eta 0:00:00\n",
      "Collecting h11<0.15,>=0.13\n",
      "  Downloading h11-0.14.0-py3-none-any.whl (58 kB)\n",
      "     ---------------------------------------- 0.0/58.3 kB ? eta -:--:--\n",
      "     ---------------------------------------- 58.3/58.3 kB 3.0 MB/s eta 0:00:00\n",
      "Requirement already satisfied: anyio<5.0,>=3.0 in c:\\users\\vmakh\\anaconda3\\lib\\site-packages (from httpcore<0.18.0,>=0.15.0->httpx~=0.24.0->python-telegram-bot) (3.5.0)\n",
      "Installing collected packages: h11, httpcore, httpx, python-telegram-bot\n",
      "Successfully installed h11-0.14.0 httpcore-0.17.2 httpx-0.24.1 python-telegram-bot-20.3\n"
     ]
    }
   ],
   "source": [
    "pip install python-telegram-bot"
   ]
  },
  {
   "cell_type": "code",
   "execution_count": 2,
   "metadata": {},
   "outputs": [
    {
     "name": "stdout",
     "output_type": "stream",
     "text": [
      "Collecting pymorphy2\n",
      "  Using cached pymorphy2-0.9.1-py3-none-any.whl (55 kB)\n",
      "Collecting pymorphy2-dicts-ru<3.0,>=2.4\n",
      "  Using cached pymorphy2_dicts_ru-2.4.417127.4579844-py2.py3-none-any.whl (8.2 MB)\n",
      "Collecting dawg-python>=0.7.1\n",
      "  Using cached DAWG_Python-0.7.2-py2.py3-none-any.whl (11 kB)\n",
      "Collecting docopt>=0.6\n",
      "  Using cached docopt-0.6.2.tar.gz (25 kB)\n",
      "  Preparing metadata (setup.py): started\n",
      "  Preparing metadata (setup.py): finished with status 'done'\n",
      "Building wheels for collected packages: docopt\n",
      "  Building wheel for docopt (setup.py): started\n",
      "  Building wheel for docopt (setup.py): finished with status 'done'\n",
      "  Created wheel for docopt: filename=docopt-0.6.2-py2.py3-none-any.whl size=13775 sha256=a67523d9114ecd9281eab41148975930e16682dec9b84c2b13e1458d8fb35302\n",
      "  Stored in directory: c:\\users\\vmakh\\appdata\\local\\pip\\cache\\wheels\\fc\\ab\\d4\\5da2067ac95b36618c629a5f93f809425700506f72c9732fac\n",
      "Successfully built docopt\n",
      "Installing collected packages: pymorphy2-dicts-ru, docopt, dawg-python, pymorphy2\n",
      "Successfully installed dawg-python-0.7.2 docopt-0.6.2 pymorphy2-0.9.1 pymorphy2-dicts-ru-2.4.417127.4579844\n",
      "Note: you may need to restart the kernel to use updated packages.\n"
     ]
    }
   ],
   "source": [
    "pip install pymorphy2 "
   ]
  },
  {
   "cell_type": "code",
   "execution_count": 2,
   "metadata": {},
   "outputs": [
    {
     "name": "stdout",
     "output_type": "stream",
     "text": [
      "Collecting stop_words\n",
      "  Using cached stop-words-2018.7.23.tar.gz (31 kB)\n",
      "  Preparing metadata (setup.py): started\n",
      "  Preparing metadata (setup.py): finished with status 'done'\n",
      "Building wheels for collected packages: stop_words\n",
      "  Building wheel for stop_words (setup.py): started\n",
      "  Building wheel for stop_words (setup.py): finished with status 'done'\n",
      "  Created wheel for stop_words: filename=stop_words-2018.7.23-py3-none-any.whl size=32918 sha256=bc6b3f5c8de4876946530ccfd9832b5752eaba0759f06c02b469e88fcd1a9809\n",
      "  Stored in directory: c:\\users\\vmakh\\appdata\\local\\pip\\cache\\wheels\\d0\\1a\\23\\f12552a50cb09bcc1694a5ebb6c2cd5f2a0311de2b8c3d9a89\n",
      "Successfully built stop_words\n",
      "Installing collected packages: stop_words\n",
      "Successfully installed stop_words-2018.7.23\n",
      "Note: you may need to restart the kernel to use updated packages.\n"
     ]
    }
   ],
   "source": [
    "pip install stop_words"
   ]
  },
  {
   "cell_type": "code",
   "execution_count": 1,
   "metadata": {},
   "outputs": [
    {
     "name": "stdout",
     "output_type": "stream",
     "text": [
      "Collecting annoy\n",
      "  Downloading annoy-1.17.3.tar.gz (647 kB)\n",
      "     ---------------------------------------- 0.0/647.5 kB ? eta -:--:--\n",
      "     -- ---------------------------------- 41.0/647.5 kB 991.0 kB/s eta 0:00:01\n",
      "     -------- ----------------------------- 143.4/647.5 kB 1.7 MB/s eta 0:00:01\n",
      "     ---------------- --------------------- 276.5/647.5 kB 2.1 MB/s eta 0:00:01\n",
      "     ---------------------------------- --- 593.9/647.5 kB 3.1 MB/s eta 0:00:01\n",
      "     -------------------------------------- 647.5/647.5 kB 2.7 MB/s eta 0:00:00\n",
      "  Preparing metadata (setup.py): started\n",
      "  Preparing metadata (setup.py): finished with status 'done'\n",
      "Building wheels for collected packages: annoy\n",
      "  Building wheel for annoy (setup.py): started\n",
      "  Building wheel for annoy (setup.py): finished with status 'done'\n",
      "  Created wheel for annoy: filename=annoy-1.17.3-cp310-cp310-win_amd64.whl size=52188 sha256=1bd826106424df1565a625a994597f455df54f32fce9ee34957091312608711d\n",
      "  Stored in directory: c:\\users\\vmakh\\appdata\\local\\pip\\cache\\wheels\\64\\8a\\da\\f714bcf46c5efdcfcac0559e63370c21abe961c48e3992465a\n",
      "Successfully built annoy\n",
      "Installing collected packages: annoy\n",
      "Successfully installed annoy-1.17.3\n",
      "Note: you may need to restart the kernel to use updated packages.\n"
     ]
    }
   ],
   "source": [
    "pip install annoy"
   ]
  },
  {
   "cell_type": "code",
   "execution_count": 2,
   "metadata": {},
   "outputs": [
    {
     "name": "stdout",
     "output_type": "stream",
     "text": [
      "Collecting gensim\n",
      "  Downloading gensim-4.3.1-cp310-cp310-win_amd64.whl (24.0 MB)\n",
      "     ---------------------------------------- 0.0/24.0 MB ? eta -:--:--\n",
      "     --------------------------------------- 0.0/24.0 MB 653.6 kB/s eta 0:00:37\n",
      "     ---------------------------------------- 0.2/24.0 MB 1.3 MB/s eta 0:00:19\n",
      "      --------------------------------------- 0.3/24.0 MB 2.1 MB/s eta 0:00:12\n",
      "     - -------------------------------------- 0.6/24.0 MB 3.0 MB/s eta 0:00:08\n",
      "     - -------------------------------------- 1.0/24.0 MB 4.1 MB/s eta 0:00:06\n",
      "     - -------------------------------------- 1.0/24.0 MB 4.1 MB/s eta 0:00:06\n",
      "     -- ------------------------------------- 1.5/24.0 MB 4.1 MB/s eta 0:00:06\n",
      "     --- ------------------------------------ 2.1/24.0 MB 5.2 MB/s eta 0:00:05\n",
      "     --- ------------------------------------ 2.4/24.0 MB 5.6 MB/s eta 0:00:04\n",
      "     --- ------------------------------------ 2.4/24.0 MB 5.6 MB/s eta 0:00:04\n",
      "     ---- ----------------------------------- 2.7/24.0 MB 4.9 MB/s eta 0:00:05\n",
      "     ----- ---------------------------------- 3.5/24.0 MB 5.9 MB/s eta 0:00:04\n",
      "     ------ --------------------------------- 4.1/24.0 MB 6.4 MB/s eta 0:00:04\n",
      "     ------- -------------------------------- 4.4/24.0 MB 6.4 MB/s eta 0:00:04\n",
      "     -------- ------------------------------- 4.9/24.0 MB 6.7 MB/s eta 0:00:03\n",
      "     --------- ------------------------------ 5.4/24.0 MB 6.9 MB/s eta 0:00:03\n",
      "     --------- ------------------------------ 5.8/24.0 MB 7.0 MB/s eta 0:00:03\n",
      "     ---------- ----------------------------- 6.2/24.0 MB 7.1 MB/s eta 0:00:03\n",
      "     ----------- ---------------------------- 6.7/24.0 MB 7.2 MB/s eta 0:00:03\n",
      "     ----------- ---------------------------- 7.2/24.0 MB 7.4 MB/s eta 0:00:03\n",
      "     ------------ --------------------------- 7.6/24.0 MB 7.5 MB/s eta 0:00:03\n",
      "     ------------- -------------------------- 8.0/24.0 MB 7.6 MB/s eta 0:00:03\n",
      "     -------------- ------------------------- 8.5/24.0 MB 7.5 MB/s eta 0:00:03\n",
      "     --------------- ------------------------ 9.1/24.0 MB 7.7 MB/s eta 0:00:02\n",
      "     ---------------- ----------------------- 9.7/24.0 MB 7.8 MB/s eta 0:00:02\n",
      "     ---------------- ----------------------- 10.2/24.0 MB 7.8 MB/s eta 0:00:02\n",
      "     ----------------- ---------------------- 10.6/24.0 MB 8.7 MB/s eta 0:00:02\n",
      "     ------------------ --------------------- 11.1/24.0 MB 8.8 MB/s eta 0:00:02\n",
      "     ------------------- -------------------- 11.6/24.0 MB 9.5 MB/s eta 0:00:02\n",
      "     ------------------- -------------------- 11.8/24.0 MB 9.4 MB/s eta 0:00:02\n",
      "     -------------------- ------------------- 12.5/24.0 MB 9.1 MB/s eta 0:00:02\n",
      "     --------------------- ------------------ 12.8/24.0 MB 9.9 MB/s eta 0:00:02\n",
      "     --------------------- ------------------ 13.1/24.0 MB 9.6 MB/s eta 0:00:02\n",
      "     ---------------------- ----------------- 13.4/24.0 MB 9.4 MB/s eta 0:00:02\n",
      "     ----------------------- ---------------- 13.8/24.0 MB 9.2 MB/s eta 0:00:02\n",
      "     ----------------------- ---------------- 14.1/24.0 MB 9.0 MB/s eta 0:00:02\n",
      "     ------------------------ --------------- 14.4/24.0 MB 9.0 MB/s eta 0:00:02\n",
      "     ------------------------ --------------- 14.8/24.0 MB 9.0 MB/s eta 0:00:02\n",
      "     ------------------------- -------------- 15.2/24.0 MB 9.0 MB/s eta 0:00:01\n",
      "     ------------------------- -------------- 15.6/24.0 MB 8.8 MB/s eta 0:00:01\n",
      "     -------------------------- ------------- 15.9/24.0 MB 8.8 MB/s eta 0:00:01\n",
      "     --------------------------- ------------ 16.3/24.0 MB 8.7 MB/s eta 0:00:01\n",
      "     --------------------------- ------------ 16.6/24.0 MB 8.6 MB/s eta 0:00:01\n",
      "     ---------------------------- ----------- 17.0/24.0 MB 8.6 MB/s eta 0:00:01\n",
      "     ---------------------------- ----------- 17.3/24.0 MB 8.5 MB/s eta 0:00:01\n",
      "     ----------------------------- ---------- 17.6/24.0 MB 8.3 MB/s eta 0:00:01\n",
      "     ------------------------------ --------- 18.1/24.0 MB 8.4 MB/s eta 0:00:01\n",
      "     ------------------------------- -------- 18.9/24.0 MB 8.2 MB/s eta 0:00:01\n",
      "     -------------------------------- ------- 19.3/24.0 MB 8.2 MB/s eta 0:00:01\n",
      "     --------------------------------- ------ 19.8/24.0 MB 8.1 MB/s eta 0:00:01\n",
      "     --------------------------------- ------ 20.2/24.0 MB 8.0 MB/s eta 0:00:01\n",
      "     ---------------------------------- ----- 20.6/24.0 MB 7.9 MB/s eta 0:00:01\n",
      "     ----------------------------------- ---- 21.0/24.0 MB 7.8 MB/s eta 0:00:01\n",
      "     ----------------------------------- ---- 21.3/24.0 MB 7.7 MB/s eta 0:00:01\n",
      "     ------------------------------------ --- 21.7/24.0 MB 7.7 MB/s eta 0:00:01\n",
      "     ------------------------------------ --- 22.0/24.0 MB 7.9 MB/s eta 0:00:01\n",
      "     ------------------------------------- -- 22.4/24.0 MB 7.7 MB/s eta 0:00:01\n",
      "     -------------------------------------- - 22.8/24.0 MB 7.6 MB/s eta 0:00:01\n",
      "     -------------------------------------- - 23.2/24.0 MB 7.6 MB/s eta 0:00:01\n",
      "     ---------------------------------------  23.5/24.0 MB 7.6 MB/s eta 0:00:01\n",
      "     ---------------------------------------  23.9/24.0 MB 7.7 MB/s eta 0:00:01\n",
      "     ---------------------------------------  24.0/24.0 MB 7.6 MB/s eta 0:00:01\n",
      "     ---------------------------------------  24.0/24.0 MB 7.6 MB/s eta 0:00:01\n",
      "     ---------------------------------------  24.0/24.0 MB 7.6 MB/s eta 0:00:01\n",
      "     ---------------------------------------- 24.0/24.0 MB 6.7 MB/s eta 0:00:00\n",
      "Requirement already satisfied: numpy>=1.18.5 in c:\\users\\vmakh\\anaconda3\\lib\\site-packages (from gensim) (1.23.5)\n",
      "Collecting smart-open>=1.8.1\n",
      "  Using cached smart_open-6.3.0-py3-none-any.whl (56 kB)\n",
      "Requirement already satisfied: scipy>=1.7.0 in c:\\users\\vmakh\\anaconda3\\lib\\site-packages (from gensim) (1.10.1)\n",
      "Installing collected packages: smart-open, gensim\n",
      "Successfully installed gensim-4.3.1 smart-open-6.3.0\n",
      "Note: you may need to restart the kernel to use updated packages.\n"
     ]
    }
   ],
   "source": [
    "pip install gensim"
   ]
  },
  {
   "cell_type": "code",
   "execution_count": 1,
   "metadata": {},
   "outputs": [],
   "source": [
    "import os\n",
    "from telegram.ext  import Updater, CommandHandler, MessageHandler\n",
    "from telegram.ext import filters\n",
    "import string\n",
    "from pymorphy2 import MorphAnalyzer\n",
    "from stop_words import get_stop_words\n",
    "import annoy\n",
    "from gensim.models import Word2Vec, FastText\n",
    "import pickle\n",
    "import numpy as np\n",
    "from tqdm import tqdm_notebook\n",
    "import pandas as pd\n",
    "from tqdm.notebook import tqdm"
   ]
  },
  {
   "cell_type": "code",
   "execution_count": 44,
   "metadata": {},
   "outputs": [
    {
     "name": "stdout",
     "output_type": "stream",
     "text": [
      "187.zip  image\t\t lesson_2_v01.ipynb  lesson-2.zip  prepared_answers.txt\r\n",
      "corpus\t lesson_2.ipynb  lesson_2_v02.ipynb  Otvety.txt\r\n"
     ]
    }
   ],
   "source": [
    "!ls ../2"
   ]
  },
  {
   "cell_type": "code",
   "execution_count": 14,
   "metadata": {},
   "outputs": [
    {
     "name": "stderr",
     "output_type": "stream",
     "text": [
      "C:\\Users\\vmakh\\AppData\\Local\\Temp\\ipykernel_20224\\2092572054.py:10: TqdmDeprecationWarning: This function will be removed in tqdm==5.0.0\n",
      "Please use `tqdm.notebook.tqdm` instead of `tqdm.tqdm_notebook`\n",
      "  for line in tqdm_notebook(fin):\n"
     ]
    },
    {
     "data": {
      "application/vnd.jupyter.widget-view+json": {
       "model_id": "6f2a5447b17d469c83ffff20e004fb2a",
       "version_major": 2,
       "version_minor": 0
      },
      "text/plain": [
       "0it [00:00, ?it/s]"
      ]
     },
     "metadata": {},
     "output_type": "display_data"
    }
   ],
   "source": [
    "assert True\n",
    "\n",
    "#Small preprocess of the answers\n",
    "\n",
    "question = None\n",
    "written = False\n",
    "\n",
    "with open(\"prepared_answers.txt\", \"w\", encoding=\"utf-8\") as fout:\n",
    "    with open(\"Otvety.txt\", \"r\", encoding='utf-8') as fin:\n",
    "        for line in tqdm_notebook(fin):\n",
    "            if line.startswith(\"---\"):\n",
    "                written = False\n",
    "                continue\n",
    "            if not written and question is not None:\n",
    "                fout.write(question.replace(\"\\t\", \" \").strip() + \"\\t\" + line.replace(\"\\t\", \" \"))\n",
    "                written = True\n",
    "                question = None\n",
    "                continue\n",
    "            if not written:\n",
    "                question = line.strip()\n",
    "                continue"
   ]
  },
  {
   "cell_type": "code",
   "execution_count": 2,
   "metadata": {},
   "outputs": [],
   "source": [
    "def preprocess_txt(line):\n",
    "    spls = \"\".join(i for i in line.strip() if i not in exclude).split()\n",
    "    spls = [morpher.parse(i.lower())[0].normal_form for i in spls]\n",
    "    spls = [i for i in spls if i not in sw and i != \"\"]\n",
    "    return spls"
   ]
  },
  {
   "cell_type": "code",
   "execution_count": 3,
   "metadata": {},
   "outputs": [],
   "source": [
    "morpher = MorphAnalyzer()\n",
    "sw = set(get_stop_words(\"ru\"))\n",
    "exclude = set(string.punctuation)"
   ]
  },
  {
   "cell_type": "code",
   "execution_count": 4,
   "metadata": {},
   "outputs": [
    {
     "name": "stderr",
     "output_type": "stream",
     "text": [
      "C:\\Users\\vmakh\\AppData\\Local\\Temp\\ipykernel_8832\\2245792659.py:13: TqdmDeprecationWarning: This function will be removed in tqdm==5.0.0\n",
      "Please use `tqdm.notebook.tqdm` instead of `tqdm.tqdm_notebook`\n",
      "  for line in tqdm_notebook(fin):\n"
     ]
    },
    {
     "data": {
      "application/vnd.jupyter.widget-view+json": {
       "model_id": "ee57394ace564da0b76e4017592a47e6",
       "version_major": 2,
       "version_minor": 0
      },
      "text/plain": [
       "0it [00:00, ?it/s]"
      ]
     },
     "metadata": {},
     "output_type": "display_data"
    },
    {
     "ename": "KeyboardInterrupt",
     "evalue": "",
     "output_type": "error",
     "traceback": [
      "\u001b[1;31m---------------------------------------------------------------------------\u001b[0m",
      "\u001b[1;31mKeyboardInterrupt\u001b[0m                         Traceback (most recent call last)",
      "Cell \u001b[1;32mIn[4], line 14\u001b[0m\n\u001b[0;32m     12\u001b[0m \u001b[38;5;28;01mwith\u001b[39;00m \u001b[38;5;28mopen\u001b[39m(\u001b[38;5;124m\"\u001b[39m\u001b[38;5;124mOtvety.txt\u001b[39m\u001b[38;5;124m\"\u001b[39m, \u001b[38;5;124m\"\u001b[39m\u001b[38;5;124mr\u001b[39m\u001b[38;5;124m\"\u001b[39m, encoding\u001b[38;5;241m=\u001b[39m\u001b[38;5;124m'\u001b[39m\u001b[38;5;124mutf-8\u001b[39m\u001b[38;5;124m'\u001b[39m) \u001b[38;5;28;01mas\u001b[39;00m fin:\n\u001b[0;32m     13\u001b[0m     \u001b[38;5;28;01mfor\u001b[39;00m line \u001b[38;5;129;01min\u001b[39;00m tqdm_notebook(fin):\n\u001b[1;32m---> 14\u001b[0m         spls \u001b[38;5;241m=\u001b[39m \u001b[43mpreprocess_txt\u001b[49m\u001b[43m(\u001b[49m\u001b[43mline\u001b[49m\u001b[43m)\u001b[49m\n\u001b[0;32m     15\u001b[0m         sentences\u001b[38;5;241m.\u001b[39mappend(spls)\n\u001b[0;32m     16\u001b[0m         c \u001b[38;5;241m+\u001b[39m\u001b[38;5;241m=\u001b[39m \u001b[38;5;241m1\u001b[39m\n",
      "Cell \u001b[1;32mIn[2], line 3\u001b[0m, in \u001b[0;36mpreprocess_txt\u001b[1;34m(line)\u001b[0m\n\u001b[0;32m      1\u001b[0m \u001b[38;5;28;01mdef\u001b[39;00m \u001b[38;5;21mpreprocess_txt\u001b[39m(line):\n\u001b[0;32m      2\u001b[0m     spls \u001b[38;5;241m=\u001b[39m \u001b[38;5;124m\"\u001b[39m\u001b[38;5;124m\"\u001b[39m\u001b[38;5;241m.\u001b[39mjoin(i \u001b[38;5;28;01mfor\u001b[39;00m i \u001b[38;5;129;01min\u001b[39;00m line\u001b[38;5;241m.\u001b[39mstrip() \u001b[38;5;28;01mif\u001b[39;00m i \u001b[38;5;129;01mnot\u001b[39;00m \u001b[38;5;129;01min\u001b[39;00m exclude)\u001b[38;5;241m.\u001b[39msplit()\n\u001b[1;32m----> 3\u001b[0m     spls \u001b[38;5;241m=\u001b[39m [morpher\u001b[38;5;241m.\u001b[39mparse(i\u001b[38;5;241m.\u001b[39mlower())[\u001b[38;5;241m0\u001b[39m]\u001b[38;5;241m.\u001b[39mnormal_form \u001b[38;5;28;01mfor\u001b[39;00m i \u001b[38;5;129;01min\u001b[39;00m spls]\n\u001b[0;32m      4\u001b[0m     spls \u001b[38;5;241m=\u001b[39m [i \u001b[38;5;28;01mfor\u001b[39;00m i \u001b[38;5;129;01min\u001b[39;00m spls \u001b[38;5;28;01mif\u001b[39;00m i \u001b[38;5;129;01mnot\u001b[39;00m \u001b[38;5;129;01min\u001b[39;00m sw \u001b[38;5;129;01mand\u001b[39;00m i \u001b[38;5;241m!=\u001b[39m \u001b[38;5;124m\"\u001b[39m\u001b[38;5;124m\"\u001b[39m]\n\u001b[0;32m      5\u001b[0m     \u001b[38;5;28;01mreturn\u001b[39;00m spls\n",
      "Cell \u001b[1;32mIn[2], line 3\u001b[0m, in \u001b[0;36m<listcomp>\u001b[1;34m(.0)\u001b[0m\n\u001b[0;32m      1\u001b[0m \u001b[38;5;28;01mdef\u001b[39;00m \u001b[38;5;21mpreprocess_txt\u001b[39m(line):\n\u001b[0;32m      2\u001b[0m     spls \u001b[38;5;241m=\u001b[39m \u001b[38;5;124m\"\u001b[39m\u001b[38;5;124m\"\u001b[39m\u001b[38;5;241m.\u001b[39mjoin(i \u001b[38;5;28;01mfor\u001b[39;00m i \u001b[38;5;129;01min\u001b[39;00m line\u001b[38;5;241m.\u001b[39mstrip() \u001b[38;5;28;01mif\u001b[39;00m i \u001b[38;5;129;01mnot\u001b[39;00m \u001b[38;5;129;01min\u001b[39;00m exclude)\u001b[38;5;241m.\u001b[39msplit()\n\u001b[1;32m----> 3\u001b[0m     spls \u001b[38;5;241m=\u001b[39m [\u001b[43mmorpher\u001b[49m\u001b[38;5;241;43m.\u001b[39;49m\u001b[43mparse\u001b[49m\u001b[43m(\u001b[49m\u001b[43mi\u001b[49m\u001b[38;5;241;43m.\u001b[39;49m\u001b[43mlower\u001b[49m\u001b[43m(\u001b[49m\u001b[43m)\u001b[49m\u001b[43m)\u001b[49m[\u001b[38;5;241m0\u001b[39m]\u001b[38;5;241m.\u001b[39mnormal_form \u001b[38;5;28;01mfor\u001b[39;00m i \u001b[38;5;129;01min\u001b[39;00m spls]\n\u001b[0;32m      4\u001b[0m     spls \u001b[38;5;241m=\u001b[39m [i \u001b[38;5;28;01mfor\u001b[39;00m i \u001b[38;5;129;01min\u001b[39;00m spls \u001b[38;5;28;01mif\u001b[39;00m i \u001b[38;5;129;01mnot\u001b[39;00m \u001b[38;5;129;01min\u001b[39;00m sw \u001b[38;5;129;01mand\u001b[39;00m i \u001b[38;5;241m!=\u001b[39m \u001b[38;5;124m\"\u001b[39m\u001b[38;5;124m\"\u001b[39m]\n\u001b[0;32m      5\u001b[0m     \u001b[38;5;28;01mreturn\u001b[39;00m spls\n",
      "File \u001b[1;32m~\\anaconda3\\lib\\site-packages\\pymorphy2\\analyzer.py:321\u001b[0m, in \u001b[0;36mMorphAnalyzer.parse\u001b[1;34m(self, word)\u001b[0m\n\u001b[0;32m    318\u001b[0m         \u001b[38;5;28;01mbreak\u001b[39;00m\n\u001b[0;32m    320\u001b[0m \u001b[38;5;28;01mif\u001b[39;00m \u001b[38;5;28mself\u001b[39m\u001b[38;5;241m.\u001b[39mprob_estimator \u001b[38;5;129;01mis\u001b[39;00m \u001b[38;5;129;01mnot\u001b[39;00m \u001b[38;5;28;01mNone\u001b[39;00m:\n\u001b[1;32m--> 321\u001b[0m     res \u001b[38;5;241m=\u001b[39m \u001b[38;5;28;43mself\u001b[39;49m\u001b[38;5;241;43m.\u001b[39;49m\u001b[43mprob_estimator\u001b[49m\u001b[38;5;241;43m.\u001b[39;49m\u001b[43mapply_to_parses\u001b[49m\u001b[43m(\u001b[49m\u001b[43mword\u001b[49m\u001b[43m,\u001b[49m\u001b[43m \u001b[49m\u001b[43mword_lower\u001b[49m\u001b[43m,\u001b[49m\u001b[43m \u001b[49m\u001b[43mres\u001b[49m\u001b[43m)\u001b[49m\n\u001b[0;32m    323\u001b[0m \u001b[38;5;28;01mif\u001b[39;00m \u001b[38;5;28mself\u001b[39m\u001b[38;5;241m.\u001b[39m_result_type \u001b[38;5;129;01mis\u001b[39;00m \u001b[38;5;28;01mNone\u001b[39;00m:\n\u001b[0;32m    324\u001b[0m     \u001b[38;5;28;01mreturn\u001b[39;00m res\n",
      "File \u001b[1;32m~\\anaconda3\\lib\\site-packages\\pymorphy2\\analyzer.py:77\u001b[0m, in \u001b[0;36mProbabilityEstimator.apply_to_parses\u001b[1;34m(self, word, word_lower, parses)\u001b[0m\n\u001b[0;32m     74\u001b[0m \u001b[38;5;28;01mif\u001b[39;00m \u001b[38;5;129;01mnot\u001b[39;00m parses:\n\u001b[0;32m     75\u001b[0m     \u001b[38;5;28;01mreturn\u001b[39;00m parses\n\u001b[1;32m---> 77\u001b[0m probs \u001b[38;5;241m=\u001b[39m [\u001b[38;5;28mself\u001b[39m\u001b[38;5;241m.\u001b[39mp_t_given_w\u001b[38;5;241m.\u001b[39mprob(word_lower, tag)\n\u001b[0;32m     78\u001b[0m         \u001b[38;5;28;01mfor\u001b[39;00m (word, tag, normal_form, score, methods_stack) \u001b[38;5;129;01min\u001b[39;00m parses]\n\u001b[0;32m     80\u001b[0m \u001b[38;5;28;01mif\u001b[39;00m \u001b[38;5;28msum\u001b[39m(probs) \u001b[38;5;241m==\u001b[39m \u001b[38;5;241m0\u001b[39m:\n\u001b[0;32m     81\u001b[0m     \u001b[38;5;66;03m# no P(t|w) information is available; return normalized estimate\u001b[39;00m\n\u001b[0;32m     82\u001b[0m     k \u001b[38;5;241m=\u001b[39m \u001b[38;5;241m1.0\u001b[39m \u001b[38;5;241m/\u001b[39m \u001b[38;5;28msum\u001b[39m(\u001b[38;5;28mmap\u001b[39m(_score_getter, parses))\n",
      "File \u001b[1;32m~\\anaconda3\\lib\\site-packages\\pymorphy2\\analyzer.py:77\u001b[0m, in \u001b[0;36m<listcomp>\u001b[1;34m(.0)\u001b[0m\n\u001b[0;32m     74\u001b[0m \u001b[38;5;28;01mif\u001b[39;00m \u001b[38;5;129;01mnot\u001b[39;00m parses:\n\u001b[0;32m     75\u001b[0m     \u001b[38;5;28;01mreturn\u001b[39;00m parses\n\u001b[1;32m---> 77\u001b[0m probs \u001b[38;5;241m=\u001b[39m [\u001b[38;5;28;43mself\u001b[39;49m\u001b[38;5;241;43m.\u001b[39;49m\u001b[43mp_t_given_w\u001b[49m\u001b[38;5;241;43m.\u001b[39;49m\u001b[43mprob\u001b[49m\u001b[43m(\u001b[49m\u001b[43mword_lower\u001b[49m\u001b[43m,\u001b[49m\u001b[43m \u001b[49m\u001b[43mtag\u001b[49m\u001b[43m)\u001b[49m\n\u001b[0;32m     78\u001b[0m         \u001b[38;5;28;01mfor\u001b[39;00m (word, tag, normal_form, score, methods_stack) \u001b[38;5;129;01min\u001b[39;00m parses]\n\u001b[0;32m     80\u001b[0m \u001b[38;5;28;01mif\u001b[39;00m \u001b[38;5;28msum\u001b[39m(probs) \u001b[38;5;241m==\u001b[39m \u001b[38;5;241m0\u001b[39m:\n\u001b[0;32m     81\u001b[0m     \u001b[38;5;66;03m# no P(t|w) information is available; return normalized estimate\u001b[39;00m\n\u001b[0;32m     82\u001b[0m     k \u001b[38;5;241m=\u001b[39m \u001b[38;5;241m1.0\u001b[39m \u001b[38;5;241m/\u001b[39m \u001b[38;5;28msum\u001b[39m(\u001b[38;5;28mmap\u001b[39m(_score_getter, parses))\n",
      "File \u001b[1;32m~\\anaconda3\\lib\\site-packages\\pymorphy2\\dawg.py:66\u001b[0m, in \u001b[0;36mConditionalProbDistDAWG.prob\u001b[1;34m(self, word, tag)\u001b[0m\n\u001b[0;32m     64\u001b[0m \u001b[38;5;28;01mdef\u001b[39;00m \u001b[38;5;21mprob\u001b[39m(\u001b[38;5;28mself\u001b[39m, word, tag):\n\u001b[0;32m     65\u001b[0m     dawg_key \u001b[38;5;241m=\u001b[39m \u001b[38;5;124m\"\u001b[39m\u001b[38;5;132;01m%s\u001b[39;00m\u001b[38;5;124m:\u001b[39m\u001b[38;5;132;01m%s\u001b[39;00m\u001b[38;5;124m\"\u001b[39m \u001b[38;5;241m%\u001b[39m (word, tag)\n\u001b[1;32m---> 66\u001b[0m     \u001b[38;5;28;01mreturn\u001b[39;00m \u001b[38;5;28;43mself\u001b[39;49m\u001b[38;5;241;43m.\u001b[39;49m\u001b[43mget\u001b[49m\u001b[43m(\u001b[49m\u001b[43mdawg_key\u001b[49m\u001b[43m,\u001b[49m\u001b[43m \u001b[49m\u001b[38;5;241;43m0\u001b[39;49m\u001b[43m)\u001b[49m \u001b[38;5;241m/\u001b[39m \u001b[38;5;28mself\u001b[39m\u001b[38;5;241m.\u001b[39mMULTIPLIER\n",
      "File \u001b[1;32m~\\anaconda3\\lib\\site-packages\\dawg_python\\dawgs.py:453\u001b[0m, in \u001b[0;36mIntDAWG.get\u001b[1;34m(self, key, default)\u001b[0m\n\u001b[0;32m    451\u001b[0m \u001b[38;5;28;01mif\u001b[39;00m \u001b[38;5;129;01mnot\u001b[39;00m \u001b[38;5;28misinstance\u001b[39m(key, \u001b[38;5;28mbytes\u001b[39m):\n\u001b[0;32m    452\u001b[0m     key \u001b[38;5;241m=\u001b[39m key\u001b[38;5;241m.\u001b[39mencode(\u001b[38;5;124m'\u001b[39m\u001b[38;5;124mutf8\u001b[39m\u001b[38;5;124m'\u001b[39m)\n\u001b[1;32m--> 453\u001b[0m res \u001b[38;5;241m=\u001b[39m \u001b[38;5;28;43mself\u001b[39;49m\u001b[38;5;241;43m.\u001b[39;49m\u001b[43mb_get_value\u001b[49m\u001b[43m(\u001b[49m\u001b[43mkey\u001b[49m\u001b[43m)\u001b[49m\n\u001b[0;32m    454\u001b[0m \u001b[38;5;28;01mif\u001b[39;00m res \u001b[38;5;241m==\u001b[39m LOOKUP_ERROR:\n\u001b[0;32m    455\u001b[0m     \u001b[38;5;28;01mreturn\u001b[39;00m default\n",
      "File \u001b[1;32m~\\anaconda3\\lib\\site-packages\\dawg_python\\dawgs.py:459\u001b[0m, in \u001b[0;36mIntDAWG.b_get_value\u001b[1;34m(self, key)\u001b[0m\n\u001b[0;32m    458\u001b[0m \u001b[38;5;28;01mdef\u001b[39;00m \u001b[38;5;21mb_get_value\u001b[39m(\u001b[38;5;28mself\u001b[39m, key):\n\u001b[1;32m--> 459\u001b[0m     \u001b[38;5;28;01mreturn\u001b[39;00m \u001b[38;5;28;43mself\u001b[39;49m\u001b[38;5;241;43m.\u001b[39;49m\u001b[43mdct\u001b[49m\u001b[38;5;241;43m.\u001b[39;49m\u001b[43mfind\u001b[49m\u001b[43m(\u001b[49m\u001b[43mkey\u001b[49m\u001b[43m)\u001b[49m\n",
      "File \u001b[1;32m~\\anaconda3\\lib\\site-packages\\dawg_python\\wrapper.py:44\u001b[0m, in \u001b[0;36mDictionary.find\u001b[1;34m(self, key)\u001b[0m\n\u001b[0;32m     42\u001b[0m \u001b[38;5;28;01mdef\u001b[39;00m \u001b[38;5;21mfind\u001b[39m(\u001b[38;5;28mself\u001b[39m, key):\n\u001b[0;32m     43\u001b[0m     \u001b[38;5;124m\"\u001b[39m\u001b[38;5;124mExact matching (returns value)\u001b[39m\u001b[38;5;124m\"\u001b[39m\n\u001b[1;32m---> 44\u001b[0m     index \u001b[38;5;241m=\u001b[39m \u001b[38;5;28;43mself\u001b[39;49m\u001b[38;5;241;43m.\u001b[39;49m\u001b[43mfollow_bytes\u001b[49m\u001b[43m(\u001b[49m\u001b[43mkey\u001b[49m\u001b[43m,\u001b[49m\u001b[43m \u001b[49m\u001b[38;5;28;43mself\u001b[39;49m\u001b[38;5;241;43m.\u001b[39;49m\u001b[43mROOT\u001b[49m\u001b[43m)\u001b[49m\n\u001b[0;32m     45\u001b[0m     \u001b[38;5;28;01mif\u001b[39;00m index \u001b[38;5;129;01mis\u001b[39;00m \u001b[38;5;28;01mNone\u001b[39;00m:\n\u001b[0;32m     46\u001b[0m         \u001b[38;5;28;01mreturn\u001b[39;00m \u001b[38;5;241m-\u001b[39m\u001b[38;5;241m1\u001b[39m\n",
      "File \u001b[1;32m~\\anaconda3\\lib\\site-packages\\dawg_python\\wrapper.py:64\u001b[0m, in \u001b[0;36mDictionary.follow_bytes\u001b[1;34m(self, s, index)\u001b[0m\n\u001b[0;32m     62\u001b[0m \u001b[38;5;124m\"\u001b[39m\u001b[38;5;124mFollows transitions.\u001b[39m\u001b[38;5;124m\"\u001b[39m\n\u001b[0;32m     63\u001b[0m \u001b[38;5;28;01mfor\u001b[39;00m ch \u001b[38;5;129;01min\u001b[39;00m s:\n\u001b[1;32m---> 64\u001b[0m     index \u001b[38;5;241m=\u001b[39m \u001b[38;5;28;43mself\u001b[39;49m\u001b[38;5;241;43m.\u001b[39;49m\u001b[43mfollow_char\u001b[49m\u001b[43m(\u001b[49m\u001b[43mint_from_byte\u001b[49m\u001b[43m(\u001b[49m\u001b[43mch\u001b[49m\u001b[43m)\u001b[49m\u001b[43m,\u001b[49m\u001b[43m \u001b[49m\u001b[43mindex\u001b[49m\u001b[43m)\u001b[49m\n\u001b[0;32m     65\u001b[0m     \u001b[38;5;28;01mif\u001b[39;00m index \u001b[38;5;129;01mis\u001b[39;00m \u001b[38;5;28;01mNone\u001b[39;00m:\n\u001b[0;32m     66\u001b[0m         \u001b[38;5;28;01mreturn\u001b[39;00m \u001b[38;5;28;01mNone\u001b[39;00m\n",
      "\u001b[1;31mKeyboardInterrupt\u001b[0m: "
     ]
    }
   ],
   "source": [
    "assert True\n",
    "\n",
    "# Preprocess for models fitting\n",
    "\n",
    "sentences = []\n",
    "\n",
    "morpher = MorphAnalyzer()\n",
    "sw = set(get_stop_words(\"ru\"))\n",
    "exclude = set(string.punctuation)\n",
    "c = 0\n",
    "\n",
    "with open(\"Otvety.txt\", \"r\", encoding='utf-8') as fin:\n",
    "    for line in tqdm_notebook(fin):\n",
    "        spls = preprocess_txt(line)\n",
    "        sentences.append(spls)\n",
    "        c += 1\n",
    "        if c > 500000:\n",
    "            break"
   ]
  },
  {
   "cell_type": "code",
   "execution_count": 19,
   "metadata": {},
   "outputs": [
    {
     "name": "stdout",
     "output_type": "stream",
     "text": [
      "start train fasttext\n"
     ]
    }
   ],
   "source": [
    "sentences = [i for i in sentences if len(i) > 2]\n",
    "print('start train fasttext')\n",
    "modelFT = FastText(sentences=sentences, min_count=1, window=5, workers=8)\n",
    "modelFT.save(\"ft_model\")"
   ]
  },
  {
   "cell_type": "code",
   "execution_count": 2,
   "metadata": {},
   "outputs": [],
   "source": [
    "modelFT = FastText.load(\"ft_model\")"
   ]
  },
  {
   "cell_type": "code",
   "execution_count": 7,
   "metadata": {},
   "outputs": [
    {
     "name": "stderr",
     "output_type": "stream",
     "text": [
      "C:\\Users\\vmakh\\AppData\\Local\\Temp\\ipykernel_12260\\2836660271.py:8: TqdmDeprecationWarning: This function will be removed in tqdm==5.0.0\n",
      "Please use `tqdm.notebook.tqdm` instead of `tqdm.tqdm_notebook`\n",
      "  for line in tqdm_notebook(f):\n"
     ]
    },
    {
     "data": {
      "application/vnd.jupyter.widget-view+json": {
       "model_id": "a1254bda72fb412385263bbcf62eddee",
       "version_major": 2,
       "version_minor": 0
      },
      "text/plain": [
       "0it [00:00, ?it/s]"
      ]
     },
     "metadata": {},
     "output_type": "display_data"
    }
   ],
   "source": [
    "#modelFT = FastText.load(\"ft_model\")\n",
    "ft_index = annoy.AnnoyIndex(100 ,'angular')\n",
    "\n",
    "index_map = {}\n",
    "counter = 0\n",
    "\n",
    "with open(\"prepared_answers.txt\", \"r\", encoding='utf-8') as f:\n",
    "    for line in tqdm_notebook(f):\n",
    "        n_ft = 0\n",
    "        spls = line.split(\"\\t\")\n",
    "        index_map[counter] = spls[1]\n",
    "        question = preprocess_txt(spls[0])\n",
    "        vector_ft = np.zeros(100)\n",
    "        for word in question:\n",
    "            if word in modelFT.wv:\n",
    "                vector_ft += modelFT.wv[word]\n",
    "                n_ft += 1\n",
    "        if n_ft > 0:\n",
    "            vector_ft = vector_ft / n_ft\n",
    "        ft_index.add_item(counter, vector_ft)\n",
    "            \n",
    "        counter += 1\n",
    "        if counter > 50000:\n",
    "            break\n",
    "\n",
    "ft_index.build(10)\n",
    "ft_index.save('speaker.ann')"
   ]
  },
  {
   "cell_type": "code",
   "execution_count": 5,
   "metadata": {},
   "outputs": [
    {
     "data": {
      "application/vnd.jupyter.widget-view+json": {
       "model_id": "1729ec3e61a84d21b970ee1b41b3933b",
       "version_major": 2,
       "version_minor": 0
      },
      "text/plain": [
       "0it [00:00, ?it/s]"
      ]
     },
     "metadata": {},
     "output_type": "display_data"
    }
   ],
   "source": [
    "file_path_from = 'speaker.ann'\n",
    "if not os.path.isfile(file_path_from):  \n",
    "    morpher = MorphAnalyzer()\n",
    "    sw = set(get_stop_words(\"ru\"))\n",
    "    exclude = set(string.punctuation)\n",
    "    modelFT = FastText.load(\"ft_model\")\n",
    "    ft_index = annoy.AnnoyIndex(100 ,'angular')\n",
    "\n",
    "    index_map = {}\n",
    "    counter = 0\n",
    "    with open(\"prepared_answers.txt\", \"r\", encoding='utf-8') as f:\n",
    "        for line in tqdm(f):\n",
    "            n_ft = 0\n",
    "            spls = line.split(\"\\t\")\n",
    "            index_map[counter] = spls[1]\n",
    "            question = preprocess_txt(spls[0])\n",
    "            vector_ft = np.zeros(100)\n",
    "            for word in question:\n",
    "                if word in modelFT.wv:\n",
    "                    vector_ft += modelFT.wv[word]\n",
    "                    n_ft += 1\n",
    "            if n_ft > 0:\n",
    "                vector_ft = vector_ft / n_ft\n",
    "            ft_index.add_item(counter, vector_ft)\n",
    "\n",
    "            counter += 1\n",
    "\n",
    "            if counter > 50_000:\n",
    "                break\n",
    "\n",
    "    ft_index.build(10)\n",
    "    ft_index.save('speaker.ann')\n",
    "    \n",
    "    with open(\"index_speaker.pkl\", \"wb\") as f:\n",
    "        pickle.dump(index_map, f)"
   ]
  },
  {
   "cell_type": "code",
   "execution_count": 9,
   "metadata": {},
   "outputs": [],
   "source": []
  },
  {
   "cell_type": "code",
   "execution_count": 4,
   "metadata": {},
   "outputs": [],
   "source": [
    "modelFT = FastText.load(\"ft_model\")"
   ]
  },
  {
   "cell_type": "code",
   "execution_count": 5,
   "metadata": {},
   "outputs": [],
   "source": [
    "ft_index = annoy.AnnoyIndex(100, 'angular')\n",
    "ft_index.load('speaker.ann')\n",
    "index_map = pd.read_pickle(\"index_speaker.pkl\")"
   ]
  },
  {
   "cell_type": "code",
   "execution_count": 6,
   "metadata": {},
   "outputs": [
    {
     "data": {
      "text/plain": [
       "([33820, 1453, 6212, 45395, 11243],\n",
       " [1.3154538869857788,\n",
       "  1.3155262470245361,\n",
       "  1.319723129272461,\n",
       "  1.3243521451950073,\n",
       "  1.324928879737854])"
      ]
     },
     "execution_count": 6,
     "metadata": {},
     "output_type": "execute_result"
    }
   ],
   "source": [
    "a = ft_index.get_nns_by_vector(np.random.permutation(100), 5, include_distances=True)\n",
    "a"
   ]
  },
  {
   "cell_type": "code",
   "execution_count": 7,
   "metadata": {},
   "outputs": [
    {
     "data": {
      "text/plain": [
       "'Говорят, мстят слабые, сильные прощают! Жизнь сама все расставит по местам рано или поздно - закон бумеранга существует. Зло всегда возвращается. Поэтому и тебе не надо мстить. Подними голову и иди дальше!. \\n'"
      ]
     },
     "execution_count": 7,
     "metadata": {},
     "output_type": "execute_result"
    }
   ],
   "source": [
    "[index_map[x] for x in a[0]][4]"
   ]
  },
  {
   "cell_type": "code",
   "execution_count": 8,
   "metadata": {},
   "outputs": [
    {
     "data": {
      "text/plain": [
       "[477, 1146]"
      ]
     },
     "execution_count": 8,
     "metadata": {},
     "output_type": "execute_result"
    }
   ],
   "source": [
    "ft_index.get_nns_by_vector(np.zeros(100), 2)"
   ]
  },
  {
   "cell_type": "code",
   "execution_count": 9,
   "metadata": {},
   "outputs": [
    {
     "data": {
      "text/html": [
       "<div>\n",
       "<style scoped>\n",
       "    .dataframe tbody tr th:only-of-type {\n",
       "        vertical-align: middle;\n",
       "    }\n",
       "\n",
       "    .dataframe tbody tr th {\n",
       "        vertical-align: top;\n",
       "    }\n",
       "\n",
       "    .dataframe thead th {\n",
       "        text-align: right;\n",
       "    }\n",
       "</style>\n",
       "<table border=\"1\" class=\"dataframe\">\n",
       "  <thead>\n",
       "    <tr style=\"text-align: right;\">\n",
       "      <th></th>\n",
       "      <th>title</th>\n",
       "      <th>descrirption</th>\n",
       "      <th>product_id</th>\n",
       "      <th>category_id</th>\n",
       "      <th>subcategory_id</th>\n",
       "      <th>properties</th>\n",
       "      <th>image_links</th>\n",
       "      <th>text</th>\n",
       "    </tr>\n",
       "  </thead>\n",
       "  <tbody>\n",
       "    <tr>\n",
       "      <th>0</th>\n",
       "      <td>Юбка детская ORBY</td>\n",
       "      <td>Новая, не носили ни разу. В реале красивей чем...</td>\n",
       "      <td>58e3cfe6132ca50e053f5f82</td>\n",
       "      <td>22.0</td>\n",
       "      <td>2211</td>\n",
       "      <td>{'detskie_razmer_rost': '81-86 (1,5 года)'}</td>\n",
       "      <td>http://cache3.youla.io/files/images/360_360/58...</td>\n",
       "      <td>[юбка, детский, orby, новый, носить, реал, кра...</td>\n",
       "    </tr>\n",
       "    <tr>\n",
       "      <th>1</th>\n",
       "      <td>Ботильоны</td>\n",
       "      <td>Новые,привезены из Чехии ,указан размер 40,но ...</td>\n",
       "      <td>5667531b2b7f8d127d838c34</td>\n",
       "      <td>9.0</td>\n",
       "      <td>902</td>\n",
       "      <td>{'zhenskaya_odezhda_tzvet': 'Зеленый', 'visota...</td>\n",
       "      <td>http://cache3.youla.io/files/images/360_360/5b...</td>\n",
       "      <td>[ботильон, новыепривезти, чехия, указать, разм...</td>\n",
       "    </tr>\n",
       "    <tr>\n",
       "      <th>2</th>\n",
       "      <td>Брюки</td>\n",
       "      <td>Размер 40-42. Брюки почти новые - не знаю как ...</td>\n",
       "      <td>59534826aaab284cba337e06</td>\n",
       "      <td>9.0</td>\n",
       "      <td>906</td>\n",
       "      <td>{'zhenskaya_odezhda_dzhinsy_bryuki_tip': 'Брюк...</td>\n",
       "      <td>http://cache3.youla.io/files/images/360_360/59...</td>\n",
       "      <td>[брюки, размер, 4042, брюки, новый, знать, мер...</td>\n",
       "    </tr>\n",
       "    <tr>\n",
       "      <th>3</th>\n",
       "      <td>Продам детские шапки</td>\n",
       "      <td>Продам шапки,кажда 200р.Розовая и белая проданны.</td>\n",
       "      <td>57de544096ad842e26de8027</td>\n",
       "      <td>22.0</td>\n",
       "      <td>2217</td>\n",
       "      <td>{'detskie_pol': 'Девочкам', 'detskaya_odezhda_...</td>\n",
       "      <td>http://cache3.youla.io/files/images/360_360/57...</td>\n",
       "      <td>[продать, детский, шапка, продать, шапкикажда,...</td>\n",
       "    </tr>\n",
       "    <tr>\n",
       "      <th>4</th>\n",
       "      <td>Блузка</td>\n",
       "      <td>Темно-синяя, 42 размер,состояние отличное,как ...</td>\n",
       "      <td>5ad4d2626c86cb168d212022</td>\n",
       "      <td>9.0</td>\n",
       "      <td>907</td>\n",
       "      <td>{'zhenskaya_odezhda_tzvet': 'Синий', 'zhenskay...</td>\n",
       "      <td>http://cache3.youla.io/files/images/360_360/5a...</td>\n",
       "      <td>[блузка, темносиний, 42, размерсостояние, отли...</td>\n",
       "    </tr>\n",
       "  </tbody>\n",
       "</table>\n",
       "</div>"
      ],
      "text/plain": [
       "                  title                                       descrirption  \\\n",
       "0     Юбка детская ORBY  Новая, не носили ни разу. В реале красивей чем...   \n",
       "1             Ботильоны  Новые,привезены из Чехии ,указан размер 40,но ...   \n",
       "2                 Брюки  Размер 40-42. Брюки почти новые - не знаю как ...   \n",
       "3  Продам детские шапки  Продам шапки,кажда 200р.Розовая и белая проданны.   \n",
       "4                Блузка  Темно-синяя, 42 размер,состояние отличное,как ...   \n",
       "\n",
       "                 product_id  category_id subcategory_id  \\\n",
       "0  58e3cfe6132ca50e053f5f82         22.0           2211   \n",
       "1  5667531b2b7f8d127d838c34          9.0            902   \n",
       "2  59534826aaab284cba337e06          9.0            906   \n",
       "3  57de544096ad842e26de8027         22.0           2217   \n",
       "4  5ad4d2626c86cb168d212022          9.0            907   \n",
       "\n",
       "                                          properties  \\\n",
       "0        {'detskie_razmer_rost': '81-86 (1,5 года)'}   \n",
       "1  {'zhenskaya_odezhda_tzvet': 'Зеленый', 'visota...   \n",
       "2  {'zhenskaya_odezhda_dzhinsy_bryuki_tip': 'Брюк...   \n",
       "3  {'detskie_pol': 'Девочкам', 'detskaya_odezhda_...   \n",
       "4  {'zhenskaya_odezhda_tzvet': 'Синий', 'zhenskay...   \n",
       "\n",
       "                                         image_links  \\\n",
       "0  http://cache3.youla.io/files/images/360_360/58...   \n",
       "1  http://cache3.youla.io/files/images/360_360/5b...   \n",
       "2  http://cache3.youla.io/files/images/360_360/59...   \n",
       "3  http://cache3.youla.io/files/images/360_360/57...   \n",
       "4  http://cache3.youla.io/files/images/360_360/5a...   \n",
       "\n",
       "                                                text  \n",
       "0  [юбка, детский, orby, новый, носить, реал, кра...  \n",
       "1  [ботильон, новыепривезти, чехия, указать, разм...  \n",
       "2  [брюки, размер, 4042, брюки, новый, знать, мер...  \n",
       "3  [продать, детский, шапка, продать, шапкикажда,...  \n",
       "4  [блузка, темносиний, 42, размерсостояние, отли...  "
      ]
     },
     "execution_count": 9,
     "metadata": {},
     "output_type": "execute_result"
    }
   ],
   "source": [
    "shop_data = pd.read_csv(\"ProductsDataset.csv\")\n",
    "\n",
    "\n",
    "shop_data['text'] = shop_data['title'] + \" \" + shop_data[\"descrirption\"]\n",
    "shop_data['text'] = shop_data['text'].apply(lambda x: preprocess_txt(str(x)))\n",
    "shop_data.head()"
   ]
  },
  {
   "cell_type": "code",
   "execution_count": 10,
   "metadata": {},
   "outputs": [
    {
     "data": {
      "text/plain": [
       "(35548, 8)"
      ]
     },
     "execution_count": 10,
     "metadata": {},
     "output_type": "execute_result"
    }
   ],
   "source": [
    "shop_data.shape"
   ]
  },
  {
   "cell_type": "code",
   "execution_count": 11,
   "metadata": {},
   "outputs": [],
   "source": [
    "from sklearn.feature_extraction.text import CountVectorizer\n",
    "from sklearn.linear_model import LogisticRegression\n",
    "\n",
    "vectorizer = CountVectorizer(ngram_range=(1, 2))"
   ]
  },
  {
   "cell_type": "code",
   "execution_count": 12,
   "metadata": {},
   "outputs": [
    {
     "data": {
      "application/vnd.jupyter.widget-view+json": {
       "model_id": "a1a48db8d30b4461827a59a5157192ff",
       "version_major": 2,
       "version_minor": 0
      },
      "text/plain": [
       "  0%|          | 0/25389 [00:00<?, ?it/s]"
      ]
     },
     "metadata": {},
     "output_type": "display_data"
    },
    {
     "data": {
      "application/vnd.jupyter.widget-view+json": {
       "model_id": "705189a5f54547669f7cbfb78bce59c1",
       "version_major": 2,
       "version_minor": 0
      },
      "text/plain": [
       "  0%|          | 0/35548 [00:00<?, ?it/s]"
      ]
     },
     "metadata": {},
     "output_type": "display_data"
    }
   ],
   "source": [
    "idxs = set(np.random.randint(0, len(index_map), len(shop_data)))\n",
    "# Speaker\n",
    "negative_texts = [\" \".join(preprocess_txt(index_map[i])) for i in tqdm(idxs)]\n",
    "# Product\n",
    "positive_texts = [\" \".join(val) for val in tqdm(shop_data['text'].values)]"
   ]
  },
  {
   "cell_type": "code",
   "execution_count": 12,
   "metadata": {},
   "outputs": [
    {
     "name": "stdout",
     "output_type": "stream",
     "text": [
      "ft_model\t\t\t\t      index_speaker.pkl    shop.ann\r\n",
      "ft_model.trainables.vectors_ngrams_lockf.npy  lesson_10.ipynb\t   speaker.ann\r\n",
      "ft_model.wv.vectors_ngrams.npy\t\t      lesson_10.zip\r\n",
      "index_shop.pkl\t\t\t\t      ProductsDataset.csv\r\n"
     ]
    }
   ],
   "source": [
    "!ls"
   ]
  },
  {
   "cell_type": "code",
   "execution_count": 11,
   "metadata": {},
   "outputs": [
    {
     "ename": "FileNotFoundError",
     "evalue": "[Errno 2] No such file or directory: 'index_speaker.pkl'",
     "output_type": "error",
     "traceback": [
      "\u001b[1;31m---------------------------------------------------------------------------\u001b[0m",
      "\u001b[1;31mFileNotFoundError\u001b[0m                         Traceback (most recent call last)",
      "Cell \u001b[1;32mIn[11], line 1\u001b[0m\n\u001b[1;32m----> 1\u001b[0m \u001b[38;5;28;01mwith\u001b[39;00m \u001b[38;5;28;43mopen\u001b[39;49m\u001b[43m(\u001b[49m\u001b[38;5;124;43m'\u001b[39;49m\u001b[38;5;124;43mindex_speaker.pkl\u001b[39;49m\u001b[38;5;124;43m'\u001b[39;49m\u001b[43m,\u001b[49m\u001b[43m \u001b[49m\u001b[38;5;124;43m'\u001b[39;49m\u001b[38;5;124;43mrb\u001b[39;49m\u001b[38;5;124;43m'\u001b[39;49m\u001b[43m)\u001b[49m \u001b[38;5;28;01mas\u001b[39;00m f:\n\u001b[0;32m      2\u001b[0m     index_map \u001b[38;5;241m=\u001b[39m pickle\u001b[38;5;241m.\u001b[39mload(f)\n",
      "File \u001b[1;32m~\\anaconda3\\lib\\site-packages\\IPython\\core\\interactiveshell.py:284\u001b[0m, in \u001b[0;36m_modified_open\u001b[1;34m(file, *args, **kwargs)\u001b[0m\n\u001b[0;32m    277\u001b[0m \u001b[38;5;28;01mif\u001b[39;00m file \u001b[38;5;129;01min\u001b[39;00m {\u001b[38;5;241m0\u001b[39m, \u001b[38;5;241m1\u001b[39m, \u001b[38;5;241m2\u001b[39m}:\n\u001b[0;32m    278\u001b[0m     \u001b[38;5;28;01mraise\u001b[39;00m \u001b[38;5;167;01mValueError\u001b[39;00m(\n\u001b[0;32m    279\u001b[0m         \u001b[38;5;124mf\u001b[39m\u001b[38;5;124m\"\u001b[39m\u001b[38;5;124mIPython won\u001b[39m\u001b[38;5;124m'\u001b[39m\u001b[38;5;124mt let you open fd=\u001b[39m\u001b[38;5;132;01m{\u001b[39;00mfile\u001b[38;5;132;01m}\u001b[39;00m\u001b[38;5;124m by default \u001b[39m\u001b[38;5;124m\"\u001b[39m\n\u001b[0;32m    280\u001b[0m         \u001b[38;5;124m\"\u001b[39m\u001b[38;5;124mas it is likely to crash IPython. If you know what you are doing, \u001b[39m\u001b[38;5;124m\"\u001b[39m\n\u001b[0;32m    281\u001b[0m         \u001b[38;5;124m\"\u001b[39m\u001b[38;5;124myou can use builtins\u001b[39m\u001b[38;5;124m'\u001b[39m\u001b[38;5;124m open.\u001b[39m\u001b[38;5;124m\"\u001b[39m\n\u001b[0;32m    282\u001b[0m     )\n\u001b[1;32m--> 284\u001b[0m \u001b[38;5;28;01mreturn\u001b[39;00m io_open(file, \u001b[38;5;241m*\u001b[39margs, \u001b[38;5;241m*\u001b[39m\u001b[38;5;241m*\u001b[39mkwargs)\n",
      "\u001b[1;31mFileNotFoundError\u001b[0m: [Errno 2] No such file or directory: 'index_speaker.pkl'"
     ]
    }
   ],
   "source": [
    "with open('index_speaker.pkl', 'rb') as f:\n",
    "    index_map = pickle.load(f)"
   ]
  },
  {
   "cell_type": "code",
   "execution_count": 13,
   "metadata": {},
   "outputs": [
    {
     "data": {
      "text/plain": [
       "'4 охотник жертва ледяной укус поцелуй тьма кровный клятва'"
      ]
     },
     "execution_count": 13,
     "metadata": {},
     "output_type": "execute_result"
    }
   ],
   "source": [
    "negative_texts[3]"
   ]
  },
  {
   "cell_type": "code",
   "execution_count": 14,
   "metadata": {},
   "outputs": [],
   "source": [
    "dataset = negative_texts + positive_texts\n",
    "labels = np.zeros(len(dataset))\n",
    "labels[len(negative_texts):] = np.ones(len(positive_texts))"
   ]
  },
  {
   "cell_type": "code",
   "execution_count": 15,
   "metadata": {},
   "outputs": [],
   "source": [
    "from sklearn.model_selection import train_test_split\n",
    "\n",
    "X_train, X_test, y_train, y_test = train_test_split(dataset, labels, test_size=0.2, stratify=labels,\n",
    "                                                    random_state=13)"
   ]
  },
  {
   "cell_type": "code",
   "execution_count": 16,
   "metadata": {},
   "outputs": [],
   "source": [
    "x_train_vec = vectorizer.fit_transform(X_train)\n",
    "x_test_vec = vectorizer.transform(X_test)\n",
    "\n",
    "lr = LogisticRegression().fit(x_train_vec, y_train)"
   ]
  },
  {
   "cell_type": "code",
   "execution_count": 17,
   "metadata": {},
   "outputs": [
    {
     "data": {
      "text/plain": [
       "0.9777650147686249"
      ]
     },
     "execution_count": 17,
     "metadata": {},
     "output_type": "execute_result"
    }
   ],
   "source": [
    "from sklearn.metrics import accuracy_score\n",
    "accuracy_score(y_true=y_test, y_pred=lr.predict(x_test_vec))"
   ]
  },
  {
   "cell_type": "code",
   "execution_count": 21,
   "metadata": {},
   "outputs": [],
   "source": [
    "import pickle"
   ]
  },
  {
   "cell_type": "code",
   "execution_count": 25,
   "metadata": {},
   "outputs": [],
   "source": [
    "# assert \n",
    "import pickle\n",
    "\n",
    "with open(\"index_speaker.pkl\", \"wb\") as f:\n",
    "    pickle.dump(index_map, f)"
   ]
  },
  {
   "cell_type": "code",
   "execution_count": 18,
   "metadata": {},
   "outputs": [],
   "source": [
    "from sklearn.feature_extraction.text import TfidfVectorizer\n",
    "\n",
    "tfidf_vect = TfidfVectorizer().fit(X_train)"
   ]
  },
  {
   "cell_type": "code",
   "execution_count": 19,
   "metadata": {},
   "outputs": [
    {
     "data": {
      "text/plain": [
       "10.772540153948245"
      ]
     },
     "execution_count": 19,
     "metadata": {},
     "output_type": "execute_result"
    }
   ],
   "source": [
    "np.mean(tfidf_vect.idf_)"
   ]
  },
  {
   "cell_type": "code",
   "execution_count": 20,
   "metadata": {},
   "outputs": [
    {
     "data": {
      "text/plain": [
       "{'pandrew': 9.229511118964457,\n",
       " 'lih': 7.040870285319628,\n",
       " 'the': 10.408166115306102,\n",
       " 'wikipedia': 11.101313295866047,\n",
       " 'revolution': 11.101313295866047,\n",
       " 'how': 11.101313295866047,\n",
       " 'bunch': 11.101313295866047,\n",
       " 'of': 11.101313295866047,\n",
       " 'nobodies': 11.101313295866047,\n",
       " 'created': 11.101313295866047,\n",
       " 'worlds': 11.101313295866047,\n",
       " 'greatest': 11.101313295866047,\n",
       " 'encyclopedia': 11.101313295866047,\n",
       " 'new': 11.101313295866047,\n",
       " 'york': 11.101313295866047,\n",
       " 'hyperion': 11.101313295866047,\n",
       " '2009': 11.101313295866047,\n",
       " '247': 11.101313295866047,\n",
       " 'isbn': 11.101313295866047,\n",
       " '9781401303716p': 11.101313295866047,\n",
       " 'nan': 11.101313295866047,\n",
       " 'поискать': 11.101313295866047,\n",
       " 'фикс': 11.101313295866047,\n",
       " 'нэта': 11.101313295866047,\n",
       " 'мода': 11.101313295866047,\n",
       " 'стабильный': 11.101313295866047,\n",
       " 'версия': 11.101313295866047,\n",
       " 'игра': 11.101313295866047,\n",
       " 'совпадать': 11.101313295866047,\n",
       " 'попробовать': 11.101313295866047,\n",
       " 'переустановить': 11.101313295866047,\n",
       " 'начать': 11.101313295866047,\n",
       " 'заново': 11.101313295866047,\n",
       " 'нестабильный': 11.101313295866047,\n",
       " 'самый': 11.101313295866047,\n",
       " 'тайный': 11.101313295866047,\n",
       " 'тропа': 10.002701007197938,\n",
       " 'sgmич': 11.101313295866047,\n",
       " 'зп': 11.101313295866047,\n",
       " 'аресанл': 11.101313295866047,\n",
       " 'остальной': 11.101313295866047,\n",
       " 'частный': 10.002701007197938,\n",
       " 'вылетать': 11.101313295866047,\n",
       " 'поделать': 10.695848187757884,\n",
       " 'костюм': 10.408166115306102,\n",
       " 'apriori': 11.101313295866047,\n",
       " 'хб': 11.101313295866047,\n",
       " 'стильный': 11.101313295866047,\n",
       " 'идеальный': 11.101313295866047,\n",
       " 'состояние': 11.101313295866047,\n",
       " 'размер': 11.101313295866047,\n",
       " '4446': 11.101313295866047,\n",
       " 'скорее': 11.101313295866047,\n",
       " '46': 11.101313295866047,\n",
       " 'похуделый': 10.408166115306102,\n",
       " 'висеть': 10.695848187757884,\n",
       " 'дорога': 11.101313295866047,\n",
       " 'солидный': 10.185022563991893,\n",
       " 'декорировать': 10.695848187757884,\n",
       " 'молния': 11.101313295866047,\n",
       " 'классный': 11.101313295866047,\n",
       " 'вариант': 11.101313295866047,\n",
       " 'работа': 10.695848187757884,\n",
       " 'весна': 11.101313295866047,\n",
       " 'лето': 11.101313295866047,\n",
       " 'фирма': 11.101313295866047,\n",
       " 'стоить': 11.101313295866047,\n",
       " '15': 11.101313295866047,\n",
       " 'тыс': 11.101313295866047,\n",
       " 'покупаться': 10.408166115306102,\n",
       " 'хц': 11.101313295866047,\n",
       " 'неофициально': 11.101313295866047,\n",
       " 'договориться': 11.101313295866047,\n",
       " 'правило': 11.101313295866047,\n",
       " 'подать': 10.695848187757884,\n",
       " 'жалоба': 8.536363938404511,\n",
       " 'судебный': 10.695848187757884,\n",
       " 'акт': 11.101313295866047,\n",
       " 'основание': 11.101313295866047,\n",
       " 'выдать': 11.101313295866047,\n",
       " 'исполнительный': 11.101313295866047,\n",
       " 'лист': 11.101313295866047,\n",
       " 'случай': 11.101313295866047,\n",
       " 'пристав': 10.695848187757884,\n",
       " 'должник': 11.101313295866047,\n",
       " 'беспокоить': 11.101313295866047,\n",
       " 'окончание': 11.101313295866047,\n",
       " 'процедура': 11.101313295866047,\n",
       " 'обжалование': 11.101313295866047,\n",
       " 'отмена': 11.101313295866047,\n",
       " 'решение': 11.101313295866047,\n",
       " 'редкость': 11.101313295866047,\n",
       " 'обратиться': 11.101313295866047,\n",
       " 'суд': 11.101313295866047,\n",
       " 'заявление': 11.101313295866047,\n",
       " 'рассрочка': 11.101313295866047,\n",
       " 'отсрочка': 11.101313295866047,\n",
       " 'исполнение': 11.101313295866047,\n",
       " 'получить': 11.101313295866047,\n",
       " 'официально': 10.695848187757884,\n",
       " 'продавать': 11.101313295866047,\n",
       " 'рюкзак': 11.101313295866047,\n",
       " 'колёсико': 11.101313295866047,\n",
       " 'сумкадлить': 9.491875383431948,\n",
       " 'отпуск': 11.101313295866047,\n",
       " 'дорожный': 11.101313295866047,\n",
       " 'колёсикахсумка': 10.695848187757884,\n",
       " 'тачки': 11.101313295866047,\n",
       " 'подарок': 11.101313295866047,\n",
       " 'надувной': 11.101313295866047,\n",
       " 'мячик': 11.101313295866047,\n",
       " 'круг': 11.101313295866047,\n",
       " 'бодить': 11.101313295866047,\n",
       " 'хороший': 11.101313295866047,\n",
       " 'пиджак': 11.101313295866047,\n",
       " 'glance': 11.101313295866047,\n",
       " 'новый': 10.695848187757884,\n",
       " '44': 11.101313295866047,\n",
       " 'бомбер': 10.408166115306102,\n",
       " 'кардиган': 11.101313295866047,\n",
       " 'вязаный': 11.101313295866047,\n",
       " 'крупный': 11.101313295866047,\n",
       " 'вязка': 11.101313295866047,\n",
       " 'толстый': 11.101313295866047,\n",
       " 'спица': 11.101313295866047,\n",
       " 'цена': 11.101313295866047,\n",
       " 'короткий': 10.002701007197938,\n",
       " 'спинка': 11.101313295866047,\n",
       " '45': 11.101313295866047,\n",
       " 'смотреть': 11.101313295866047,\n",
       " '4000': 11.101313295866047,\n",
       " 'руб': 11.101313295866047,\n",
       " 'средний': 11.101313295866047,\n",
       " '60': 11.101313295866047,\n",
       " '4500': 11.101313295866047,\n",
       " 'срок': 11.101313295866047,\n",
       " '57': 10.408166115306102,\n",
       " 'пряжа': 11.101313295866047,\n",
       " 'заказчик': 11.101313295866047,\n",
       " 'помочь': 11.101313295866047,\n",
       " 'подбор': 10.408166115306102,\n",
       " 'покупка': 11.101313295866047,\n",
       " '50': 11.101313295866047,\n",
       " 'описание': 11.101313295866047,\n",
       " 'найти': 11.101313295866047,\n",
       " 'жальbr': 11.101313295866047,\n",
       " 'сапог': 11.101313295866047,\n",
       " 'кожа': 11.101313295866047,\n",
       " 'натуральный': 11.101313295866047,\n",
       " '38': 11.101313295866047,\n",
       " 'обижаться': 11.101313295866047,\n",
       " 'токо': 11.101313295866047,\n",
       " 'тапковы': 8.536363938404511,\n",
       " 'сумка': 11.101313295866047,\n",
       " 'fika': 11.101313295866047,\n",
       " 'montino': 11.101313295866047,\n",
       " 'женский': 11.101313295866047,\n",
       " 'белый': 11.101313295866047,\n",
       " '402513': 11.101313295866047,\n",
       " 'смпризнак': 11.101313295866047,\n",
       " 'бу': 11.101313295866047,\n",
       " 'edkcdk28': 11.101313295866047,\n",
       " 'биссектрисаbrиз': 11.101313295866047,\n",
       " 'треугольник': 11.101313295866047,\n",
       " 'cdk': 11.101313295866047,\n",
       " 'dcecdkckd': 11.101313295866047,\n",
       " '1807528': 11.101313295866047,\n",
       " '77': 11.101313295866047,\n",
       " 'величина': 11.101313295866047,\n",
       " 'угол': 11.101313295866047,\n",
       " 'сbrbrсde282856brbrиз': 11.101313295866047,\n",
       " 'cde': 11.101313295866047,\n",
       " 'e180775647': 11.101313295866047,\n",
       " 'градус': 11.101313295866047,\n",
       " 'перчатка': 11.101313295866047,\n",
       " 'parosh': 11.101313295866047,\n",
       " 'подкладка': 10.408166115306102,\n",
       " 'шерсть': 11.101313295866047,\n",
       " 'шёлк': 11.101313295866047,\n",
       " 'брендовый': 11.101313295866047,\n",
       " 'david': 11.101313295866047,\n",
       " 'jones': 9.086410275323782,\n",
       " 'тёмно': 11.101313295866047,\n",
       " 'серый': 11.101313295866047,\n",
       " 'цвет': 11.101313295866047,\n",
       " 'экокожа': 11.101313295866047,\n",
       " 'универсальный': 11.101313295866047,\n",
       " 'мужжёный': 11.101313295866047,\n",
       " 'абсолютно': 11.101313295866047,\n",
       " 'бирка': 11.101313295866047,\n",
       " 'фирмчехол': 10.408166115306102,\n",
       " '42х26х13см': 11.101313295866047,\n",
       " 'наличный': 11.101313295866047,\n",
       " 'торг': 11.101313295866047,\n",
       " 'зимний': 11.101313295866047,\n",
       " 'джинсы': 11.101313295866047,\n",
       " 'разный': 11.101313295866047,\n",
       " '4648': 11.101313295866047,\n",
       " 'талия': 11.101313295866047,\n",
       " 'тянуться': 11.101313295866047,\n",
       " '48': 11.101313295866047,\n",
       " 'рваный': 11.101313295866047,\n",
       " 'стрейч': 11.101313295866047,\n",
       " '4648быть': 11.101313295866047,\n",
       " 'синий': 11.101313295866047,\n",
       " 'бридж': 11.101313295866047,\n",
       " 'приезжать': 11.101313295866047,\n",
       " 'мерить': 11.101313295866047,\n",
       " '400': 11.101313295866047,\n",
       " 'диагнозодин': 8.183542563781769,\n",
       " 'диагноз': 10.695848187757884,\n",
       " 'жкт': 10.695848187757884,\n",
       " 'вообще': 11.101313295866047,\n",
       " 'данный': 11.101313295866047,\n",
       " 'заболевание': 11.101313295866047,\n",
       " 'предусмотреть': 11.101313295866047,\n",
       " 'диета': 11.101313295866047,\n",
       " 'номер': 11.101313295866047,\n",
       " 'певзнер': 11.101313295866047,\n",
       " 'httpwomanadvicerudietanomer1': 11.101313295866047,\n",
       " 'сожаление': 11.101313295866047,\n",
       " 'ограниченийпрежде': 11.101313295866047,\n",
       " 'касаться': 11.101313295866047,\n",
       " 'стадия': 11.101313295866047,\n",
       " 'обострение': 11.101313295866047,\n",
       " 'употреблять': 10.695848187757884,\n",
       " 'категорически': 11.101313295866047,\n",
       " 'запрещенотак': 11.101313295866047,\n",
       " 'травмировать': 11.101313295866047,\n",
       " 'повредить': 10.695848187757884,\n",
       " 'слизистая': 11.101313295866047,\n",
       " 'большой': 9.715018934746157,\n",
       " 'процесс': 11.101313295866047,\n",
       " 'восстановление': 11.101313295866047,\n",
       " 'затянетсять': 11.101313295866047,\n",
       " 'период': 10.408166115306102,\n",
       " 'ремиссиизатухание': 10.408166115306102,\n",
       " 'болезнь': 11.101313295866047,\n",
       " 'позволять': 11.101313295866047,\n",
       " 'расширять': 11.101313295866047,\n",
       " 'рационный': 11.101313295866047,\n",
       " 'делать': 10.408166115306102,\n",
       " 'фанатизм': 11.101313295866047,\n",
       " 'постепеннонельзя': 11.101313295866047,\n",
       " 'обильный': 11.101313295866047,\n",
       " 'порциямипитание': 11.101313295866047,\n",
       " 'должный': 11.101313295866047,\n",
       " 'частый': 11.101313295866047,\n",
       " 'дробнымжелательный': 11.101313295866047,\n",
       " 'часаособенно': 11.101313295866047,\n",
       " 'обострениянельзя': 11.101313295866047,\n",
       " 'голодный': 11.101313295866047,\n",
       " 'желудок': 10.408166115306102,\n",
       " 'продукт': 11.101313295866047,\n",
       " 'раздражающий': 11.101313295866047,\n",
       " 'предпочтение': 11.101313295866047,\n",
       " 'отдаваться': 8.74993803870257,\n",
       " 'протёртый': 11.101313295866047,\n",
       " 'пюреобразный': 11.101313295866047,\n",
       " 'пищинапример': 11.101313295866047,\n",
       " 'кашамкром': 11.101313295866047,\n",
       " 'пшённый': 11.101313295866047,\n",
       " 'перловый': 11.101313295866047,\n",
       " 'кукурузный': 11.101313295866047,\n",
       " 'ячменный': 11.101313295866047,\n",
       " 'пюретак': 11.101313295866047,\n",
       " 'жирный': 11.101313295866047,\n",
       " 'мясо': 11.101313295866047,\n",
       " 'рыбехороший': 11.101313295866047,\n",
       " 'вид': 11.101313295866047,\n",
       " 'суфле': 11.101313295866047,\n",
       " 'котлета': 11.101313295866047,\n",
       " 'тефтелейготовить': 10.695848187757884,\n",
       " 'парун': 11.101313295866047,\n",
       " 'жарить': 11.101313295866047,\n",
       " 'желательно': 11.101313295866047,\n",
       " 'тушитьизбегать': 11.101313295866047,\n",
       " 'количество': 11.101313295866047,\n",
       " 'масло': 11.101313295866047,\n",
       " 'приправпища': 11.101313295866047,\n",
       " 'теплойнельзя': 10.695848187757884,\n",
       " 'холодный': 11.101313295866047,\n",
       " 'горячий': 11.101313295866047,\n",
       " 'пищутак': 11.101313295866047,\n",
       " 'термический': 11.101313295866047,\n",
       " 'раздражитель': 10.695848187757884,\n",
       " 'слизистуюто': 11.101313295866047,\n",
       " 'молоко': 11.101313295866047,\n",
       " 'вопрос': 11.101313295866047,\n",
       " 'спорныйв': 11.101313295866047,\n",
       " 'источник': 11.101313295866047,\n",
       " 'утверждаться': 11.101313295866047,\n",
       " 'крайне': 7.667326091380902,\n",
       " 'полезноособенно': 11.101313295866047,\n",
       " 'гастрит': 11.101313295866047,\n",
       " 'повышенный': 11.101313295866047,\n",
       " 'кислотность': 11.101313295866047,\n",
       " 'наоборотсчитаться': 11.101313295866047,\n",
       " 'любой': 11.101313295866047,\n",
       " 'жир': 11.101313295866047,\n",
       " 'возбуждать': 11.101313295866047,\n",
       " 'секреция': 11.101313295866047,\n",
       " 'желудкать': 11.101313295866047,\n",
       " 'рекомендовать': 11.101313295866047,\n",
       " 'лактозной': 11.101313295866047,\n",
       " 'переносимость': 11.101313295866047,\n",
       " 'ограниченный': 11.101313295866047,\n",
       " 'добавка': 11.101313295866047,\n",
       " 'блюданапример': 11.101313295866047,\n",
       " 'каша': 10.695848187757884,\n",
       " 'варить': 11.101313295866047,\n",
       " 'пополам': 11.101313295866047,\n",
       " 'водойва': 11.101313295866047,\n",
       " 'цельный': 11.101313295866047,\n",
       " 'жирность': 11.101313295866047,\n",
       " 'осторожный': 11.101313295866047,\n",
       " 'кисломолочный': 11.101313295866047,\n",
       " 'существовать': 11.101313295866047,\n",
       " 'отклонение': 11.101313295866047,\n",
       " 'дать': 11.101313295866047,\n",
       " 'значительный': 11.101313295866047,\n",
       " 'вызывать': 10.408166115306102,\n",
       " 'временной': 11.101313295866047,\n",
       " 'ухудшение': 11.101313295866047,\n",
       " 'самочувствияй': 10.695848187757884,\n",
       " 'давать': 11.101313295866047,\n",
       " 'неприятный': 11.101313295866047,\n",
       " 'последствиянапример': 11.101313295866047,\n",
       " 'тошнота': 11.101313295866047,\n",
       " 'спазм': 11.101313295866047,\n",
       " 'знать': 11.101313295866047,\n",
       " 'праздник': 11.101313295866047,\n",
       " 'застолье': 11.101313295866047,\n",
       " 'еда': 11.101313295866047,\n",
       " 'хронический': 11.101313295866047,\n",
       " 'обострятсяобычно': 11.101313295866047,\n",
       " 'происходить': 11.101313295866047,\n",
       " 'осеньюкогда': 10.695848187757884,\n",
       " 'иммунитет': 11.101313295866047,\n",
       " 'организм': 11.101313295866047,\n",
       " 'ослабленчтый': 11.101313295866047,\n",
       " 'выполнять': 11.101313295866047,\n",
       " 'необходимый': 11.101313295866047,\n",
       " 'рекомендация': 11.101313295866047,\n",
       " 'питаниюотказаться': 11.101313295866047,\n",
       " 'вредный': 11.101313295866047,\n",
       " 'привычка': 11.101313295866047,\n",
       " 'курениеалкоголь': 11.101313295866047,\n",
       " 'переедание': 8.210941537969884,\n",
       " 'следить': 11.101313295866047,\n",
       " 'свой': 11.101313295866047,\n",
       " 'здоровье': 11.101313295866047,\n",
       " 'стараться': 11.101313295866047,\n",
       " 'избегать': 11.101313295866047,\n",
       " 'стресс': 11.101313295866047,\n",
       " 'лариса': 11.101313295866047,\n",
       " 'долина': 11.101313295866047,\n",
       " 'лямка': 10.408166115306102,\n",
       " 'бюстгальтер': 11.101313295866047,\n",
       " 'жби': 11.101313295866047,\n",
       " 'вещь': 11.101313295866047,\n",
       " 'профиль': 11.101313295866047,\n",
       " 'говорить': 11.101313295866047,\n",
       " 'кв': 11.101313295866047,\n",
       " 'фенрис': 11.101313295866047,\n",
       " 'brубийство': 11.101313295866047,\n",
       " 'данариус': 11.101313295866047,\n",
       " 'встреча': 11.101313295866047,\n",
       " 'сестра': 11.101313295866047,\n",
       " 'феня': 11.101313295866047,\n",
       " 'brглава': 11.101313295866047,\n",
       " 'смерть': 11.101313295866047,\n",
       " 'лиандра': 11.101313295866047,\n",
       " 'хоук': 11.101313295866047,\n",
       " 'h2краткий': 11.101313295866047,\n",
       " 'описаниеh2': 11.101313295866047,\n",
       " 'pfr': 11.101313295866047,\n",
       " 'pyramide': 11.101313295866047,\n",
       " 'damenemhat': 11.101313295866047,\n",
       " 'iii': 11.101313295866047,\n",
       " 'hawara': 9.086410275323782,\n",
       " 'dans': 11.101313295866047,\n",
       " 'loasis': 11.101313295866047,\n",
       " 'du': 11.101313295866047,\n",
       " 'fayoump': 11.101313295866047,\n",
       " 'pégypte': 11.101313295866047,\n",
       " 'amenemhat': 11.101313295866047,\n",
       " 'iiip': 11.101313295866047,\n",
       " 'h2sourceh2': 11.101313295866047,\n",
       " 'photo': 11.101313295866047,\n",
       " 'personnelle': 11.101313295866047,\n",
       " 'de': 11.101313295866047,\n",
       " 'gérard': 11.101313295866047,\n",
       " 'ducher': 11.101313295866047,\n",
       " 'usernéfermaâtp': 11.101313295866047,\n",
       " 'h2лицензированиеh2': 11.101313295866047,\n",
       " 'h2derivative': 11.101313295866047,\n",
       " 'worksh2': 11.101313295866047,\n",
       " 'pпроизводный': 11.101313295866047,\n",
       " 'файл': 11.101313295866047,\n",
       " 'gdegfayoum010': 11.101313295866047,\n",
       " 'bjpgp': 11.101313295866047,\n",
       " 'ната': 11.101313295866047,\n",
       " 'европа': 11.101313295866047,\n",
       " 'подтягивать': 11.101313295866047,\n",
       " 'кофта': 11.101313295866047,\n",
       " '44р': 11.101313295866047,\n",
       " 'пальто': 11.101313295866047,\n",
       " 'женскоефирма': 11.101313295866047,\n",
       " 'maximess': 11.101313295866047,\n",
       " 'москва': 11.101313295866047,\n",
       " '18000поправиласьмалоторгмеха': 11.101313295866047,\n",
       " 'отстегиваетсярра': 9.491875383431948,\n",
       " 'сарафан': 11.101313295866047,\n",
       " 'продаваться': 11.101313295866047,\n",
       " 'джинсовыйновый48р': 11.101313295866047,\n",
       " '444648': 11.101313295866047,\n",
       " 'одевать': 11.101313295866047,\n",
       " '20': 11.101313295866047,\n",
       " 'скидка': 11.101313295866047,\n",
       " 'малый': 11.101313295866047,\n",
       " 'стоимость': 11.101313295866047,\n",
       " 'сандали': 11.101313295866047,\n",
       " 'детский': 11.101313295866047,\n",
       " '24': 11.101313295866047,\n",
       " 'рр': 11.101313295866047,\n",
       " 'мягкий': 11.101313295866047,\n",
       " 'супинатор': 11.101313295866047,\n",
       " 'жёсткий': 11.101313295866047,\n",
       " 'задник': 11.101313295866047,\n",
       " 'ключкамышенский': 11.101313295866047,\n",
       " 'плато': 11.101313295866047,\n",
       " 'bcbgeneration': 11.101313295866047,\n",
       " 'куртка': 11.101313295866047,\n",
       " 'премиальный': 11.101313295866047,\n",
       " 'бренд': 11.101313295866047,\n",
       " 'тёплый': 11.101313295866047,\n",
       " 'цель': 11.101313295866047,\n",
       " 'гулять': 10.695848187757884,\n",
       " 'коляска': 11.101313295866047,\n",
       " 'химчистка': 11.101313295866047,\n",
       " 'подойти': 11.101313295866047,\n",
       " 'высокий': 11.101313295866047,\n",
       " 'рост': 10.408166115306102,\n",
       " 'большемерка': 11.101313295866047,\n",
       " 'ярлык': 11.101313295866047,\n",
       " 'xl': 11.101313295866047,\n",
       " 'носиться': 11.101313295866047,\n",
       " 'сезон': 11.101313295866047,\n",
       " 'внутри': 11.101313295866047,\n",
       " 'капюшон': 11.101313295866047,\n",
       " 'искусственный': 11.101313295866047,\n",
       " 'мех': 9.086410275323782,\n",
       " 'отделка': 11.101313295866047,\n",
       " 'рукав': 10.695848187757884,\n",
       " 'манжетамимитенка': 11.101313295866047,\n",
       " 'катать': 11.101313295866047,\n",
       " 'рука': 11.101313295866047,\n",
       " 'мёрзнуть': 11.101313295866047,\n",
       " 'отличный': 11.101313295866047,\n",
       " 'беременная': 11.101313295866047,\n",
       " 'животик': 11.101313295866047,\n",
       " 'спрятать': 11.101313295866047,\n",
       " 'стать': 11.101313295866047,\n",
       " 'вроде': 10.695848187757884,\n",
       " '324': 11.101313295866047,\n",
       " 'жилетгермания': 11.101313295866047,\n",
       " 'жилет': 11.101313295866047,\n",
       " 'betty': 11.101313295866047,\n",
       " 'barclay': 11.101313295866047,\n",
       " 'разм': 11.101313295866047,\n",
       " '46цветгорчицаотделкакожа': 11.101313295866047,\n",
       " 'норка': 11.101313295866047,\n",
       " 'нереально': 11.101313295866047,\n",
       " 'красивый': 11.101313295866047,\n",
       " 'вживую': 11.101313295866047,\n",
       " 'купить': 11.101313295866047,\n",
       " 'турция': 11.101313295866047,\n",
       " 'октябрь': 11.101313295866047,\n",
       " '2017': 11.101313295866047,\n",
       " 'размер52': 11.101313295866047,\n",
       " 'чёрный': 11.101313295866047,\n",
       " 'полоска': 11.101313295866047,\n",
       " 'замша': 11.101313295866047,\n",
       " 'карман': 11.101313295866047,\n",
       " 'бок': 11.101313295866047,\n",
       " 'магнит': 11.101313295866047,\n",
       " 'воротник': 11.101313295866047,\n",
       " 'положение': 11.101313295866047,\n",
       " 'темножелтаякак': 11.101313295866047,\n",
       " 'фото': 9.84855032737068,\n",
       " 'оставаться': 11.101313295866047,\n",
       " 'книжный': 11.101313295866047,\n",
       " 'магазин': 11.101313295866047,\n",
       " '7ку': 11.101313295866047,\n",
       " '704': 11.101313295866047,\n",
       " 'поставить': 11.101313295866047,\n",
       " 'хришка': 11.101313295866047,\n",
       " '750': 11.101313295866047,\n",
       " 'angela': 11.101313295866047,\n",
       " 'falconi': 11.101313295866047,\n",
       " 'кожаный': 11.101313295866047,\n",
       " 'итальянский': 10.408166115306102,\n",
       " 'ссылка': 11.101313295866047,\n",
       " 'заблокировать': 11.101313295866047,\n",
       " 'администрация': 11.101313295866047,\n",
       " 'проект': 11.101313295866047,\n",
       " 'вирустроян': 11.101313295866047,\n",
       " 'читать': 11.101313295866047,\n",
       " 'здесьbrhttpwwwremovepcviruscomruudalitdatamngrdll': 10.408166115306102,\n",
       " 'город': 11.101313295866047,\n",
       " 'тип': 11.101313295866047,\n",
       " 'питер': 11.101313295866047,\n",
       " 'штраф': 11.101313295866047,\n",
       " 'вполне': 11.101313295866047,\n",
       " 'реальный': 11.101313295866047,\n",
       " 'сдирать': 10.695848187757884,\n",
       " 'народ': 10.408166115306102,\n",
       " 'богатый': 11.101313295866047,\n",
       " 'область': 11.101313295866047,\n",
       " 'редкий': 11.101313295866047,\n",
       " 'реально': 11.101313295866047,\n",
       " 'выписать': 11.101313295866047,\n",
       " 'зависеть': 10.695848187757884,\n",
       " 'инспектор': 11.101313295866047,\n",
       " 'poivre': 11.101313295866047,\n",
       " 'blanc': 11.101313295866047,\n",
       " '4104': 11.101313295866047,\n",
       " 'большемерить': 11.101313295866047,\n",
       " 'рармера': 11.101313295866047,\n",
       " 'плечо8': 11.101313295866047,\n",
       " 'рукав41': 11.101313295866047,\n",
       " 'длина47': 11.101313295866047,\n",
       " 'постоянный': 11.101313295866047,\n",
       " 'совершенствование': 10.408166115306102,\n",
       " 'технология': 11.101313295866047,\n",
       " 'использование': 11.101313295866047,\n",
       " 'современный': 10.002701007197938,\n",
       " 'материал': 11.101313295866047,\n",
       " 'позволить': 11.101313295866047,\n",
       " 'пуховка': 11.101313295866047,\n",
       " 'лидер': 10.695848187757884,\n",
       " 'продажа': 11.101313295866047,\n",
       " 'категория': 10.408166115306102,\n",
       " 'товар': 11.101313295866047,\n",
       " 'производство': 11.101313295866047,\n",
       " 'пуховый': 11.101313295866047,\n",
       " 'изделие': 10.002701007197938,\n",
       " 'компания': 11.101313295866047,\n",
       " 'использовать': 11.101313295866047,\n",
       " 'высококачественный': 11.101313295866047,\n",
       " 'утиный': 11.101313295866047,\n",
       " 'пух': 11.101313295866047,\n",
       " 'соотношение': 5.222177933731985,\n",
       " 'перо': 4.764487564719607,\n",
       " '80': 6.595963445160168,\n",
       " 'некоторый': 8.536363938404511,\n",
       " 'нога': 10.408166115306102,\n",
       " 'заниматься': 10.695848187757884,\n",
       " 'туфля': 11.101313295866047,\n",
       " 'тонкий': 11.101313295866047,\n",
       " 'летнеосенниецвет': 11.101313295866047,\n",
       " 'бежевый': 11.101313295866047,\n",
       " 'перламутровый': 11.101313295866047,\n",
       " 'перезаписущий': 11.101313295866047,\n",
       " 'одноразовый': 11.101313295866047,\n",
       " 'методичка': 11.101313295866047,\n",
       " 'br': 11.101313295866047,\n",
       " 'ботинок': 11.101313295866047,\n",
       " 'носить': 11.101313295866047,\n",
       " 'считаный': 11.101313295866047,\n",
       " 'осенний': 11.101313295866047,\n",
       " 'демисезонный': 11.101313295866047,\n",
       " 'комбинезон': 10.695848187757884,\n",
       " 'месяц': 11.101313295866047,\n",
       " 'развод': 11.101313295866047,\n",
       " 'потёртость': 11.101313295866047,\n",
       " 'дырка': 11.101313295866047,\n",
       " '500': 11.101313295866047,\n",
       " 'рубль': 11.101313295866047,\n",
       " 'характеристика': 11.101313295866047,\n",
       " 'длина': 10.695848187757884,\n",
       " 'длинный': 11.101313295866047,\n",
       " 'застёжка': 11.101313295866047,\n",
       " '6268': 11.101313295866047,\n",
       " 'фактура': 11.101313295866047,\n",
       " 'плащевый': 11.101313295866047,\n",
       " 'ткань': 11.101313295866047,\n",
       " 'утеплитель': 11.101313295866047,\n",
       " 'синтепон': 10.695848187757884,\n",
       " 'уход': 11.101313295866047,\n",
       " 'бережный': 11.101313295866047,\n",
       " 'стирка': 11.101313295866047,\n",
       " '30': 11.101313295866047,\n",
       " 'отбеливание': 8.23911241493658,\n",
       " 'запретить': 11.101313295866047,\n",
       " 'гладить': 11.101313295866047,\n",
       " 'изнанка': 11.101313295866047,\n",
       " 'страна': 10.185022563991893,\n",
       " 'производитель': 11.101313295866047,\n",
       " 'россия': 11.101313295866047,\n",
       " 'держатель': 11.101313295866047,\n",
       " 'сотик': 11.101313295866047,\n",
       " 'голубой': 10.002701007197938,\n",
       " '100чёрный': 10.185022563991893,\n",
       " '150': 11.101313295866047,\n",
       " 'платье': 11.101313295866047,\n",
       " 'яркий': 11.101313295866047,\n",
       " 'продать': 11.101313295866047,\n",
       " 'дёшево': 10.695848187757884,\n",
       " 'длиннной': 11.101313295866047,\n",
       " 'легкоев': 11.101313295866047,\n",
       " 'жара': 10.695848187757884,\n",
       " 'душный': 11.101313295866047,\n",
       " 'немой': 11.101313295866047,\n",
       " 'наоборот': 10.695848187757884,\n",
       " 'легко': 11.101313295866047,\n",
       " 'комфортноможный': 11.101313295866047,\n",
       " 'одеть': 10.695848187757884,\n",
       " 'нибыть': 11.101313295866047,\n",
       " 'мероприятиепрогулка': 11.101313295866047,\n",
       " 'тд': 9.396565203627622,\n",
       " '46идти': 11.101313295866047,\n",
       " 'машинка': 10.185022563991893,\n",
       " 'забирать': 11.101313295866047,\n",
       " 'коралловый': 11.101313295866047,\n",
       " 'сзади': 11.101313295866047,\n",
       " 'молниян': 11.101313295866047,\n",
       " 'просвечивать': 11.101313295866047,\n",
       " '168': 11.101313295866047,\n",
       " '4244': 10.695848187757884,\n",
       " 'love': 10.695848187757884,\n",
       " 'republic': 11.101313295866047,\n",
       " 'эффектный': 11.101313295866047,\n",
       " 'лав': 11.101313295866047,\n",
       " 'република': 11.101313295866047,\n",
       " '4044': 11.101313295866047,\n",
       " '34': 11.101313295866047,\n",
       " 'печь': 10.408166115306102,\n",
       " 'торт': 11.101313295866047,\n",
       " 'набор': 11.101313295866047,\n",
       " 'тесто': 11.101313295866047,\n",
       " 'лепка': 11.101313295866047,\n",
       " 'формочка': 11.101313295866047,\n",
       " 'тарелка': 11.101313295866047,\n",
       " 'нож': 11.101313295866047,\n",
       " 'скалка': 11.101313295866047,\n",
       " 'возможный': 11.101313295866047,\n",
       " 'доставка': 11.101313295866047,\n",
       " 'место': 11.101313295866047,\n",
       " 'бета': 11.101313295866047,\n",
       " 'игралвый': 11.101313295866047,\n",
       " 'впечатление': 11.101313295866047,\n",
       " 'портить': 11.101313295866047,\n",
       " 'вовторое': 11.101313295866047,\n",
       " 'плохой': 11.101313295866047,\n",
       " 'полный': 11.101313295866047,\n",
       " 'плохо': 11.101313295866047,\n",
       " 'сравнение': 11.101313295866047,\n",
       " 'состояниирукавый': 10.695848187757884,\n",
       " 'сделать': 11.101313295866047,\n",
       " 'летучий': 11.101313295866047,\n",
       " 'мышь': 11.101313295866047,\n",
       " 'джинсовый': 11.101313295866047,\n",
       " 'стретч': 11.101313295866047,\n",
       " 'miu': 10.695848187757884,\n",
       " 'нежный': 10.185022563991893,\n",
       " 'неважно': 11.101313295866047,\n",
       " 'посмотреть': 11.101313295866047,\n",
       " 'страница': 11.101313295866047,\n",
       " '174': 11.101313295866047,\n",
       " 'zurok': 11.101313295866047,\n",
       " 'точка': 11.101313295866047,\n",
       " 'tk': 11.101313295866047,\n",
       " 'мужской': 11.101313295866047,\n",
       " 'шорты': 11.101313295866047,\n",
       " 'футболка': 11.101313295866047,\n",
       " 'тя': 10.695848187757884,\n",
       " 'вирус': 11.101313295866047,\n",
       " 'безобразничать': 11.101313295866047,\n",
       " 'ботва': 11.101313295866047,\n",
       " 'приходиться': 11.101313295866047,\n",
       " 'грузиться': 11.101313295866047,\n",
       " 'помошить': 11.101313295866047,\n",
       " 'reatogoxp': 10.002701007197938,\n",
       " 'лечить': 11.101313295866047,\n",
       " 'архивчик': 10.695848187757884,\n",
       " 'установочник': 11.101313295866047,\n",
       " 'битый': 10.408166115306102,\n",
       " 'roberto': 11.101313295866047,\n",
       " 'covalli': 11.101313295866047,\n",
       " 'старый': 10.695848187757884,\n",
       " 'коллекция': 10.695848187757884,\n",
       " 'голограмма': 11.101313295866047,\n",
       " 'италия': 11.101313295866047,\n",
       " 'отправить': 11.101313295866047,\n",
       " 'почта': 11.101313295866047,\n",
       " 'сразу': 10.185022563991893,\n",
       " 'страшный': 11.101313295866047,\n",
       " 'очки': 11.101313295866047,\n",
       " 'надеть': 11.101313295866047,\n",
       " 'нессера': 7.38774122916174,\n",
       " '2шт': 11.101313295866047,\n",
       " 'манька': 11.101313295866047,\n",
       " 'кубик': 11.101313295866047,\n",
       " 'подариморигинальный': 11.101313295866047,\n",
       " 'ответ': 11.101313295866047,\n",
       " 'бbrbrbrbrbrbrbrbrbrbrbrbrответbrbrbrp': 11.101313295866047,\n",
       " 'joy': 11.101313295866047,\n",
       " 'miss': 11.101313295866047,\n",
       " 'предназначаться': 11.101313295866047,\n",
       " 'праздничный': 11.101313295866047,\n",
       " 'мероприятийочень': 11.101313295866047,\n",
       " 'модель': 11.101313295866047,\n",
       " 'идеально': 11.101313295866047,\n",
       " 'скрывать': 8.850021497259553,\n",
       " 'несовершенство': 11.101313295866047,\n",
       " 'фигура': 10.695848187757884,\n",
       " 'привлекательный': 11.101313295866047,\n",
       " 'торжественный': 11.101313295866047,\n",
       " 'мероприятие': 11.101313295866047,\n",
       " 'узвар': 8.658966260496843,\n",
       " 'напиток': 11.101313295866047,\n",
       " 'фрукт': 11.101313295866047,\n",
       " 'относиться': 11.101313295866047,\n",
       " 'украинский': 11.101313295866047,\n",
       " 'кухня': 11.101313295866047,\n",
       " 'произведение': 10.695848187757884,\n",
       " 'верейский': 10.408166115306102,\n",
       " 'девочка': 11.101313295866047,\n",
       " 'момент': 11.101313295866047,\n",
       " 'дружный': 11.101313295866047,\n",
       " 'коммунальный': 11.101313295866047,\n",
       " 'квартира': 11.101313295866047,\n",
       " 'праздновать': 11.101313295866047,\n",
       " 'жилец': 11.101313295866047,\n",
       " 'врач': 11.101313295866047,\n",
       " 'звать': 11.101313295866047,\n",
       " 'доктор': 11.101313295866047,\n",
       " 'готовить': 11.101313295866047,\n",
       " 'угостить': 11.101313295866047,\n",
       " 'сосед': 11.101313295866047,\n",
       " 'неудачно': 11.101313295866047,\n",
       " 'класть': 8.46225596625079,\n",
       " 'соль': 11.101313295866047,\n",
       " 'вместо': 11.101313295866047,\n",
       " 'сахар': 11.101313295866047,\n",
       " 'перепутать': 11.101313295866047,\n",
       " 'баночка': 11.101313295866047,\n",
       " 'горошек': 11.101313295866047,\n",
       " 'симпатичноерозовый': 11.101313295866047,\n",
       " 'трикотажный': 11.101313295866047,\n",
       " 'горошенка': 10.695848187757884,\n",
       " 'блестящий': 11.101313295866047,\n",
       " 'р123128': 9.086410275323782,\n",
       " 'возможно': 10.695848187757884,\n",
       " 'появляться': 11.101313295866047,\n",
       " 'любовник': 11.101313295866047,\n",
       " 'муж': 11.101313295866047,\n",
       " 'паспорт': 11.101313295866047,\n",
       " 'сердце': 11.101313295866047,\n",
       " 'душа': 11.101313295866047,\n",
       " 'невеста': 11.101313295866047,\n",
       " 'неуверенный': 11.101313295866047,\n",
       " 'дойти': 11.101313295866047,\n",
       " 'майк': 8.798728202872002,\n",
       " 'занятие': 11.101313295866047,\n",
       " 'спорт': 11.101313295866047,\n",
       " 'состав': 11.101313295866047,\n",
       " '66': 11.101313295866047,\n",
       " 'полиэстер': 11.101313295866047,\n",
       " '29': 11.101313295866047,\n",
       " 'полиамид': 10.695848187757884,\n",
       " 'эластин': 7.965819079936899,\n",
       " 'европейский': 11.101313295866047,\n",
       " 'находиться': 10.695848187757884,\n",
       " 'район': 11.101313295866047,\n",
       " 'жд': 9.84855032737068,\n",
       " 'вокзал': 11.101313295866047,\n",
       " 'чутьчуть': 11.101313295866047,\n",
       " 'дорогой': 9.84855032737068,\n",
       " 'сын': 8.616406646078048,\n",
       " 'возраст': 11.101313295866047,\n",
       " 'старший': 11.101313295866047,\n",
       " 'младший': 11.101313295866047,\n",
       " 'играть': 11.101313295866047,\n",
       " 'нравиться': 11.101313295866047,\n",
       " 'ставить': 11.101313295866047,\n",
       " 'сценка': 11.101313295866047,\n",
       " 'какиеть': 11.101313295866047,\n",
       " 'стихотворение': 10.695848187757884,\n",
       " 'например': 11.101313295866047,\n",
       " 'заяц': 11.101313295866047,\n",
       " 'гора': 11.101313295866047,\n",
       " 'объявить': 10.695848187757884,\n",
       " 'портной': 11.101313295866047,\n",
       " 'час': 11.101313295866047,\n",
       " 'медвежонок': 8.105581022312057,\n",
       " 'заказ': 9.491875383431948,\n",
       " 'январский': 10.695848187757884,\n",
       " 'холод': 11.101313295866047,\n",
       " 'резать': 11.101313295866047,\n",
       " 'шить': 10.695848187757884,\n",
       " 'медведь': 11.101313295866047,\n",
       " 'берлога': 11.101313295866047,\n",
       " 'ждать': 11.101313295866047,\n",
       " 'пройти': 11.101313295866047,\n",
       " 'прийти': 11.101313295866047,\n",
       " 'штаны': 11.101313295866047,\n",
       " 'вслух': 11.101313295866047,\n",
       " 'слово': 11.101313295866047,\n",
       " 'автор': 11.101313295866047,\n",
       " 'небольшой': 11.101313295866047,\n",
       " 'пауза': 11.101313295866047,\n",
       " 'изображать': 11.101313295866047,\n",
       " 'меняться': 11.101313295866047,\n",
       " 'роль': 11.101313295866047,\n",
       " 'придумать': 11.101313295866047,\n",
       " 'ёлка': 11.101313295866047,\n",
       " 'стоять': 11.101313295866047,\n",
       " 'дом': 11.101313295866047,\n",
       " 'декабрь': 11.101313295866047,\n",
       " 'февраль': 11.101313295866047,\n",
       " 'стих': 11.101313295866047,\n",
       " 'подбирать': 11.101313295866047,\n",
       " 'смешно': 11.101313295866047,\n",
       " 'получаться': 11.101313295866047,\n",
       " 'главное': 11.101313295866047,\n",
       " 'весело': 11.101313295866047,\n",
       " 'развитие': 11.101313295866047,\n",
       " 'учиться': 11.101313295866047,\n",
       " 'понимать': 11.101313295866047,\n",
       " 'текст': 11.101313295866047,\n",
       " 'пригодиться': 11.101313295866047,\n",
       " 'школа': 9.84855032737068,\n",
       " 'шахматы': 11.101313295866047,\n",
       " 'сидеть': 11.101313295866047,\n",
       " 'ходить': 8.536363938404511,\n",
       " 'называться': 10.002701007197938,\n",
       " 'любить': 11.101313295866047,\n",
       " 'домино': 11.101313295866047,\n",
       " 'лото': 11.101313295866047,\n",
       " 'картинка': 11.101313295866047,\n",
       " 'пазл': 11.101313295866047,\n",
       " 'собирать': 11.101313295866047,\n",
       " 'вместе': 10.695848187757884,\n",
       " 'клеить': 11.101313295866047,\n",
       " 'скотч': 11.101313295866047,\n",
       " 'стекло': 11.101313295866047,\n",
       " 'стена': 11.101313295866047,\n",
       " 'ребёночек': 11.101313295866047,\n",
       " 'модульный': 11.101313295866047,\n",
       " 'оригами': 11.101313295866047,\n",
       " 'конкурс': 11.101313295866047,\n",
       " 'поделка': 11.101313295866047,\n",
       " 'участвовать': 11.101313295866047,\n",
       " 'занять': 6.966146739123692,\n",
       " 'танк': 11.101313295866047,\n",
       " 'модуль': 11.101313295866047,\n",
       " 'зелёный': 11.101313295866047,\n",
       " '23': 11.101313295866047,\n",
       " 'ребёнок': 10.695848187757884,\n",
       " 'быстро': 8.360473271940847,\n",
       " 'увлекаться': 11.101313295866047,\n",
       " 'показать': 11.101313295866047,\n",
       " 'отстать': 11.101313295866047,\n",
       " 'надоестно': 11.101313295866047,\n",
       " 'здорово': 11.101313295866047,\n",
       " '4042': 11.101313295866047,\n",
       " 'качество': 10.408166115306102,\n",
       " 'близкий': 11.101313295866047,\n",
       " 'р40': 11.101313295866047,\n",
       " 'невысокий': 11.101313295866047,\n",
       " 'красноватый': 11.101313295866047,\n",
       " 'пятно': 11.101313295866047,\n",
       " 'выпасть': 11.101313295866047,\n",
       " 'волос': 11.101313295866047,\n",
       " 'окружающие': 11.101313295866047,\n",
       " 'выраженный': 11.101313295866047,\n",
       " 'валик': 11.101313295866047,\n",
       " 'припухлость': 11.101313295866047,\n",
       " 'чесаться': 11.101313295866047,\n",
       " 'медленно': 11.101313295866047,\n",
       " 'расползаться': 11.101313295866047,\n",
       " 'название': 10.408166115306102,\n",
       " 'меткий': 9.309553826637993,\n",
       " 'стричь': 11.101313295866047,\n",
       " 'нуль': 10.408166115306102,\n",
       " 'вечерний': 11.101313295866047,\n",
       " '36': 7.7514092085914434,\n",
       " 'платформа': 10.002701007197938,\n",
       " 'высота': 10.408166115306102,\n",
       " 'каблук': 11.101313295866047,\n",
       " '12см': 11.101313295866047,\n",
       " 'надеваться': 11.101313295866047,\n",
       " 'торжество': 11.101313295866047,\n",
       " 'термометр': 10.408166115306102,\n",
       " 'оконный': 11.101313295866047,\n",
       " 'крепкий': 11.101313295866047,\n",
       " 'присоска': 11.101313295866047,\n",
       " 'заглянуть': 11.101313295866047,\n",
       " 'видео': 11.101313295866047,\n",
       " 'видеоролик': 11.101313295866047,\n",
       " 'трансерфинга': 11.101313295866047,\n",
       " 'httpvideomailrumaildad1968myvideo41html': 11.101313295866047,\n",
       " 'угольный': 11.101313295866047,\n",
       " 'вставка': 11.101313295866047,\n",
       " 'вкладыш': 11.101313295866047,\n",
       " 'многоразовый': 10.695848187757884,\n",
       " 'подгузник': 11.101313295866047,\n",
       " 'хороши': 11.101313295866047,\n",
       " 'достаточно': 11.101313295866047,\n",
       " 'плотный': 10.185022563991893,\n",
       " 'отлично': 11.101313295866047,\n",
       " 'впитывать': 11.101313295866047,\n",
       " 'заметный': 11.101313295866047,\n",
       " 'след': 11.101313295866047,\n",
       " 'неожиданностей': 8.498623610421664,\n",
       " 'колвый': 11.101313295866047,\n",
       " 'ограничить': 11.101313295866047,\n",
       " 'кубга': 11.101313295866047,\n",
       " 'одетый': 11.101313295866047,\n",
       " '687480': 10.695848187757884,\n",
       " 'цветной': 11.101313295866047,\n",
       " 'translated': 11.101313295866047,\n",
       " 'into': 11.101313295866047,\n",
       " 'english': 11.101313295866047,\n",
       " 'in': 11.101313295866047,\n",
       " 'fifth': 11.101313295866047,\n",
       " 'grade': 11.101313295866047,\n",
       " 'from': 11.101313295866047,\n",
       " 'us': 11.101313295866047,\n",
       " 'every': 11.101313295866047,\n",
       " 'day': 11.101313295866047,\n",
       " 'lessons': 10.695848187757884,\n",
       " 'неизбитый': 11.101313295866047,\n",
       " 'рисунок': 10.695848187757884,\n",
       " 'сумочка': 11.101313295866047,\n",
       " 'лакированный': 11.101313295866047,\n",
       " 'использоваться': 8.658966260496843,\n",
       " 'практически': 11.101313295866047,\n",
       " '35х27х17см': 11.101313295866047,\n",
       " 'отделение': 11.101313295866047,\n",
       " 'кармашек': 10.695848187757884,\n",
       " 'внешний': 10.695848187757884,\n",
       " 'сторона': 10.695848187757884,\n",
       " 'пристёгиваться': 11.101313295866047,\n",
       " 'ремешок': 11.101313295866047,\n",
       " 'ношение': 11.101313295866047,\n",
       " 'плечо': 11.101313295866047,\n",
       " 'школьный': 11.101313295866047,\n",
       " '13клростовка': 11.101313295866047,\n",
       " '122134': 11.101313295866047,\n",
       " 'дополнительный': 8.46225596625079,\n",
       " 'пуговица': 10.695848187757884,\n",
       " 'регулировать': 11.101313295866047,\n",
       " 'прво': 11.101313295866047,\n",
       " 'шаркан': 11.101313295866047,\n",
       " 'трикотаж': 10.408166115306102,\n",
       " 'аккуратно': 11.101313295866047,\n",
       " 'пол': 10.695848187757884,\n",
       " 'минимум': 11.101313295866047,\n",
       " 'завязывать': 11.101313295866047,\n",
       " 'курево': 10.695848187757884,\n",
       " 'бухло': 11.101313295866047,\n",
       " 'оператор': 11.101313295866047,\n",
       " 'функция': 11.101313295866047,\n",
       " 'родительский': 11.101313295866047,\n",
       " 'контроль': 11.101313295866047,\n",
       " 'како': 11.101313295866047,\n",
       " 'деньга': 11.101313295866047,\n",
       " 'показывать': 11.101313295866047,\n",
       " 'симка': 11.101313295866047,\n",
       " 'телефон': 11.101313295866047,\n",
       " 'pоднажды': 11.101313295866047,\n",
       " 'кот': 11.101313295866047,\n",
       " 'рыжий': 11.101313295866047,\n",
       " 'идти': 11.101313295866047,\n",
       " 'левый': 11.101313295866047,\n",
       " 'справа': 10.695848187757884,\n",
       " 'увидеть': 11.101313295866047,\n",
       " 'пенька': 11.101313295866047,\n",
       " 'жёлтенький': 9.229511118964457,\n",
       " 'птичка': 10.695848187757884,\n",
       " 'петь': 11.101313295866047,\n",
       " 'прыгать': 11.101313295866047,\n",
       " 'скакать': 11.101313295866047,\n",
       " 'приготовиться': 11.101313295866047,\n",
       " 'спрятаться': 11.101313295866047,\n",
       " 'куст': 11.101313295866047,\n",
       " 'друг': 11.101313295866047,\n",
       " 'думать': 11.101313295866047,\n",
       " 'птица': 11.101313295866047,\n",
       " 'выпрыгнуть': 10.695848187757884,\n",
       " 'резко': 11.101313295866047,\n",
       " 'испугаться': 11.101313295866047,\n",
       " 'вспархнуть': 10.695848187757884,\n",
       " 'улететь': 11.101313295866047,\n",
       " 'столкнуться': 11.101313295866047,\n",
       " 'носамиbrp': 11.101313295866047,\n",
       " ...}"
      ]
     },
     "execution_count": 20,
     "metadata": {},
     "output_type": "execute_result"
    }
   ],
   "source": [
    "idfs = {v[0]: v[1] for v in zip(tfidf_vect.vocabulary_, tfidf_vect.idf_)}\n",
    "idfs"
   ]
  },
  {
   "cell_type": "code",
   "execution_count": 21,
   "metadata": {},
   "outputs": [],
   "source": [
    "idfs = {v[0]: v[1] for v in zip(tfidf_vect.vocabulary_, tfidf_vect.idf_)}"
   ]
  },
  {
   "cell_type": "code",
   "execution_count": 22,
   "metadata": {},
   "outputs": [
    {
     "data": {
      "text/plain": [
       "150277"
      ]
     },
     "execution_count": 22,
     "metadata": {},
     "output_type": "execute_result"
    }
   ],
   "source": [
    "len(idfs.keys())"
   ]
  },
  {
   "cell_type": "code",
   "execution_count": 23,
   "metadata": {},
   "outputs": [
    {
     "data": {
      "text/plain": [
       "['pandrew', 'lih', 'the', 'wikipedia', 'revolution']"
      ]
     },
     "execution_count": 23,
     "metadata": {},
     "output_type": "execute_result"
    }
   ],
   "source": [
    "list(idfs.keys())[:5]"
   ]
  },
  {
   "cell_type": "code",
   "execution_count": 24,
   "metadata": {},
   "outputs": [
    {
     "data": {
      "text/plain": [
       "[9.229511118964457,\n",
       " 7.040870285319628,\n",
       " 10.408166115306102,\n",
       " 11.101313295866047,\n",
       " 11.101313295866047]"
      ]
     },
     "execution_count": 24,
     "metadata": {},
     "output_type": "execute_result"
    }
   ],
   "source": [
    "list(idfs.values())[:5]"
   ]
  },
  {
   "cell_type": "code",
   "execution_count": 26,
   "metadata": {},
   "outputs": [
    {
     "data": {
      "application/vnd.jupyter.widget-view+json": {
       "model_id": "99669c41a23f4d2fbe84ffff86d1b7a2",
       "version_major": 2,
       "version_minor": 0
      },
      "text/plain": [
       "  0%|          | 0/35548 [00:00<?, ?it/s]"
      ]
     },
     "metadata": {},
     "output_type": "display_data"
    }
   ],
   "source": [
    "# Создаем Индексы для продуктовых данных\n",
    "\n",
    "file_path_from = 'shop.ann'\n",
    "if not os.path.isfile(file_path_from):  \n",
    "    \n",
    "    \n",
    "    ft_index_shop = annoy.AnnoyIndex(100 ,'angular')\n",
    "\n",
    "    midf = np.mean(tfidf_vect.idf_)\n",
    "\n",
    "    index_map_shop = {}\n",
    "    counter = 0\n",
    "\n",
    "    for i in tqdm(range(len(shop_data))):\n",
    "        n_ft = 0\n",
    "        index_map_shop[counter] = (shop_data.loc[i, \"title\"], shop_data.loc[i, \"image_links\"])\n",
    "        vector_ft = np.zeros(100)\n",
    "        for word in shop_data.loc[i, \"text\"]:\n",
    "            if word in modelFT.wv:\n",
    "                vector_ft += modelFT.wv[word] * idfs.get(word, midf)\n",
    "                n_ft += idfs.get(word, midf)\n",
    "        if n_ft > 0:\n",
    "            vector_ft = vector_ft / n_ft\n",
    "        ft_index_shop.add_item(counter, vector_ft)\n",
    "        counter += 1\n",
    "\n",
    "    ft_index_shop.build(10)\n",
    "    ft_index_shop.save('shop.ann')\n",
    "\n",
    "    file_path_from = 'index_shop.pkl'\n",
    "    if not os.path.isfile(file_path_from):  \n",
    "    \n",
    "        with open(\"index_shop.pkl\", \"wb\") as f:\n",
    "            pickle.dump(index_map_shop, f)"
   ]
  },
  {
   "cell_type": "code",
   "execution_count": 27,
   "metadata": {},
   "outputs": [],
   "source": [
    "ft_index_shop = annoy.AnnoyIndex(100, 'angular')\n",
    "ft_index_shop.load('shop.ann') \n",
    "\n",
    "index_map_shop = pd.read_pickle(\"index_shop.pkl\")"
   ]
  },
  {
   "cell_type": "code",
   "execution_count": 28,
   "metadata": {},
   "outputs": [],
   "source": [
    "def embed_txt(txt, idfs, midf):\n",
    "    n_ft = 0\n",
    "    vector_ft = np.zeros(100)\n",
    "    for word in txt:\n",
    "        if word in modelFT:\n",
    "            vector_ft += modelFT[word] * idfs.get(word, midf)\n",
    "            n_ft += idfs.get(word, midf)\n",
    "    return vector_ft / n_ft"
   ]
  },
  {
   "cell_type": "code",
   "execution_count": 29,
   "metadata": {},
   "outputs": [
    {
     "data": {
      "text/plain": [
       "([3580, 5630, 11797, 13394, 26689],\n",
       " [1.3897706270217896,\n",
       "  1.394075870513916,\n",
       "  1.3944226503372192,\n",
       "  1.3963463306427002,\n",
       "  1.3985785245895386])"
      ]
     },
     "execution_count": 29,
     "metadata": {},
     "output_type": "execute_result"
    }
   ],
   "source": [
    "ft_index_shop.get_nns_by_vector(np.ones(100)*100, 5, include_distances=True)"
   ]
  },
  {
   "cell_type": "code",
   "execution_count": 65,
   "metadata": {},
   "outputs": [],
   "source": [
    "# заменить на свой токен\n",
    "updater = Updater(\"6183861508:AAHulu2IbcoSmmBY4_WVVzPt8CnpP1XXz-E\", update_queue=None) # Токен API к Telegram\n",
    "#dispatcher = updater.dispatcher - no more dispatcher attribute\n",
    "#updater.update_queue"
   ]
  },
  {
   "cell_type": "code",
   "execution_count": 66,
   "metadata": {},
   "outputs": [],
   "source": [
    "\n",
    "\n",
    "def startCommand(update, context):\n",
    "    context.bot.send_message(chat_id=update.message.chat_id, text='Привет, давай пообщаемся?')\n",
    "\n",
    "def textMessage(update, context):\n",
    "    \n",
    "    input_txt = preprocess_txt(update.message.text)\n",
    "    vect = vectorizer.transform([\" \".join(input_txt)])\n",
    "    prediction = lr.predict(vect)\n",
    "    \n",
    "    if prediction[0] == 1:\n",
    "        vect_ft = embed_txt(input_txt, idfs, midf)\n",
    "        ft_index_shop_val = ft_index_shop.get_nns_by_vector(vect_ft, 5)\n",
    "        for item in ft_index_shop_val:\n",
    "            title, image = index_map_shop[item]\n",
    "            context.bot.send_message(chat_id=update.message.chat_id, text=\"title: {} image: {}\".format(title, image))\n",
    "        return\n",
    "    vect_ft = embed_txt(input_txt, {}, 1)\n",
    "    ft_index_val, distances = ft_index.get_nns_by_vector(vect_ft, 1, include_distances=True)\n",
    "    if distances[0] > 0.5:\n",
    "        print(distances[0])\n",
    "        context.bot.send_message(chat_id=update.message.chat_id, text=\"Моя твоя не понимать\")\n",
    "        return\n",
    "    context.bot.send_message(chat_id=update.message.chat_id, text=index_map[ft_index_val[0]])\n",
    "        \n",
    "start_command_handler = CommandHandler('start', startCommand)\n",
    "text_message_handler = MessageHandler(filters.Text, textMessage)\n",
    "\n"
   ]
  },
  {
   "cell_type": "code",
   "execution_count": 69,
   "metadata": {},
   "outputs": [
    {
     "name": "stderr",
     "output_type": "stream",
     "text": [
      "C:\\Users\\vmakh\\AppData\\Local\\Temp\\ipykernel_4396\\1138235915.py:1: RuntimeWarning: coroutine 'Updater.start_webhook' was never awaited\n",
      "  updater.start_webhook(listen=start_command_handler, port=80)\n",
      "RuntimeWarning: Enable tracemalloc to get the object allocation traceback\n",
      "C:\\Users\\vmakh\\AppData\\Local\\Temp\\ipykernel_4396\\1138235915.py:3: RuntimeWarning: coroutine 'Updater.start_webhook' was never awaited\n",
      "  updater.start_webhook(listen=text_message_handler, port=80)\n",
      "RuntimeWarning: Enable tracemalloc to get the object allocation traceback\n"
     ]
    },
    {
     "data": {
      "text/plain": [
       "<coroutine object Updater.start_polling at 0x000001802B9AD2A0>"
      ]
     },
     "execution_count": 69,
     "metadata": {},
     "output_type": "execute_result"
    }
   ],
   "source": [
    "updater.start_webhook(listen=start_command_handler, port=80)\n",
    "#updater.start_webhook(start_command_handler)\n",
    "updater.start_webhook(listen=text_message_handler, port=80)\n",
    "updater.start_polling()\n",
    "#updater.stop()"
   ]
  },
  {
   "cell_type": "code",
   "execution_count": 50,
   "metadata": {},
   "outputs": [
    {
     "ename": "AttributeError",
     "evalue": "'Updater' object has no attribute 'dispatcher'",
     "output_type": "error",
     "traceback": [
      "\u001b[1;31m---------------------------------------------------------------------------\u001b[0m",
      "\u001b[1;31mAttributeError\u001b[0m                            Traceback (most recent call last)",
      "Cell \u001b[1;32mIn[50], line 3\u001b[0m\n\u001b[0;32m      1\u001b[0m \u001b[38;5;66;03m# заменить на свой токен\u001b[39;00m\n\u001b[0;32m      2\u001b[0m \u001b[38;5;66;03m#updater = Updater(\"6183861508:AAHulu2IbcoSmmBY4_WVVzPt8CnpP1XXz-E\", update_queue=update_queue) # Токен API к Telegram\u001b[39;00m\n\u001b[1;32m----> 3\u001b[0m dispatcher \u001b[38;5;241m=\u001b[39m \u001b[43mupdater\u001b[49m\u001b[38;5;241;43m.\u001b[39;49m\u001b[43mdispatcher\u001b[49m\n\u001b[0;32m      5\u001b[0m \u001b[38;5;28;01mdef\u001b[39;00m \u001b[38;5;21mstartCommand\u001b[39m(update, context):\n\u001b[0;32m      6\u001b[0m     context\u001b[38;5;241m.\u001b[39mbot\u001b[38;5;241m.\u001b[39msend_message(chat_id\u001b[38;5;241m=\u001b[39mupdate\u001b[38;5;241m.\u001b[39mmessage\u001b[38;5;241m.\u001b[39mchat_id, text\u001b[38;5;241m=\u001b[39m\u001b[38;5;124m'\u001b[39m\u001b[38;5;124mПривет, давай пообщаемся?\u001b[39m\u001b[38;5;124m'\u001b[39m)\n",
      "\u001b[1;31mAttributeError\u001b[0m: 'Updater' object has no attribute 'dispatcher'"
     ]
    }
   ],
   "source": [
    "# заменить на свой токен\n",
    "#updater = Updater(\"6183861508:AAHulu2IbcoSmmBY4_WVVzPt8CnpP1XXz-E\", update_queue=update_queue) # Токен API к Telegram\n",
    "dispatcher = updater.dispatcher\n",
    "\n",
    "def startCommand(update, context):\n",
    "    context.bot.send_message(chat_id=update.message.chat_id, text='Привет, давай пообщаемся?')\n",
    "\n",
    "def textMessage(update, context):\n",
    "    \n",
    "    input_txt = preprocess_txt(update.message.text)\n",
    "    vect = vectorizer.transform([\" \".join(input_txt)])\n",
    "    prediction = lr.predict(vect)\n",
    "    \n",
    "    if prediction[0] == 1:\n",
    "        vect_ft = embed_txt(input_txt, idfs, midf)\n",
    "        ft_index_shop_val = ft_index_shop.get_nns_by_vector(vect_ft, 5)\n",
    "        for item in ft_index_shop_val:\n",
    "            title, image = index_map_shop[item]\n",
    "            context.bot.send_message(chat_id=update.message.chat_id, text=\"title: {} image: {}\".format(title, image))\n",
    "        return\n",
    "    vect_ft = embed_txt(input_txt, {}, 1)\n",
    "    ft_index_val, distances = ft_index.get_nns_by_vector(vect_ft, 1, include_distances=True)\n",
    "    if distances[0] > 0.5:\n",
    "        print(distances[0])\n",
    "        context.bot.send_message(chat_id=update.message.chat_id, text=\"Моя твоя не понимать\")\n",
    "        return\n",
    "    context.bot.send_message(chat_id=update.message.chat_id, text=index_map[ft_index_val[0]])\n",
    "        \n",
    "start_command_handler = CommandHandler('start', startCommand)\n",
    "text_message_handler = MessageHandler(Filters.text, textMessage)\n",
    "dispatcher.add_handler(start_command_handler)\n",
    "dispatcher.add_handler(text_message_handler)\n",
    "updater.start_polling(clean=True)\n",
    "updater.idle()"
   ]
  },
  {
   "cell_type": "code",
   "execution_count": null,
   "metadata": {},
   "outputs": [],
   "source": []
  },
  {
   "cell_type": "code",
   "execution_count": 41,
   "metadata": {},
   "outputs": [],
   "source": [
    "#from telegram.ext import Updater, CommandHandler, MessageHandler, Filters\n",
    "\n",
    "def startCommand(update, context):\n",
    "    context.bot.send_message(chat_id=update.message.chat_id, text='Привет, давай пообщаемся?')\n",
    "\n",
    "def textMessage(update, context):\n",
    "    \n",
    "    input_txt = preprocess_txt(update.message.text)\n",
    "    vect = vectorizer.transform([\" \".join(input_txt)])\n",
    "    prediction = lr.predict(vect)\n",
    "    \n",
    "    if prediction[0] == 1:\n",
    "        vect_ft = embed_txt(input_txt, idfs, midf)\n",
    "        ft_index_shop_val = ft_index_shop.get_nns_by_vector(vect_ft, 5)\n",
    "        for item in ft_index_shop_val:\n",
    "            title, image = index_map_shop[item]\n",
    "            context.bot.send_message(chat_id=update.message.chat_id, text=\"title: {} image: {}\".format(title, image))\n",
    "        return\n",
    "    vect_ft = embed_txt(input_txt, {}, 1)\n",
    "    ft_index_val, distances = ft_index.get_nns_by_vector(vect_ft, 1, include_distances=True)\n",
    "    if distances[0] > 0.5:\n",
    "        print(distances[0])\n",
    "        context.bot.send_message(chat_id=update.message.chat_id, text=\"Моя твоя не понимать\")\n",
    "        return\n",
    "    context.bot.send_message(chat_id=update.message.chat_id, text=index_map[ft_index_val[0]])\n",
    "        \n",
    "\n"
   ]
  },
  {
   "cell_type": "code",
   "execution_count": 35,
   "metadata": {},
   "outputs": [
    {
     "name": "stderr",
     "output_type": "stream",
     "text": [
      "<ipython-input-35-5d70c0b49d4a>:8: TqdmDeprecationWarning: This function will be removed in tqdm==5.0.0\n",
      "Please use `tqdm.notebook.tqdm` instead of `tqdm.tqdm_notebook`\n",
      "  for i in tqdm_notebook(range(len(shop_data))):\n"
     ]
    },
    {
     "data": {
      "application/vnd.jupyter.widget-view+json": {
       "model_id": "90a6d0f011de4b619d4f03120ead40df",
       "version_major": 2,
       "version_minor": 0
      },
      "text/plain": [
       "HBox(children=(FloatProgress(value=0.0, max=35548.0), HTML(value='')))"
      ]
     },
     "metadata": {},
     "output_type": "display_data"
    },
    {
     "name": "stdout",
     "output_type": "stream",
     "text": [
      "\n"
     ]
    },
    {
     "data": {
      "text/plain": [
       "True"
      ]
     },
     "execution_count": 35,
     "metadata": {},
     "output_type": "execute_result"
    }
   ],
   "source": [
    "ft_index_shop = annoy.AnnoyIndex(100 ,'angular')\n",
    "\n",
    "midf = np.mean(tfidf_vect.idf_)\n",
    "\n",
    "index_map_shop = {}\n",
    "counter = 0\n",
    "\n",
    "for i in tqdm_notebook(range(len(shop_data))):\n",
    "    n_ft = 0\n",
    "    index_map_shop[counter] = (shop_data.loc[i, \"title\"], shop_data.loc[i, \"image_links\"])\n",
    "    vector_ft = np.zeros(100)\n",
    "    for word in shop_data.loc[i, \"text\"]:\n",
    "        if word in modelFT.wv:\n",
    "            vector_ft += modelFT.wv[word] * 1 # idfs.get(word, midf)\n",
    "            n_ft += 1 # idfs.get(word, midf)\n",
    "    if n_ft > 0:\n",
    "        vector_ft = vector_ft / n_ft\n",
    "    ft_index_shop.add_item(counter, vector_ft)\n",
    "    counter += 1\n",
    "\n",
    "ft_index_shop.build(10)\n",
    "ft_index_shop.save('shop.ann')"
   ]
  },
  {
   "cell_type": "code",
   "execution_count": null,
   "metadata": {},
   "outputs": [],
   "source": []
  },
  {
   "cell_type": "code",
   "execution_count": null,
   "metadata": {},
   "outputs": [],
   "source": []
  },
  {
   "cell_type": "code",
   "execution_count": 22,
   "metadata": {},
   "outputs": [],
   "source": [
    "ft_index_shop = annoy.AnnoyIndex(100, 'angular')\n",
    "ft_index_shop.load('shop.ann') \n",
    "\n",
    "midf = np.mean(tfidf_vect.idf_)"
   ]
  },
  {
   "cell_type": "code",
   "execution_count": 36,
   "metadata": {},
   "outputs": [],
   "source": [
    "assert True\n",
    "import pickle\n",
    "\n",
    "with open(\"index_shop.pkl\", \"wb\") as f:\n",
    "    pickle.dump(index_map, f)"
   ]
  },
  {
   "cell_type": "code",
   "execution_count": 23,
   "metadata": {},
   "outputs": [
    {
     "data": {
      "text/plain": [
       "True"
      ]
     },
     "execution_count": 23,
     "metadata": {},
     "output_type": "execute_result"
    }
   ],
   "source": [
    "'бегать' in modelFT.wv"
   ]
  },
  {
   "cell_type": "code",
   "execution_count": 25,
   "metadata": {},
   "outputs": [],
   "source": [
    "def embed_txt(txt, idfs, midf):\n",
    "    n_ft = 0\n",
    "    vector_ft = np.zeros(100)\n",
    "    for word in txt:\n",
    "        if word in modelFT.wv:\n",
    "            vector_ft += modelFT.wv[word] * 1 # idfs.get(word, midf)\n",
    "            n_ft += 1 # idfs.get(word, midf)\n",
    "    return vector_ft / n_ft"
   ]
  },
  {
   "cell_type": "code",
   "execution_count": 26,
   "metadata": {},
   "outputs": [
    {
     "data": {
      "text/plain": [
       "([394, 906, 1207, 1216, 1271],\n",
       " [1.4142135381698608,\n",
       "  1.4142135381698608,\n",
       "  1.4142135381698608,\n",
       "  1.4142135381698608,\n",
       "  1.4142135381698608])"
      ]
     },
     "execution_count": 26,
     "metadata": {},
     "output_type": "execute_result"
    }
   ],
   "source": [
    "ft_index_shop.get_nns_by_vector(np.zeros(100), 5, include_distances=True)"
   ]
  },
  {
   "cell_type": "code",
   "execution_count": 31,
   "metadata": {},
   "outputs": [],
   "source": [
    "import os\n",
    "import logging\n",
    "from telegram import Update\n",
    "from telegram.ext import Updater, CommandHandler, MessageHandler, Filters, CallbackContext"
   ]
  },
  {
   "cell_type": "code",
   "execution_count": 32,
   "metadata": {},
   "outputs": [],
   "source": [
    "updater = Updater(\"1435831861:AAG3gLyDHH3rno8jyce60z1D3kZ4Ih8tU2o\", use_context=True)  # Токен API к Telegram\n",
    "dispatcher = updater.dispatcher"
   ]
  },
  {
   "cell_type": "code",
   "execution_count": 33,
   "metadata": {},
   "outputs": [],
   "source": [
    "def startCommand(update: Update, context: CallbackContext):\n",
    "    update.message.reply_text('Добрый день!')\n",
    "\n",
    "def textMessage(update: Update, context: CallbackContext):\n",
    "    input_txt = preprocess_txt(update.message.text)\n",
    "    vect = vectorizer.transform([\" \".join(input_txt)])\n",
    "    prediction = lr.predict(vect)\n",
    "    \n",
    "    if prediction[0] == 1:\n",
    "        vect_ft = embed_txt(input_txt, idfs, midf)\n",
    "        ft_index_shop_val = ft_index_shop.get_nns_by_vector(vect_ft, 5)\n",
    "        for item in ft_index_shop_val:\n",
    "            title, image = index_map_shop[item]\n",
    "            update.message.reply_text(\"title: {} image: {}\".format(title, image))\n",
    "            # bot.send_message(chat_id=update.message.chat_id, text=\"title: {} image: {}\".format(title, image))\n",
    "        return\n",
    "    vect_ft = embed_txt(input_txt, {}, 1)\n",
    "    ft_index_val, distances = ft_index.get_nns_by_vector(vect_ft, 1, include_distances=True)\n",
    "    if distances[0] > 0.35:\n",
    "        print(distances[0])\n",
    "        update.message.reply_text(\"Моя твоя не понимать\")\n",
    "        return\n",
    "    update.message.reply_text(index_map[ft_index_val[0]])"
   ]
  },
  {
   "cell_type": "code",
   "execution_count": null,
   "metadata": {},
   "outputs": [
    {
     "name": "stderr",
     "output_type": "stream",
     "text": [
      "<ipython-input-25-eda7a282e6ed>:8: RuntimeWarning: invalid value encountered in true_divide\n",
      "  return vector_ft / n_ft\n"
     ]
    },
    {
     "name": "stdout",
     "output_type": "stream",
     "text": [
      "1.4142135381698608\n"
     ]
    }
   ],
   "source": [
    "# on different commands - answer in Telegram\n",
    "dispatcher.add_handler(CommandHandler(\"start\", startCommand))\n",
    "dispatcher.add_handler(MessageHandler(Filters.text & ~Filters.command, textMessage))\n",
    "\n",
    "# Start the Bot\n",
    "updater.start_polling()\n",
    "updater.idle()"
   ]
  },
  {
   "cell_type": "code",
   "execution_count": null,
   "metadata": {},
   "outputs": [],
   "source": []
  },
  {
   "cell_type": "code",
   "execution_count": null,
   "metadata": {},
   "outputs": [],
   "source": []
  },
  {
   "cell_type": "code",
   "execution_count": null,
   "metadata": {},
   "outputs": [],
   "source": []
  }
 ],
 "metadata": {
  "kernelspec": {
   "display_name": "Python 3 (ipykernel)",
   "language": "python",
   "name": "python3"
  },
  "language_info": {
   "codemirror_mode": {
    "name": "ipython",
    "version": 3
   },
   "file_extension": ".py",
   "mimetype": "text/x-python",
   "name": "python",
   "nbconvert_exporter": "python",
   "pygments_lexer": "ipython3",
   "version": "3.10.11"
  }
 },
 "nbformat": 4,
 "nbformat_minor": 2
}
