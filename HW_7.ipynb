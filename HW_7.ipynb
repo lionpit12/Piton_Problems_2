{
 "cells": [
  {
   "cell_type": "markdown",
   "id": "640ed4d8",
   "metadata": {},
   "source": [
    "__Задача 1__\n",
    "\n",
    "Дана матрица объект-признак\n",
    "```\n",
    "X = [[ 1.22401313,  2.30868478,  3.03636353,  2.69287214],\n",
    "     [-0.18757272,  1.30337355,  5.12093014,  3.46363202],\n",
    "     [-0.81094525,  1.82463398,  5.79686488,  1.86159445],\n",
    "     [ 0.75129018,  2.67392052,  3.65529809,  1.66746094],\n",
    "     [ 0.00972362,  1.97367255,  2.50594319,  1.69755173],\n",
    "     [-0.62972637,  0.77750764,  2.84124027,  4.54410559],\n",
    "     [ 2.29536229,  1.81206697,  1.95026215,  1.51874636],\n",
    "     [ 0.0920418 ,  2.26971361,  7.47708735,  2.61081203],\n",
    "     [ 2.39252799,  3.17563985,  3.61420599,  5.10773362],\n",
    "     [ 0.54983815,  2.87988651,  1.65752765,  1.59635987]]\n",
    "```\n",
    "и значения целевой переменной\n",
    "```\n",
    "y = [ 9.26193358,  9.700363  ,  8.67214805,  8.74796974,  6.18689108,\n",
    "      7.53312713,  7.57643777, 12.44965478, 14.29010746,  6.68361218]\n",
    "```\n",
    "\n",
    "Подберите два признака (из четырёх) так, чтобы уровень линейной зависимости целевой переменной от значений этих признаков был максимальным. Другими словами, модель линейной регрессии на этих признаках должна давать наилучший результат. В качестве ответа запишите значение коэффициента детерминации для модели на этих признаках.\n",
    "\n",
    "__Ответ__: 0.76342462\n"
   ]
  },
  {
   "cell_type": "code",
   "execution_count": 99,
   "id": "71c10830",
   "metadata": {},
   "outputs": [],
   "source": [
    "import numpy as np, pandas as pd\n",
    "from matplotlib import pyplot as plt\n",
    "\n",
    "plt.style.use('seaborn-whitegrid')\n",
    "%config InlineBackend.figure_formats = ['svg']"
   ]
  },
  {
   "cell_type": "code",
   "execution_count": 102,
   "id": "de007167",
   "metadata": {},
   "outputs": [],
   "source": [
    "X = [[ 1.22401313,  2.30868478,  3.03636353,  2.69287214],\n",
    "     [-0.18757272,  1.30337355,  5.12093014,  3.46363202],\n",
    "     [-0.81094525,  1.82463398,  5.79686488,  1.86159445],\n",
    "     [ 0.75129018,  2.67392052,  3.65529809,  1.66746094],\n",
    "     [ 0.00972362,  1.97367255,  2.50594319,  1.69755173],\n",
    "     [-0.62972637,  0.77750764,  2.84124027,  4.54410559],\n",
    "     [ 2.29536229,  1.81206697,  1.95026215,  1.51874636],\n",
    "     [ 0.0920418 ,  2.26971361,  7.47708735,  2.61081203],\n",
    "     [ 2.39252799,  3.17563985,  3.61420599,  5.10773362],\n",
    "     [ 0.54983815,  2.87988651,  1.65752765,  1.59635987]]\n",
    "y = [ 9.26193358,  9.700363  ,  8.67214805,  8.74796974,  6.18689108,\n",
    "      7.53312713,  7.57643777, 12.44965478, 14.29010746,  6.68361218]"
   ]
  },
  {
   "cell_type": "code",
   "execution_count": 119,
   "id": "64d90ea9",
   "metadata": {},
   "outputs": [],
   "source": [
    "cr_array=lambda a:np.array(a)\n",
    "X = cr_array(X)\n",
    "y= cr_array(y)\n",
    "#y=y.reshape((y.shape[0],1))"
   ]
  },
  {
   "cell_type": "code",
   "execution_count": 117,
   "id": "5cf9aceb",
   "metadata": {},
   "outputs": [],
   "source": [
    "def find_R2(a,b):\n",
    "    \"\"\"\n",
    "    This function returns the R2 of the two sets of data of equal size\n",
    "    \"\"\"\n",
    "    assert a.size==b.size and type(a)==type(b)==np.ndarray, \"Only data sets of equal size and type allowed\"\n",
    "    return np.corrcoef(a,b)[0,1]**2"
   ]
  },
  {
   "cell_type": "code",
   "execution_count": 120,
   "id": "bd2a32b8",
   "metadata": {},
   "outputs": [
    {
     "data": {
      "text/plain": [
       "0.3635086384600966"
      ]
     },
     "execution_count": 120,
     "metadata": {},
     "output_type": "execute_result"
    }
   ],
   "source": [
    "final=[]\n",
    "for i in range(X.shape[1]):\n",
    "    final.append(find_R2(y,X[:,i]))\n",
    "max(final)"
   ]
  },
  {
   "cell_type": "markdown",
   "id": "d17c39cd",
   "metadata": {},
   "source": [
    "Задача 2__\n",
    "\n",
    "Является ли значимым уравнение регрессии, полученное в предыдущей задаче? В качестве ответа запишите 1, если является, и 0 иначе.\n",
    "\n",
    "__Ответ__: 1\n"
   ]
  },
  {
   "cell_type": "markdown",
   "id": "9904acb2",
   "metadata": {},
   "source": [
    "Так как же тогда определить, какой коэффициент детерминации означает\n",
    "значимый уровень соответствия модели данным, а какой — нет?\n",
    "Для таких целей существует т.н. F-тест Фишера: \n",
    "$$ F=\\frac{\\frac{R^2}{m}}{\\frac{1-R^2}{n-m-1}}$$ k1=m, k2=n-m-1"
   ]
  },
  {
   "cell_type": "code",
   "execution_count": 137,
   "id": "4793b020",
   "metadata": {},
   "outputs": [
    {
     "data": {
      "text/plain": [
       "(1, 8)"
      ]
     },
     "execution_count": 137,
     "metadata": {},
     "output_type": "execute_result"
    }
   ],
   "source": [
    "n = y.shape[0]\n",
    "m = 1\n",
    "k1 = m\n",
    "k2 = n - m - 1\n",
    "k1,k2"
   ]
  },
  {
   "cell_type": "code",
   "execution_count": 138,
   "id": "aec083f0",
   "metadata": {},
   "outputs": [],
   "source": [
    "from scipy import stats"
   ]
  },
  {
   "cell_type": "code",
   "execution_count": 140,
   "id": "fbba0acc",
   "metadata": {},
   "outputs": [
    {
     "data": {
      "text/plain": [
       "5.32"
      ]
     },
     "execution_count": 140,
     "metadata": {},
     "output_type": "execute_result"
    }
   ],
   "source": [
    "alpha = 0.05\n",
    "\n",
    "t = stats.f.ppf(1 - alpha, k1, k2)\n",
    "round(t,2)"
   ]
  },
  {
   "cell_type": "markdown",
   "id": "0b6fb14a",
   "metadata": {},
   "source": [
    "Итак, критическая область: $$\\Omega_a=(5.32,\\infty)$$"
   ]
  },
  {
   "cell_type": "code",
   "execution_count": 142,
   "id": "eae5bd43",
   "metadata": {},
   "outputs": [
    {
     "data": {
      "text/plain": [
       "4.568735271013353"
      ]
     },
     "execution_count": 142,
     "metadata": {},
     "output_type": "execute_result"
    }
   ],
   "source": [
    "\n",
    "R=0.3635\n",
    "F = (R / k1) / ((1 - R) / k2)\n",
    "F"
   ]
  },
  {
   "cell_type": "markdown",
   "id": "d0b8f417",
   "metadata": {},
   "source": [
    "Статистика не попала в критическую область, уравнение регрессии признаётся незначимым. Таким образом нулевая гипотеза подтвердилась.Ответ 0"
   ]
  },
  {
   "cell_type": "markdown",
   "id": "8f7c5941",
   "metadata": {},
   "source": [
    "__Задача 3__\n",
    "\n",
    "Для проведения A/B-тестирования сайта интернет-магазина были получены следующие данные: страница `A` была посещена 2509 раз, из них 77 закончились совершением покупки, страница `B` была посещена 1465 раз, 60 из них закончились совершением покупки. Является ли значимым отличие конверсии на страницах `A` и `B`? В качестве ответа запишите 1, если является, и 0 иначе.\n",
    "\n",
    "_Подсказка_. Реализуйте двухвыборочный t-тест. В качестве выборок здесь можно взять наборы меток совершения покупки (0 или 1) каждым посетителем.\n"
   ]
  },
  {
   "cell_type": "markdown",
   "id": "c3543bd6",
   "metadata": {},
   "source": [
    "### Решение:\n",
    "будем использовать z критерий для 2-х долей:\n",
    "\n",
    "\\begin{cases}\n",
    "    H_0,&\\text{if       }  p1= p2\\\\\n",
    "    H_{al},&\\text{otherwise}\n",
    "\\end{cases}\n",
    "\n",
    "\\begin{equation}\n",
    "    Z(X^n_1,X^n_2)=\\frac{p_2-p_1}{\\sqrt{\\hat p(1-\\hat p)(\\frac{1}{n_1}-\\frac{1}{n_2})}}\n",
    "\\end{equation}\n",
    "\n",
    "\\begin{equation}\n",
    "    \\hat p=\\frac{(p_1n_1+p_2n_2)}{n_1+n_2}\n",
    "\\end{equation}"
   ]
  },
  {
   "cell_type": "code",
   "execution_count": 145,
   "id": "bc99c544",
   "metadata": {},
   "outputs": [
    {
     "data": {
      "text/plain": [
       "1.7113268312162773"
      ]
     },
     "execution_count": 145,
     "metadata": {},
     "output_type": "execute_result"
    }
   ],
   "source": [
    "s1=77\n",
    "n1=2509\n",
    "s2=60\n",
    "n2=1465\n",
    "p1=s1/n1\n",
    "p2=s2/n2\n",
    "p=(p1*n1+p2*n2)/(n1+n2)\n",
    "Z=(p2-p1)/(p*(1-p)*(1/n1+1/n2))**0.5\n",
    "Z"
   ]
  },
  {
   "cell_type": "code",
   "execution_count": 148,
   "id": "38a6a4cc",
   "metadata": {},
   "outputs": [],
   "source": [
    "from scipy.stats import norm"
   ]
  },
  {
   "cell_type": "code",
   "execution_count": 151,
   "id": "9e11c92c",
   "metadata": {},
   "outputs": [
    {
     "data": {
      "text/plain": [
       "1.912979204078229"
      ]
     },
     "execution_count": 151,
     "metadata": {},
     "output_type": "execute_result"
    }
   ],
   "source": [
    "p_value=norm.cdf(Z)\n",
    "p_value*2"
   ]
  },
  {
   "cell_type": "markdown",
   "id": "1f89f1e1",
   "metadata": {},
   "source": [
    "Итак, значение Z у нас меньше чем значение p_value сл-но нулевая гипотеза правильная, \n",
    "соответственно отличие конверсии на страницах `A` и `B` не является ли значимым. Ответ 0"
   ]
  },
  {
   "cell_type": "code",
   "execution_count": null,
   "id": "fb81c673",
   "metadata": {},
   "outputs": [],
   "source": []
  }
 ],
 "metadata": {
  "kernelspec": {
   "display_name": "Python 3 (ipykernel)",
   "language": "python",
   "name": "python3"
  },
  "language_info": {
   "codemirror_mode": {
    "name": "ipython",
    "version": 3
   },
   "file_extension": ".py",
   "mimetype": "text/x-python",
   "name": "python",
   "nbconvert_exporter": "python",
   "pygments_lexer": "ipython3",
   "version": "3.8.12"
  }
 },
 "nbformat": 4,
 "nbformat_minor": 5
}
