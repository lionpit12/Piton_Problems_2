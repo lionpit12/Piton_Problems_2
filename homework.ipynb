{
 "cells": [
  {
   "cell_type": "markdown",
   "metadata": {},
   "source": [
    "# Урок 3. Логистическая регрессия. Log Loss"
   ]
  },
  {
   "cell_type": "markdown",
   "metadata": {
    "toc": true
   },
   "source": [
    "<h1>План урока<span class=\"tocSkip\"></span></h1>\n",
    "<div class=\"toc\"><ul class=\"toc-item\"><li><span><a href=\"#Логистическая-регрессия\" data-toc-modified-id=\"Логистическая-регрессия-1\">Логистическая регрессия</a></span></li><li><span><a href=\"#Логистическая-функция-потерь\" data-toc-modified-id=\"Логистическая-функция-потерь-2\">Логистическая функция потерь</a></span></li><li><span><a href=\"#Пример\" data-toc-modified-id=\"Пример-3\">Пример</a></span></li><li><span><a href=\"#Домашние-задания\" data-toc-modified-id=\"Домашние-задания-4\">Домашние задания</a></span></li></ul></div>"
   ]
  },
  {
   "cell_type": "code",
   "execution_count": 1,
   "metadata": {
    "colab": {},
    "colab_type": "code",
    "id": "zhwkeWtb1O0w"
   },
   "outputs": [],
   "source": [
    "import numpy as np\n",
    "import matplotlib.pyplot as plt"
   ]
  },
  {
   "cell_type": "code",
   "execution_count": 2,
   "metadata": {
    "colab": {},
    "colab_type": "code",
    "id": "zhwkeWtb1O0w"
   },
   "outputs": [],
   "source": [
    "%matplotlib inline\n",
    "plt.style.use('seaborn-ticks')\n",
    "plt.rcParams.update({'font.size': 14})"
   ]
  },
  {
   "cell_type": "markdown",
   "metadata": {},
   "source": [
    "### Логистическая регрессия"
   ]
  },
  {
   "cell_type": "markdown",
   "metadata": {},
   "source": [
    "Обобщение линейной регрессии на задачу классификации."
   ]
  },
  {
   "cell_type": "markdown",
   "metadata": {},
   "source": [
    "<img src='img/algorithmes-de-classification-regression-logistique-9.jpg' width=400 align='left'> </img>"
   ]
  },
  {
   "cell_type": "markdown",
   "metadata": {},
   "source": [
    "$\\vec{y}=X\\vec{w}$"
   ]
  },
  {
   "cell_type": "markdown",
   "metadata": {
    "colab": {},
    "colab_type": "code",
    "id": "fS4ZSyTrPD6V"
   },
   "source": [
    "Проблемы:  \n",
    "1) Если предсказывать с помощью линейной регрессии, то могут появляться такие числа:   \n",
    "np.dot(X, w) = [-12, 2, 1.5, 0.0005, 1000 ...]  \n",
    "2) MSE, как функция потерь, не подходит."
   ]
  },
  {
   "cell_type": "markdown",
   "metadata": {
    "colab": {},
    "colab_type": "code",
    "id": "IFlAQmfoQCqc"
   },
   "source": [
    "p = [0, 1] - вероятность"
   ]
  },
  {
   "cell_type": "markdown",
   "metadata": {
    "colab": {},
    "colab_type": "code",
    "id": "7pM_ENmXPxMN"
   },
   "source": [
    "$odds = \\frac{p}{1 - p} = \\frac{p_1}{p_0}$ - шансы"
   ]
  },
  {
   "cell_type": "code",
   "execution_count": 3,
   "metadata": {
    "colab": {
     "base_uri": "https://localhost:8080/",
     "height": 34
    },
    "colab_type": "code",
    "id": "OS_TUIgdPl1M",
    "outputId": "8ea131d4-87f4-4f45-8a3d-259a26e1020d"
   },
   "outputs": [
    {
     "data": {
      "text/plain": [
       "0.11111111111111112"
      ]
     },
     "execution_count": 3,
     "metadata": {},
     "output_type": "execute_result"
    }
   ],
   "source": [
    "p = 0.1\n",
    "p / (1 - p)"
   ]
  },
  {
   "cell_type": "code",
   "execution_count": 4,
   "metadata": {
    "colab": {
     "base_uri": "https://localhost:8080/",
     "height": 34
    },
    "colab_type": "code",
    "id": "MvFKM0w7Rndj",
    "outputId": "362ef2f2-86bb-4f81-86f7-0c60935d0705"
   },
   "outputs": [
    {
     "data": {
      "text/plain": [
       "2.1972245773362196"
      ]
     },
     "execution_count": 4,
     "metadata": {},
     "output_type": "execute_result"
    }
   ],
   "source": [
    "p = 0.9\n",
    "np.log(p / (1 - p))"
   ]
  },
  {
   "cell_type": "markdown",
   "metadata": {
    "colab": {},
    "colab_type": "code",
    "id": "5GuJhwb6U-r_"
   },
   "source": [
    "$$X\\vec{w} = \\ln\\Big(\\frac{\\vec{p}}{1 - \\vec{p}}\\Big)$$\n",
    "$$\\exp(X\\vec{w}) = \\frac{\\vec{p}}{1 - \\vec{p}}$$\n",
    "$$(1-\\vec{p})\\exp(X\\vec{w}) = \\vec{p}$$\n",
    "$$\\exp(X\\vec{w})-\\vec{p}\\exp(X\\vec{w}) = \\vec{p}$$\n",
    "$$\\exp(X\\vec{w})=\\vec{p}(1+\\exp(X\\vec{w}))$$\n",
    "$$\\vec{p}=\\frac{\\exp{(X\\vec{w})}}{1+\\exp{(X\\vec{w})}}$$\n",
    "$$\\vec{p}=\\frac{1}{1+\\exp{(-X\\vec{w})}}=\\sigma(X\\vec {w})$$"
   ]
  },
  {
   "cell_type": "code",
   "execution_count": 5,
   "metadata": {},
   "outputs": [],
   "source": [
    "def sigmoid(z):\n",
    "    return 1 / (1 + np.exp(-z))"
   ]
  },
  {
   "cell_type": "code",
   "execution_count": 6,
   "metadata": {},
   "outputs": [
    {
     "data": {
      "image/png": "[encoded data removed]",
      "text/plain": [
       "<Figure size 432x288 with 1 Axes>"
      ]
     },
     "metadata": {},
     "output_type": "display_data"
    }
   ],
   "source": [
    "# сигмоида\n",
    "z = np.linspace(-10, 10, 101)\n",
    "probabilities = sigmoid(z)\n",
    "plt.plot(z, probabilities)\n",
    "plt.xlabel('$z=Xw$')\n",
    "plt.ylabel('p')\n",
    "plt.grid();"
   ]
  },
  {
   "cell_type": "markdown",
   "metadata": {},
   "source": [
    "### Логистическая функция потерь "
   ]
  },
  {
   "cell_type": "markdown",
   "metadata": {},
   "source": [
    "Согласно распределению Бернулли, вероятность встретить объект с классом $y_i$ равна $p_i^{y_i}(1-p_i)^{1-y_i}$\n",
    "\n"
   ]
  },
  {
   "cell_type": "markdown",
   "metadata": {},
   "source": [
    "$\\text{Likelihood (правдоподобие):}$ \n",
    "$$L(X)=\\prod_{i=1}^{n}{p_i^{y_i}(1-p_i)^{1-y_i}}\\rightarrow max$$\n",
    "$$\\ln L(X)=\\sum_{i=1}^{n}\\big ({\\ln{p_i}^{y_i}+\\ln(1-p_i)^{1-y_i}}\\big)$$\n",
    "$$\\ln (-L(X))=\\sum_{i=1}^{n}\\big({-y_i\\ln{p_i}-(1-y_i)\\ln(1-p_i)\\big)}$$\n",
    "$$LogLoss=\\frac{1}{n}\\sum_{i=1}^{n}\\big({-y_i\\ln{p_i}-(1-y_i)\\ln(1-p_i)\\big)}\\rightarrow min$$"
   ]
  },
  {
   "cell_type": "markdown",
   "metadata": {},
   "source": [
    "$y=0/1$ - истинный класс   \n",
    "$p=[0,1]$ - ответ алгоритма\n"
   ]
  },
  {
   "cell_type": "code",
   "execution_count": 7,
   "metadata": {
    "colab": {},
    "colab_type": "code",
    "id": "qMR5pOA38dDw"
   },
   "outputs": [],
   "source": [
    "def calc_logloss(y, p):\n",
    "    err = np.mean(- y * np.log(p) - (1.0 - y) * np.log(1.0 - p))\n",
    "    return err"
   ]
  },
  {
   "cell_type": "code",
   "execution_count": 8,
   "metadata": {
    "colab": {
     "base_uri": "https://localhost:8080/",
     "height": 34
    },
    "colab_type": "code",
    "id": "R6zfOHMrBvnX",
    "outputId": "c26e639b-b7a5-414c-a920-928da0513938"
   },
   "outputs": [
    {
     "name": "stderr",
     "output_type": "stream",
     "text": [
      "C:\\Users\\vmakh\\AppData\\Local\\Temp/ipykernel_17192/3822203847.py:2: RuntimeWarning: divide by zero encountered in log\n",
      "  err = np.mean(- y * np.log(p) - (1.0 - y) * np.log(1.0 - p))\n",
      "C:\\Users\\vmakh\\AppData\\Local\\Temp/ipykernel_17192/3822203847.py:2: RuntimeWarning: invalid value encountered in double_scalars\n",
      "  err = np.mean(- y * np.log(p) - (1.0 - y) * np.log(1.0 - p))\n"
     ]
    },
    {
     "data": {
      "text/plain": [
       "nan"
      ]
     },
     "execution_count": 8,
     "metadata": {},
     "output_type": "execute_result"
    }
   ],
   "source": [
    "# Пример применения\n",
    "y = 0\n",
    "p = 0\n",
    "calc_logloss(y, p)"
   ]
  },
  {
   "cell_type": "markdown",
   "metadata": {},
   "source": [
    "Найдем производную от функции потерь."
   ]
  },
  {
   "cell_type": "markdown",
   "metadata": {},
   "source": [
    "$${LogLoss}=\\frac{1}{n}\\sum_{i=1}^{n}\\big({-y_i\\ln{p_i}-(1-y_i)\\ln(1-p_i)\\big)}$$\n",
    "Обозначим ${p_i}=\\sigma({x_iw})=\\frac{1}{1+\\text{exp}(-x_iw)}$\n",
    "$$\\frac{\\mathrm d}{\\mathrm dw}{LogLoss}=\\frac{\\mathrm d}{\\mathrm dw}\\Big(-\\frac{1}{n}\\sum_{i=1}^{n}\\big(y_i\\ln\\sigma(x_iw)+(1-y_i)\\ln(1-\\sigma(x_iw))\\big)\\Big)=$$\n",
    "$$=-\\frac{1}{n}\\sum_{i=1}^{n}\\big(y_i\\frac{\\mathrm d}{\\mathrm dw}\\ln\\sigma(x_iw)+(1-y_i)\\frac{\\mathrm d}{\\mathrm dw}\\ln(1-\\sigma(x_iw))\\big)=$$\n",
    "$$=-\\frac{1}{n}\\sum_{i=1}^{n}\\big(y_i\\frac{\\frac{\\mathrm d}{\\mathrm dw}\\sigma(x_iw)}{\\sigma(x_iw)}+(1-y_i)\\frac{\\frac{\\mathrm d}{\\mathrm dw}(1-\\sigma(x_iw))}{1-\\sigma(x_iw)}\\big)$$\n",
    "Используя выражение для производной сигмоидной функции (вывод см. после ДЗ): $\\frac{\\mathrm d\\sigma(z)}{\\mathrm dz}=\\sigma(z)(1-\\sigma(z))$, получим:\n",
    "$$\\frac{\\mathrm d}{\\mathrm dw}{LogLoss}=-\\frac{1}{n}\\sum_{i=1}^{n}\\big(y_i\\frac{\\sigma(x_iw)(1-\\sigma(x_iw))x_i}{\\sigma(x_iw)}+(1-y_i)\\frac{-\\sigma(x_iw)(1-\\sigma(x_iw))x_i}{1-\\sigma(x_iw)}\\big)=$$\n",
    "$$=-\\frac{1}{n}\\sum_{i=1}^{n}\\big(y_i{(1-\\sigma(x_iw))x_i}-(1-y_i){\\sigma(x_iw)x_i}\\big)=$$\n",
    "$$=-\\frac{1}{n}\\sum_{i=1}^{n}\\big(y_i-y_i\\sigma(x_iw)-\\sigma(x_iw)+y_i\\sigma(x_iw)\\big)x_i=$$\n",
    "$$=\\frac{1}{n}\\sum_{i=1}^{n}\\big(\\sigma(x_iw)-y_i\\big)x_i=\\frac{1}{n}\\sum_{i=1}^{n}\\big(p_i-y_i\\big)x_i$$\n",
    "В векторной форме:\n",
    "$$\\frac{\\mathrm d}{\\mathrm d{w}}{LogLoss}=\\frac{1}{n}({p}-{y})X$$\n",
    "Тогда корректировка весов в методе градиентного спуска будет выполняться по формуле:\n",
    "$${w}={w}-\\eta \\frac{1}{n}({p}-{y})X$$"
   ]
  },
  {
   "cell_type": "markdown",
   "metadata": {
    "colab": {},
    "colab_type": "code",
    "id": "e6TH-mkPItb6"
   },
   "source": [
    "### Пример"
   ]
  },
  {
   "cell_type": "code",
   "execution_count": 9,
   "metadata": {},
   "outputs": [
    {
     "data": {
      "text/plain": [
       "array([[1.00e+00, 1.00e+00, 5.00e+02, 2.10e+01],\n",
       "       [1.00e+00, 1.00e+00, 7.00e+02, 2.50e+01],\n",
       "       [1.00e+00, 2.00e+00, 7.50e+02, 2.70e+01],\n",
       "       [1.00e+00, 1.00e+00, 6.00e+02, 2.00e+01],\n",
       "       [1.00e+00, 3.00e+00, 1.45e+03, 2.50e+01],\n",
       "       [1.00e+00, 0.00e+00, 8.00e+02, 1.80e+01],\n",
       "       [1.00e+00, 5.00e+00, 1.50e+03, 3.50e+01],\n",
       "       [1.00e+00, 1.00e+01, 2.00e+03, 6.00e+01],\n",
       "       [1.00e+00, 1.00e+00, 4.50e+02, 2.00e+01],\n",
       "       [1.00e+00, 2.00e+00, 1.00e+03, 3.00e+01]])"
      ]
     },
     "execution_count": 9,
     "metadata": {},
     "output_type": "execute_result"
    }
   ],
   "source": [
    "X = np.array([[1, 1, 1, 1, 1, 1, 1, 1, 1, 1],\n",
    "              [1, 1, 2, 1, 3, 0, 5, 10, 1, 2],  # стаж репетитора\n",
    "              [500, 700, 750, 600, 1450,        # средняя стоимость занятия\n",
    "               800, 1500, 2000, 450, 1000],\n",
    "              [21, 25, 27, 20, 25, 18, 35, 60, 20, 30]],  # возраст репетитора\n",
    "              dtype = np.float64).T \n",
    "\n",
    "y = np.array([0, 0, 0, 1, 1, 1, 1, 0, 0, 0]) # подходит или нет репетитор\n",
    "\n",
    "X"
   ]
  },
  {
   "cell_type": "code",
   "execution_count": 10,
   "metadata": {},
   "outputs": [
    {
     "data": {
      "text/plain": [
       "array([[ 1.        , -0.57142857, -0.97958969, -0.60595294],\n",
       "       [ 1.        , -0.57142857, -0.56713087, -0.264571  ],\n",
       "       [ 1.        , -0.21428571, -0.46401617, -0.09388003],\n",
       "       [ 1.        , -0.57142857, -0.77336028, -0.69129842],\n",
       "       [ 1.        ,  0.14285714,  0.97958969, -0.264571  ],\n",
       "       [ 1.        , -0.92857143, -0.36090146, -0.86198939],\n",
       "       [ 1.        ,  0.85714286,  1.08270439,  0.58888384],\n",
       "       [ 1.        ,  2.64285714,  2.11385144,  2.72252095],\n",
       "       [ 1.        , -0.57142857, -1.08270439, -0.69129842],\n",
       "       [ 1.        , -0.21428571,  0.05155735,  0.16215642]])"
      ]
     },
     "execution_count": 10,
     "metadata": {},
     "output_type": "execute_result"
    }
   ],
   "source": [
    "def standardization(X):\n",
    "    S = (X - X.mean(axis=0)) / X.std(axis=0)\n",
    "    return S\n",
    "\n",
    "X_st = X.copy()\n",
    "X_st[:, 1:] = standardization(X[:, 1:])\n",
    "X_st"
   ]
  },
  {
   "cell_type": "code",
   "execution_count": 11,
   "metadata": {
    "colab": {},
    "colab_type": "code",
    "id": "qtgUN3LW-UIq"
   },
   "outputs": [],
   "source": [
    "# логистическая регрессия\n",
    "def eval_LR_model(X, y, iterations, eta=1e-4):\n",
    "    np.random.seed(42)\n",
    "    w = np.random.randn(X.shape[1])\n",
    "    n = X.shape[0]\n",
    "    for i in range(1, iterations + 1):\n",
    "        z = np.dot(X, w) # log(p/(1-p))\n",
    "        pred = sigmoid(z) # p [0, 1]\n",
    "        w -= eta * (1/n * np.dot((pred - y), X))\n",
    "        err = calc_logloss(y, sigmoid(np.dot(X, w)))\n",
    "        if i % (iterations / 10) == 0:\n",
    "            print(i, w, err)\n",
    "    return w"
   ]
  },
  {
   "cell_type": "code",
   "execution_count": 12,
   "metadata": {
    "colab": {
     "base_uri": "https://localhost:8080/",
     "height": 190
    },
    "colab_type": "code",
    "id": "oqX7loklBmYZ",
    "outputId": "f4849295-1f14-40d8-c8f2-d1b002e130c5"
   },
   "outputs": [
    {
     "name": "stdout",
     "output_type": "stream",
     "text": [
      "10 [ 0.36065583 -0.3972585   0.51937535  1.19161524] 0.972199021173242\n",
      "20 [ 0.215788   -0.61251766  0.44159174  0.90102578] 0.8152129340815597\n",
      "30 [ 0.08277136 -0.76559453  0.42551123  0.67107078] 0.7212678942568461\n",
      "40 [-0.02507329 -0.85541749  0.46585326  0.50463174] 0.6722796074198796\n",
      "50 [-0.10912684 -0.90576455  0.53830407  0.37884616] 0.6416699927595096\n",
      "60 [-0.17469927 -0.93640342  0.62421319  0.27424279] 0.6181685428656378\n",
      "70 [-0.22617113 -0.95733883  0.71436092  0.18090474] 0.5982903907109157\n",
      "80 [-0.26681997 -0.97319728  0.80460517  0.09421158] 0.5807656397146188\n",
      "90 [-0.29911987 -0.98614533  0.89312045  0.01196478] 0.5649873364632755\n",
      "100 [-0.32495521 -0.99723356  0.97913034 -0.06693668] 0.5506011060815836\n"
     ]
    }
   ],
   "source": [
    "w = eval_LR_model(X_st, y, iterations=100, eta=0.1)"
   ]
  },
  {
   "cell_type": "code",
   "execution_count": 13,
   "metadata": {},
   "outputs": [
    {
     "name": "stdout",
     "output_type": "stream",
     "text": [
      "prob = [0.34 0.43 0.36 0.39 0.62 0.58 0.46 0.25 0.32 0.48]\n",
      "true = [0 0 0 1 1 1 1 0 0 0]\n",
      "pred = [0 0 0 0 1 1 0 0 0 0]\n"
     ]
    }
   ],
   "source": [
    "pred = sigmoid(np.dot(X_st, w))\n",
    "print('prob =', pred.round(2))\n",
    "print('true =', y)\n",
    "print('pred =', np.where(pred > 0.5, 1, 0))"
   ]
  },
  {
   "cell_type": "code",
   "execution_count": 14,
   "metadata": {},
   "outputs": [
    {
     "name": "stderr",
     "output_type": "stream",
     "text": [
      "C:\\Users\\vmakh\\AppData\\Local\\Temp/ipykernel_17192/3822203847.py:2: RuntimeWarning: divide by zero encountered in log\n",
      "  err = np.mean(- y * np.log(p) - (1.0 - y) * np.log(1.0 - p))\n",
      "C:\\Users\\vmakh\\AppData\\Local\\Temp/ipykernel_17192/3822203847.py:2: RuntimeWarning: invalid value encountered in double_scalars\n",
      "  err = np.mean(- y * np.log(p) - (1.0 - y) * np.log(1.0 - p))\n"
     ]
    },
    {
     "data": {
      "text/plain": [
       "nan"
      ]
     },
     "execution_count": 14,
     "metadata": {},
     "output_type": "execute_result"
    }
   ],
   "source": [
    "calc_logloss(y=0, p=0)"
   ]
  },
  {
   "cell_type": "markdown",
   "metadata": {
    "colab": {},
    "colab_type": "code",
    "id": "Mbwxo9NqbLJy"
   },
   "source": [
    "### Домашние задания"
   ]
  },
  {
   "cell_type": "markdown",
   "metadata": {},
   "source": [
    "1. Измените функцию `calc_logloss` так, чтобы нули по возможности не попадали в `np.log` (как вариант - использовать `np.clip` или `np.where`).  \n",
    "2. На данных из урока изучите влияние гиперпараметров на ошибку алгоритма. \n",
    "3. Создайте функцию `calc_pred_proba`, возвращающую предсказанную вероятность класса \"1\". На вход функции подаются значения признаков Х и веса, которые уже посчитаны функцией `eval_LR_model`.\n",
    "4. Создайте функцию `calc_pred`, возвращающую предсказанные классы (0 или 1). На вход функции подаются значения признаков Х и веса, которые уже посчитаны функцией `eval_LR_model`, а также порог вероятности.\n",
    "5. (\\*) Напишите функции для расчета accuracy, матрицы ошибок, precision и recall, а также F1-score."
   ]
  },
  {
   "cell_type": "markdown",
   "metadata": {},
   "source": [
    "Производная сигмоидной функции:\n",
    "$$\\frac{\\mathrm d\\sigma(z)}{\\mathrm dz}=\\frac{\\mathrm d}{\\mathrm dz}\\Big(\\frac{1}{1+\\exp(-z)}\\Big)=-(1+\\exp(-z))^{-2}\\frac{\\mathrm d}{\\mathrm dz}\\Big(1+\\exp(-z)\\Big)=$$\n",
    "$$=-(1+\\exp(-z))^{-2}(0+\\frac{\\mathrm d}{\\mathrm dz}\\exp(-z))=-(1+\\exp(-z))^{-2}(\\exp(-z)\\frac{\\mathrm d}{\\mathrm dz}(-z))=$$\n",
    "$$=(1+\\exp(-z))^{-2}\\exp(-z)=\\frac{\\exp(-z)}{(1+\\exp(-z))^{2}}=\\frac{1}{1+\\exp(-z)}\\frac{\\exp(-z)}{1+\\exp(-z)}=$$\n",
    "$$=\\frac{1}{1+\\exp(-z)}\\frac{\\exp(-z)+1-1}{1+\\exp(-z)}=\\frac{1}{1+\\exp(-z)}\\Big(1-\\frac{1}{1+\\exp(-z)}\\Big)=\\sigma(z)(1-\\sigma(z))$$"
   ]
  },
  {
   "cell_type": "markdown",
   "metadata": {},
   "source": [
    "### Задание 1"
   ]
  },
  {
   "cell_type": "code",
   "execution_count": 15,
   "metadata": {},
   "outputs": [],
   "source": [
    "def calc_logloss(y, p):\n",
    "    p=np.where(p==0,1e-3,p)\n",
    "    err = np.mean(- y * np.log(p) - (1.0 - y) * np.log(1.0 - p))\n",
    "    return err"
   ]
  },
  {
   "cell_type": "code",
   "execution_count": 16,
   "metadata": {},
   "outputs": [
    {
     "data": {
      "text/plain": [
       "0.0010005003335835344"
      ]
     },
     "execution_count": 16,
     "metadata": {},
     "output_type": "execute_result"
    }
   ],
   "source": [
    "y = 0\n",
    "p = 0\n",
    "calc_logloss(y, p)"
   ]
  },
  {
   "cell_type": "markdown",
   "metadata": {},
   "source": [
    "### Задание 2"
   ]
  },
  {
   "cell_type": "code",
   "execution_count": 17,
   "metadata": {},
   "outputs": [
    {
     "name": "stdout",
     "output_type": "stream",
     "text": [
      "100 [ 0.49144263 -0.14051765  0.64527385  1.52079549] 1.257422206886022\n",
      "200 [ 0.48617672 -0.14277039  0.64286148  1.51856143] 1.2530607040595663\n",
      "300 [ 0.48091643 -0.1450225   0.64045143  1.5163277 ] 1.2487066685739983\n",
      "400 [ 0.47566177 -0.14727396  0.63804373  1.51409429] 1.2443601243862898\n",
      "500 [ 0.47041276 -0.14952477  0.63563839  1.51186123] 1.2400210955089292\n",
      "600 [ 0.4651694  -0.1517749   0.63323544  1.50962853] 1.2356896060101803\n",
      "700 [ 0.4599317  -0.15402435  0.63083489  1.50739619] 1.2313656800144615\n",
      "800 [ 0.45469967 -0.15627309  0.62843677  1.50516424] 1.2270493417026385\n",
      "900 [ 0.44947333 -0.1585211   0.62604108  1.50293267] 1.222740615312426\n",
      "1000 [ 0.44425267 -0.16076838  0.62364786  1.50070152] 1.2184395251387403\n"
     ]
    }
   ],
   "source": [
    "w_2 = eval_LR_model(X_st, y, iterations=1000, eta=1e-4)"
   ]
  },
  {
   "cell_type": "code",
   "execution_count": 18,
   "metadata": {},
   "outputs": [
    {
     "name": "stdout",
     "output_type": "stream",
     "text": [
      "40 [-1.08394865 -0.74040189  0.06503287  0.90071832] 0.2990645964071417\n",
      "80 [-1.83708751 -0.79644045  0.02309508  0.81966668] 0.1498672203044895\n",
      "120 [-2.29153946 -0.80043334  0.02485396  0.79908875] 0.09768000035173688\n",
      "160 [-2.61254854 -0.79943715  0.02927508  0.78806086] 0.07179067392041368\n",
      "200 [-2.8593546  -0.79774041  0.03331668  0.78042373] 0.056519043211681566\n",
      "240 [-3.05929647 -0.79604175  0.03674703  0.77453347] 0.04650621087918862\n",
      "280 [-3.22708599 -0.79447469  0.03965674  0.76972589] 0.039458363313892755\n",
      "320 [-3.37150198 -0.79305353  0.04215509  0.76566236] 0.034238831510570056\n",
      "360 [-3.49818577 -0.79176533  0.04432977  0.76214434] 0.030223067437544233\n",
      "400 [-3.61096992 -0.79059247  0.04624667  0.75904437] 0.027040510946005004\n"
     ]
    }
   ],
   "source": [
    "w_3 = eval_LR_model(X_st, y, iterations=400, eta=0.1)"
   ]
  },
  {
   "cell_type": "markdown",
   "metadata": {},
   "source": [
    "##### Вывод: параметр eta имеет более сильное влияние на ошибку нежели кол-во итераций"
   ]
  },
  {
   "cell_type": "markdown",
   "metadata": {},
   "source": [
    "### Задание 3,4"
   ]
  },
  {
   "cell_type": "code",
   "execution_count": 19,
   "metadata": {},
   "outputs": [],
   "source": [
    "def calc_pred_proba(X,w):\n",
    "    pred=sigmoid(np.dot(X, w))\n",
    "    return np.where(pred > 0.5, 1, 0)"
   ]
  },
  {
   "cell_type": "code",
   "execution_count": 20,
   "metadata": {},
   "outputs": [
    {
     "data": {
      "text/plain": [
       "array([0, 0, 0, 0, 1, 1, 0, 0, 0, 0])"
      ]
     },
     "execution_count": 20,
     "metadata": {},
     "output_type": "execute_result"
    }
   ],
   "source": [
    "calc_pred_proba(X_st,w)"
   ]
  },
  {
   "cell_type": "code",
   "execution_count": null,
   "metadata": {},
   "outputs": [],
   "source": []
  }
 ],
 "metadata": {
  "colab": {
   "collapsed_sections": [],
   "name": "Lesson3_.ipynb",
   "provenance": []
  },
  "kernelspec": {
   "display_name": "Python 3 (ipykernel)",
   "language": "python",
   "name": "python3"
  },
  "language_info": {
   "codemirror_mode": {
    "name": "ipython",
    "version": 3
   },
   "file_extension": ".py",
   "mimetype": "text/x-python",
   "name": "python",
   "nbconvert_exporter": "python",
   "pygments_lexer": "ipython3",
   "version": "3.9.7"
  },
  "toc": {
   "base_numbering": 1,
   "nav_menu": {},
   "number_sections": false,
   "sideBar": true,
   "skip_h1_title": true,
   "title_cell": "План урока",
   "title_sidebar": "План",
   "toc_cell": true,
   "toc_position": {
    "height": "calc(100% - 180px)",
    "left": "10px",
    "top": "150px",
    "width": "165px"
   },
   "toc_section_display": true,
   "toc_window_display": false
  }
 },
 "nbformat": 4,
 "nbformat_minor": 1
}
