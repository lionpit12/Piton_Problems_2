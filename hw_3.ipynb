{
 "cells": [
  {
   "cell_type": "code",
   "execution_count": 63,
   "id": "d6b82bab",
   "metadata": {},
   "outputs": [
    {
     "name": "stderr",
     "output_type": "stream",
     "text": [
      "[nltk_data] Downloading package stopwords to\n",
      "[nltk_data]     C:\\Users\\vmakh\\AppData\\Roaming\\nltk_data...\n",
      "[nltk_data]   Package stopwords is already up-to-date!\n"
     ]
    }
   ],
   "source": [
    "import csv\n",
    "import pandas as pd\n",
    "import re\n",
    "import string\n",
    "import numpy as np\n",
    "import nltk\n",
    "nltk.download('stopwords')\n",
    "from nltk.corpus import stopwords\n",
    "from keras.preprocessing.text import Tokenizer\n",
    "from tensorflow.keras.preprocessing.sequence import pad_sequences\n",
    "from keras.layers import Embedding, LSTM, Dense, Dropout\n"
   ]
  },
  {
   "cell_type": "code",
   "execution_count": 64,
   "id": "a1a143a4",
   "metadata": {},
   "outputs": [],
   "source": [
    "# define function to preprocess the messages\n",
    "def preprocess_message(message):\n",
    "    # remove semicolons and quotes\n",
    "    message = re.sub('[;\"]+', '', message)\n",
    "\n",
    "    # convert to lowercase\n",
    "    message = message.lower()\n",
    "\n",
    "    # remove punctuation\n",
    "    message = message.translate(str.maketrans('', '', string.punctuation))\n",
    "\n",
    "    # remove stopwords\n",
    "    stop_words = set(stopwords.words('russian')) \n",
    "    message_tokens = message.split()\n",
    "    filtered_tokens = [token for token in message_tokens if token not in stop_words]\n",
    "    message = ' '.join(filtered_tokens)\n",
    "\n",
    "    return message\n",
    "\n",
    "# read the csv file\n",
    "df = pd.read_csv('negative.csv', sep=';', header=None, usecols=[3, 4], names=['message', 'label'])"
   ]
  },
  {
   "cell_type": "code",
   "execution_count": 65,
   "id": "12bccf0e",
   "metadata": {},
   "outputs": [
    {
     "data": {
      "text/html": [
       "<div>\n",
       "<style scoped>\n",
       "    .dataframe tbody tr th:only-of-type {\n",
       "        vertical-align: middle;\n",
       "    }\n",
       "\n",
       "    .dataframe tbody tr th {\n",
       "        vertical-align: top;\n",
       "    }\n",
       "\n",
       "    .dataframe thead th {\n",
       "        text-align: right;\n",
       "    }\n",
       "</style>\n",
       "<table border=\"1\" class=\"dataframe\">\n",
       "  <thead>\n",
       "    <tr style=\"text-align: right;\">\n",
       "      <th></th>\n",
       "      <th>message</th>\n",
       "      <th>label</th>\n",
       "    </tr>\n",
       "  </thead>\n",
       "  <tbody>\n",
       "    <tr>\n",
       "      <th>0</th>\n",
       "      <td>работе полный пиддес каждое закрытие месяца св...</td>\n",
       "      <td>-1</td>\n",
       "    </tr>\n",
       "    <tr>\n",
       "      <th>1</th>\n",
       "      <td>коллеги сидят рубятся urban terror изза долбан...</td>\n",
       "      <td>-1</td>\n",
       "    </tr>\n",
       "    <tr>\n",
       "      <th>2</th>\n",
       "      <td>elina4post говорят обещаного года ждут</td>\n",
       "      <td>-1</td>\n",
       "    </tr>\n",
       "    <tr>\n",
       "      <th>3</th>\n",
       "      <td>желаю хорошего полёта удачной посадкия буду оч...</td>\n",
       "      <td>-1</td>\n",
       "    </tr>\n",
       "    <tr>\n",
       "      <th>4</th>\n",
       "      <td>обновил какимто лешим surf работает простоплеер</td>\n",
       "      <td>-1</td>\n",
       "    </tr>\n",
       "  </tbody>\n",
       "</table>\n",
       "</div>"
      ],
      "text/plain": [
       "                                             message  label\n",
       "0  работе полный пиддес каждое закрытие месяца св...     -1\n",
       "1  коллеги сидят рубятся urban terror изза долбан...     -1\n",
       "2             elina4post говорят обещаного года ждут     -1\n",
       "3  желаю хорошего полёта удачной посадкия буду оч...     -1\n",
       "4    обновил какимто лешим surf работает простоплеер     -1"
      ]
     },
     "execution_count": 65,
     "metadata": {},
     "output_type": "execute_result"
    }
   ],
   "source": [
    "df['message'] = df['message'].apply(preprocess_message)\n",
    "df.head()"
   ]
  },
  {
   "cell_type": "code",
   "execution_count": 66,
   "id": "9de0265d",
   "metadata": {},
   "outputs": [
    {
     "data": {
      "text/plain": [
       "['работе полный пиддес каждое закрытие месяца свихнусь d',\n",
       " 'коллеги сидят рубятся urban terror изза долбанной винды могу',\n",
       " 'elina4post говорят обещаного года ждут',\n",
       " 'желаю хорошего полёта удачной посадкия буду очень сильно скучать httptcojclnzvnv3s',\n",
       " 'обновил какимто лешим surf работает простоплеер',\n",
       " 'котёнка вчера носик разбила плакала расстраивалась',\n",
       " 'juliamayko onika55 andpossum зашли затихарился прямо физически страдаю долго молчит',\n",
       " 'вообще болею выздоравливаю',\n",
       " 'микрофраза учимся срать кирпичами режиме ampquotнонстопampquot niwoqisipapy',\n",
       " 'хочу тобой помириться сука гордая сделаю']"
      ]
     },
     "execution_count": 66,
     "metadata": {},
     "output_type": "execute_result"
    }
   ],
   "source": [
    "tweets=df['message'].to_list()\n",
    "tweets[:10]"
   ]
  },
  {
   "cell_type": "code",
   "execution_count": 68,
   "id": "a8acf24f",
   "metadata": {},
   "outputs": [],
   "source": [
    "from gensim.models import Word2Vec\n",
    "from gensim.utils import simple_preprocess\n",
    "import numpy as np\n",
    "from sklearn.metrics.pairwise import cosine_similarity\n",
    "\n",
    "\n",
    "# Обучение модели word2vec на списке твитов\n",
    "tweets_processed = [simple_preprocess(tweet) for tweet in tweets]\n",
    "model = Word2Vec(tweets_processed, min_count=1, vector_size=100)\n",
    "\n",
    "# Получение векторного представления каждого твита\n",
    "tweet_vectors = []\n",
    "for tweet in tweets_processed:\n",
    "    # Проверяем, не является ли твит пустым\n",
    "    if tweet:\n",
    "        tweet_vec = np.mean([model.wv[word] for word in tweet if word in model.wv], axis=0)\n",
    "        tweet_vectors.append(tweet_vec)\n",
    "    else:\n",
    "        # Если твит пустой, добавляем вектор из нулей\n",
    "        tweet_vectors.append(np.zeros(model.vector_size))\n",
    "\n",
    "def find_similar_tweets(query, num_results=5):\n",
    "    query_words = [word for word in simple_preprocess(query) if word in model.wv]\n",
    "\n",
    "    # Проверяем, не является ли запрос пустым\n",
    "    if not query_words:\n",
    "        return []\n",
    "\n",
    "    query_vec = np.mean([model.wv[word] for word in query_words], axis=0)\n",
    "    similarities = cosine_similarity([query_vec], tweet_vectors)[0]\n",
    "    similar_indices = similarities.argsort()[::-1][:num_results]\n",
    "    return [tweets[i] for i in similar_indices]\n"
   ]
  },
  {
   "cell_type": "code",
   "execution_count": 69,
   "id": "55776c11",
   "metadata": {},
   "outputs": [
    {
     "name": "stdout",
     "output_type": "stream",
     "text": [
      "['думаю джастин селена снова вместе', '2 месяца английского школе учительница болеет awful hateit', 'геологию снова сделал факфакфак щит', 'пипецкогда закончится эта неделя снова проспала', 'школе номальная ёлка хрень']\n"
     ]
    }
   ],
   "source": [
    "query = \"работаю над проектом\"\n",
    "results = find_similar_tweets(query, num_results=5)\n",
    "print(results)\n",
    "\n",
    "\n"
   ]
  },
  {
   "cell_type": "code",
   "execution_count": null,
   "id": "3454b4d2",
   "metadata": {},
   "outputs": [],
   "source": []
  }
 ],
 "metadata": {
  "kernelspec": {
   "display_name": "Python 3 (ipykernel)",
   "language": "python",
   "name": "python3"
  },
  "language_info": {
   "codemirror_mode": {
    "name": "ipython",
    "version": 3
   },
   "file_extension": ".py",
   "mimetype": "text/x-python",
   "name": "python",
   "nbconvert_exporter": "python",
   "pygments_lexer": "ipython3",
   "version": "3.9.16"
  }
 },
 "nbformat": 4,
 "nbformat_minor": 5
}
