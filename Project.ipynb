{
 "cells": [
  {
   "cell_type": "markdown",
   "id": "d402a457",
   "metadata": {},
   "source": [
    "## Final Project Megafon - Purpose compare several classification models, find the best one"
   ]
  },
  {
   "cell_type": "code",
   "execution_count": 1,
   "id": "dd02695f",
   "metadata": {},
   "outputs": [],
   "source": [
    "import pandas as pd\n",
    "import numpy as np\n",
    "import time\n",
    "from dask import dataframe as dd\n",
    "import dask.array as da\n",
    "from datetime import datetime\n",
    "from functools import reduce"
   ]
  },
  {
   "cell_type": "markdown",
   "id": "63e3aa57",
   "metadata": {},
   "source": [
    "### Lets prepare the train dataframe"
   ]
  },
  {
   "cell_type": "code",
   "execution_count": 2,
   "id": "95b98a6e",
   "metadata": {},
   "outputs": [
    {
     "data": {
      "text/html": [
       "<div>\n",
       "<style scoped>\n",
       "    .dataframe tbody tr th:only-of-type {\n",
       "        vertical-align: middle;\n",
       "    }\n",
       "\n",
       "    .dataframe tbody tr th {\n",
       "        vertical-align: top;\n",
       "    }\n",
       "\n",
       "    .dataframe thead th {\n",
       "        text-align: right;\n",
       "    }\n",
       "</style>\n",
       "<table border=\"1\" class=\"dataframe\">\n",
       "  <thead>\n",
       "    <tr style=\"text-align: right;\">\n",
       "      <th></th>\n",
       "      <th>Unnamed: 0</th>\n",
       "      <th>id</th>\n",
       "      <th>vas_id</th>\n",
       "      <th>buy_time</th>\n",
       "      <th>target</th>\n",
       "    </tr>\n",
       "  </thead>\n",
       "  <tbody>\n",
       "    <tr>\n",
       "      <th>0</th>\n",
       "      <td>0</td>\n",
       "      <td>540968</td>\n",
       "      <td>8.0</td>\n",
       "      <td>1537131600</td>\n",
       "      <td>0.0</td>\n",
       "    </tr>\n",
       "    <tr>\n",
       "      <th>1</th>\n",
       "      <td>1</td>\n",
       "      <td>1454121</td>\n",
       "      <td>4.0</td>\n",
       "      <td>1531688400</td>\n",
       "      <td>0.0</td>\n",
       "    </tr>\n",
       "    <tr>\n",
       "      <th>2</th>\n",
       "      <td>2</td>\n",
       "      <td>2458816</td>\n",
       "      <td>1.0</td>\n",
       "      <td>1534107600</td>\n",
       "      <td>0.0</td>\n",
       "    </tr>\n",
       "    <tr>\n",
       "      <th>3</th>\n",
       "      <td>3</td>\n",
       "      <td>3535012</td>\n",
       "      <td>5.0</td>\n",
       "      <td>1535922000</td>\n",
       "      <td>0.0</td>\n",
       "    </tr>\n",
       "    <tr>\n",
       "      <th>4</th>\n",
       "      <td>4</td>\n",
       "      <td>1693214</td>\n",
       "      <td>1.0</td>\n",
       "      <td>1535922000</td>\n",
       "      <td>0.0</td>\n",
       "    </tr>\n",
       "  </tbody>\n",
       "</table>\n",
       "</div>"
      ],
      "text/plain": [
       "   Unnamed: 0       id  vas_id    buy_time  target\n",
       "0           0   540968     8.0  1537131600     0.0\n",
       "1           1  1454121     4.0  1531688400     0.0\n",
       "2           2  2458816     1.0  1534107600     0.0\n",
       "3           3  3535012     5.0  1535922000     0.0\n",
       "4           4  1693214     1.0  1535922000     0.0"
      ]
     },
     "execution_count": 2,
     "metadata": {},
     "output_type": "execute_result"
    }
   ],
   "source": [
    "df_train = pd.read_csv(r'data_train.csv')\n",
    "df_train.head()"
   ]
  },
  {
   "cell_type": "code",
   "execution_count": 3,
   "id": "ebb2f4c1",
   "metadata": {},
   "outputs": [
    {
     "data": {
      "text/plain": [
       "(831653, 5)"
      ]
     },
     "execution_count": 3,
     "metadata": {},
     "output_type": "execute_result"
    }
   ],
   "source": [
    "df_train['buy_time'] = df_train['buy_time'].apply(datetime.fromtimestamp)\n",
    "df_train.shape"
   ]
  },
  {
   "cell_type": "code",
   "execution_count": 4,
   "id": "333a4f82",
   "metadata": {},
   "outputs": [
    {
     "data": {
      "text/html": [
       "<div>\n",
       "<style scoped>\n",
       "    .dataframe tbody tr th:only-of-type {\n",
       "        vertical-align: middle;\n",
       "    }\n",
       "\n",
       "    .dataframe tbody tr th {\n",
       "        vertical-align: top;\n",
       "    }\n",
       "\n",
       "    .dataframe thead th {\n",
       "        text-align: right;\n",
       "    }\n",
       "</style>\n",
       "<table border=\"1\" class=\"dataframe\">\n",
       "  <thead>\n",
       "    <tr style=\"text-align: right;\">\n",
       "      <th></th>\n",
       "      <th>Unnamed: 0</th>\n",
       "      <th>id</th>\n",
       "      <th>vas_id</th>\n",
       "      <th>buy_time</th>\n",
       "      <th>target</th>\n",
       "    </tr>\n",
       "  </thead>\n",
       "  <tbody>\n",
       "    <tr>\n",
       "      <th>0</th>\n",
       "      <td>0</td>\n",
       "      <td>540968</td>\n",
       "      <td>8.0</td>\n",
       "      <td>2018-09-17</td>\n",
       "      <td>0.0</td>\n",
       "    </tr>\n",
       "    <tr>\n",
       "      <th>1</th>\n",
       "      <td>1</td>\n",
       "      <td>1454121</td>\n",
       "      <td>4.0</td>\n",
       "      <td>2018-07-16</td>\n",
       "      <td>0.0</td>\n",
       "    </tr>\n",
       "    <tr>\n",
       "      <th>2</th>\n",
       "      <td>2</td>\n",
       "      <td>2458816</td>\n",
       "      <td>1.0</td>\n",
       "      <td>2018-08-13</td>\n",
       "      <td>0.0</td>\n",
       "    </tr>\n",
       "    <tr>\n",
       "      <th>3</th>\n",
       "      <td>3</td>\n",
       "      <td>3535012</td>\n",
       "      <td>5.0</td>\n",
       "      <td>2018-09-03</td>\n",
       "      <td>0.0</td>\n",
       "    </tr>\n",
       "    <tr>\n",
       "      <th>4</th>\n",
       "      <td>4</td>\n",
       "      <td>1693214</td>\n",
       "      <td>1.0</td>\n",
       "      <td>2018-09-03</td>\n",
       "      <td>0.0</td>\n",
       "    </tr>\n",
       "  </tbody>\n",
       "</table>\n",
       "</div>"
      ],
      "text/plain": [
       "   Unnamed: 0       id  vas_id   buy_time  target\n",
       "0           0   540968     8.0 2018-09-17     0.0\n",
       "1           1  1454121     4.0 2018-07-16     0.0\n",
       "2           2  2458816     1.0 2018-08-13     0.0\n",
       "3           3  3535012     5.0 2018-09-03     0.0\n",
       "4           4  1693214     1.0 2018-09-03     0.0"
      ]
     },
     "execution_count": 4,
     "metadata": {},
     "output_type": "execute_result"
    }
   ],
   "source": [
    "df_train.head()"
   ]
  },
  {
   "cell_type": "code",
   "execution_count": 5,
   "id": "94c61d42",
   "metadata": {},
   "outputs": [
    {
     "data": {
      "text/plain": [
       "Index(['Unnamed: 0', 'id', 'vas_id', 'buy_time', 'target'], dtype='object')"
      ]
     },
     "execution_count": 5,
     "metadata": {},
     "output_type": "execute_result"
    }
   ],
   "source": [
    "df_train.columns"
   ]
  },
  {
   "cell_type": "code",
   "execution_count": 6,
   "id": "aee390f3",
   "metadata": {},
   "outputs": [],
   "source": [
    "df_train.drop(['Unnamed: 0'], axis =1, inplace=True)"
   ]
  },
  {
   "cell_type": "code",
   "execution_count": 7,
   "id": "6acd9f5a",
   "metadata": {},
   "outputs": [
    {
     "data": {
      "text/plain": [
       "Index(['id', 'vas_id', 'buy_time', 'target'], dtype='object')"
      ]
     },
     "execution_count": 7,
     "metadata": {},
     "output_type": "execute_result"
    }
   ],
   "source": [
    "df_train.columns"
   ]
  },
  {
   "cell_type": "code",
   "execution_count": 8,
   "id": "d446d612",
   "metadata": {},
   "outputs": [],
   "source": [
    "df_train.set_index(['id'], inplace=True)"
   ]
  },
  {
   "cell_type": "code",
   "execution_count": 9,
   "id": "99afbc97",
   "metadata": {},
   "outputs": [
    {
     "data": {
      "text/html": [
       "<div>\n",
       "<style scoped>\n",
       "    .dataframe tbody tr th:only-of-type {\n",
       "        vertical-align: middle;\n",
       "    }\n",
       "\n",
       "    .dataframe tbody tr th {\n",
       "        vertical-align: top;\n",
       "    }\n",
       "\n",
       "    .dataframe thead th {\n",
       "        text-align: right;\n",
       "    }\n",
       "</style>\n",
       "<table border=\"1\" class=\"dataframe\">\n",
       "  <thead>\n",
       "    <tr style=\"text-align: right;\">\n",
       "      <th></th>\n",
       "      <th>vas_id</th>\n",
       "      <th>buy_time</th>\n",
       "      <th>target</th>\n",
       "    </tr>\n",
       "    <tr>\n",
       "      <th>id</th>\n",
       "      <th></th>\n",
       "      <th></th>\n",
       "      <th></th>\n",
       "    </tr>\n",
       "  </thead>\n",
       "  <tbody>\n",
       "    <tr>\n",
       "      <th>540968</th>\n",
       "      <td>8.0</td>\n",
       "      <td>2018-09-17</td>\n",
       "      <td>0.0</td>\n",
       "    </tr>\n",
       "    <tr>\n",
       "      <th>1454121</th>\n",
       "      <td>4.0</td>\n",
       "      <td>2018-07-16</td>\n",
       "      <td>0.0</td>\n",
       "    </tr>\n",
       "    <tr>\n",
       "      <th>2458816</th>\n",
       "      <td>1.0</td>\n",
       "      <td>2018-08-13</td>\n",
       "      <td>0.0</td>\n",
       "    </tr>\n",
       "    <tr>\n",
       "      <th>3535012</th>\n",
       "      <td>5.0</td>\n",
       "      <td>2018-09-03</td>\n",
       "      <td>0.0</td>\n",
       "    </tr>\n",
       "    <tr>\n",
       "      <th>1693214</th>\n",
       "      <td>1.0</td>\n",
       "      <td>2018-09-03</td>\n",
       "      <td>0.0</td>\n",
       "    </tr>\n",
       "  </tbody>\n",
       "</table>\n",
       "</div>"
      ],
      "text/plain": [
       "         vas_id   buy_time  target\n",
       "id                                \n",
       "540968      8.0 2018-09-17     0.0\n",
       "1454121     4.0 2018-07-16     0.0\n",
       "2458816     1.0 2018-08-13     0.0\n",
       "3535012     5.0 2018-09-03     0.0\n",
       "1693214     1.0 2018-09-03     0.0"
      ]
     },
     "execution_count": 9,
     "metadata": {},
     "output_type": "execute_result"
    }
   ],
   "source": [
    "df_train.head()"
   ]
  },
  {
   "cell_type": "code",
   "execution_count": 10,
   "id": "05ee96f8",
   "metadata": {},
   "outputs": [
    {
     "data": {
      "text/html": [
       "<div>\n",
       "<style scoped>\n",
       "    .dataframe tbody tr th:only-of-type {\n",
       "        vertical-align: middle;\n",
       "    }\n",
       "\n",
       "    .dataframe tbody tr th {\n",
       "        vertical-align: top;\n",
       "    }\n",
       "\n",
       "    .dataframe thead th {\n",
       "        text-align: right;\n",
       "    }\n",
       "</style>\n",
       "<table border=\"1\" class=\"dataframe\">\n",
       "  <thead>\n",
       "    <tr style=\"text-align: right;\">\n",
       "      <th></th>\n",
       "      <th>vas_id</th>\n",
       "      <th>buy_time</th>\n",
       "      <th>target</th>\n",
       "    </tr>\n",
       "    <tr>\n",
       "      <th>id</th>\n",
       "      <th></th>\n",
       "      <th></th>\n",
       "      <th></th>\n",
       "    </tr>\n",
       "  </thead>\n",
       "  <tbody>\n",
       "    <tr>\n",
       "      <th>2</th>\n",
       "      <td>2.0</td>\n",
       "      <td>2018-12-24</td>\n",
       "      <td>0.0</td>\n",
       "    </tr>\n",
       "    <tr>\n",
       "      <th>4</th>\n",
       "      <td>1.0</td>\n",
       "      <td>2018-08-06</td>\n",
       "      <td>0.0</td>\n",
       "    </tr>\n",
       "    <tr>\n",
       "      <th>15</th>\n",
       "      <td>1.0</td>\n",
       "      <td>2018-08-13</td>\n",
       "      <td>0.0</td>\n",
       "    </tr>\n",
       "    <tr>\n",
       "      <th>16</th>\n",
       "      <td>2.0</td>\n",
       "      <td>2018-10-29</td>\n",
       "      <td>0.0</td>\n",
       "    </tr>\n",
       "    <tr>\n",
       "      <th>29</th>\n",
       "      <td>1.0</td>\n",
       "      <td>2018-08-06</td>\n",
       "      <td>0.0</td>\n",
       "    </tr>\n",
       "  </tbody>\n",
       "</table>\n",
       "</div>"
      ],
      "text/plain": [
       "    vas_id   buy_time  target\n",
       "id                           \n",
       "2      2.0 2018-12-24     0.0\n",
       "4      1.0 2018-08-06     0.0\n",
       "15     1.0 2018-08-13     0.0\n",
       "16     2.0 2018-10-29     0.0\n",
       "29     1.0 2018-08-06     0.0"
      ]
     },
     "execution_count": 10,
     "metadata": {},
     "output_type": "execute_result"
    }
   ],
   "source": [
    "df_train.sort_index().head()"
   ]
  },
  {
   "cell_type": "code",
   "execution_count": 11,
   "id": "0276a219",
   "metadata": {},
   "outputs": [
    {
     "data": {
      "text/plain": [
       "pandas.core.indexes.numeric.Int64Index"
      ]
     },
     "execution_count": 11,
     "metadata": {},
     "output_type": "execute_result"
    }
   ],
   "source": [
    "type(df_train.index)"
   ]
  },
  {
   "cell_type": "code",
   "execution_count": 12,
   "id": "5d4f82ba",
   "metadata": {},
   "outputs": [
    {
     "data": {
      "text/html": [
       "<div>\n",
       "<style scoped>\n",
       "    .dataframe tbody tr th:only-of-type {\n",
       "        vertical-align: middle;\n",
       "    }\n",
       "\n",
       "    .dataframe tbody tr th {\n",
       "        vertical-align: top;\n",
       "    }\n",
       "\n",
       "    .dataframe thead th {\n",
       "        text-align: right;\n",
       "    }\n",
       "</style>\n",
       "<table border=\"1\" class=\"dataframe\">\n",
       "  <thead>\n",
       "    <tr style=\"text-align: right;\">\n",
       "      <th></th>\n",
       "      <th>Unnamed: 0</th>\n",
       "      <th>id</th>\n",
       "      <th>buy_time</th>\n",
       "      <th>0</th>\n",
       "      <th>1</th>\n",
       "      <th>2</th>\n",
       "      <th>3</th>\n",
       "      <th>4</th>\n",
       "      <th>5</th>\n",
       "      <th>6</th>\n",
       "      <th>...</th>\n",
       "      <th>243</th>\n",
       "      <th>244</th>\n",
       "      <th>245</th>\n",
       "      <th>246</th>\n",
       "      <th>247</th>\n",
       "      <th>248</th>\n",
       "      <th>249</th>\n",
       "      <th>250</th>\n",
       "      <th>251</th>\n",
       "      <th>252</th>\n",
       "    </tr>\n",
       "  </thead>\n",
       "  <tbody>\n",
       "    <tr>\n",
       "      <th>0</th>\n",
       "      <td>0</td>\n",
       "      <td>2013026</td>\n",
       "      <td>1531688400</td>\n",
       "      <td>18.910029</td>\n",
       "      <td>46.980888</td>\n",
       "      <td>4.969214</td>\n",
       "      <td>-1.386798</td>\n",
       "      <td>3.791754</td>\n",
       "      <td>-14.01179</td>\n",
       "      <td>-16.08618</td>\n",
       "      <td>...</td>\n",
       "      <td>-977.373846</td>\n",
       "      <td>-613.770792</td>\n",
       "      <td>-25.996269</td>\n",
       "      <td>-37.630448</td>\n",
       "      <td>-301.747724</td>\n",
       "      <td>-25.832889</td>\n",
       "      <td>-0.694428</td>\n",
       "      <td>-12.175933</td>\n",
       "      <td>-0.45614</td>\n",
       "      <td>0.0</td>\n",
       "    </tr>\n",
       "    <tr>\n",
       "      <th>1</th>\n",
       "      <td>1</td>\n",
       "      <td>2014722</td>\n",
       "      <td>1539550800</td>\n",
       "      <td>36.690029</td>\n",
       "      <td>152.400888</td>\n",
       "      <td>448.069214</td>\n",
       "      <td>563.833202</td>\n",
       "      <td>463.841754</td>\n",
       "      <td>568.99821</td>\n",
       "      <td>-16.08618</td>\n",
       "      <td>...</td>\n",
       "      <td>-891.373846</td>\n",
       "      <td>-544.770792</td>\n",
       "      <td>-20.996269</td>\n",
       "      <td>48.369552</td>\n",
       "      <td>80.252276</td>\n",
       "      <td>-13.832889</td>\n",
       "      <td>-0.694428</td>\n",
       "      <td>-1.175933</td>\n",
       "      <td>-0.45614</td>\n",
       "      <td>0.0</td>\n",
       "    </tr>\n",
       "    <tr>\n",
       "      <th>2</th>\n",
       "      <td>2</td>\n",
       "      <td>2015199</td>\n",
       "      <td>1545598800</td>\n",
       "      <td>-67.019971</td>\n",
       "      <td>157.050888</td>\n",
       "      <td>-63.180786</td>\n",
       "      <td>178.103202</td>\n",
       "      <td>-68.598246</td>\n",
       "      <td>156.99821</td>\n",
       "      <td>3.51382</td>\n",
       "      <td>...</td>\n",
       "      <td>-977.373846</td>\n",
       "      <td>-613.770792</td>\n",
       "      <td>-12.996269</td>\n",
       "      <td>-37.630448</td>\n",
       "      <td>10829.252276</td>\n",
       "      <td>-25.832889</td>\n",
       "      <td>-0.694428</td>\n",
       "      <td>-12.175933</td>\n",
       "      <td>-0.45614</td>\n",
       "      <td>0.0</td>\n",
       "    </tr>\n",
       "    <tr>\n",
       "      <th>3</th>\n",
       "      <td>3</td>\n",
       "      <td>2021765</td>\n",
       "      <td>1534107600</td>\n",
       "      <td>7.010029</td>\n",
       "      <td>150.200888</td>\n",
       "      <td>-6.930786</td>\n",
       "      <td>216.213202</td>\n",
       "      <td>76.621754</td>\n",
       "      <td>351.84821</td>\n",
       "      <td>-16.08618</td>\n",
       "      <td>...</td>\n",
       "      <td>-973.373846</td>\n",
       "      <td>-613.770792</td>\n",
       "      <td>-23.996269</td>\n",
       "      <td>-37.630448</td>\n",
       "      <td>-205.747724</td>\n",
       "      <td>-24.832889</td>\n",
       "      <td>-0.694428</td>\n",
       "      <td>-11.175933</td>\n",
       "      <td>-0.45614</td>\n",
       "      <td>1.0</td>\n",
       "    </tr>\n",
       "    <tr>\n",
       "      <th>4</th>\n",
       "      <td>4</td>\n",
       "      <td>2027465</td>\n",
       "      <td>1533502800</td>\n",
       "      <td>-90.439971</td>\n",
       "      <td>134.220888</td>\n",
       "      <td>-104.380786</td>\n",
       "      <td>153.643202</td>\n",
       "      <td>-109.798246</td>\n",
       "      <td>132.53821</td>\n",
       "      <td>-16.08618</td>\n",
       "      <td>...</td>\n",
       "      <td>1643.626154</td>\n",
       "      <td>2007.229208</td>\n",
       "      <td>206.003731</td>\n",
       "      <td>-21.630448</td>\n",
       "      <td>6667.252276</td>\n",
       "      <td>92.167111</td>\n",
       "      <td>-0.694428</td>\n",
       "      <td>49.824067</td>\n",
       "      <td>47.54386</td>\n",
       "      <td>0.0</td>\n",
       "    </tr>\n",
       "  </tbody>\n",
       "</table>\n",
       "<p>5 rows × 256 columns</p>\n",
       "</div>"
      ],
      "text/plain": [
       "   Unnamed: 0       id    buy_time          0           1           2  \\\n",
       "0           0  2013026  1531688400  18.910029   46.980888    4.969214   \n",
       "1           1  2014722  1539550800  36.690029  152.400888  448.069214   \n",
       "2           2  2015199  1545598800 -67.019971  157.050888  -63.180786   \n",
       "3           3  2021765  1534107600   7.010029  150.200888   -6.930786   \n",
       "4           4  2027465  1533502800 -90.439971  134.220888 -104.380786   \n",
       "\n",
       "            3           4          5         6  ...          243          244  \\\n",
       "0   -1.386798    3.791754  -14.01179 -16.08618  ...  -977.373846  -613.770792   \n",
       "1  563.833202  463.841754  568.99821 -16.08618  ...  -891.373846  -544.770792   \n",
       "2  178.103202  -68.598246  156.99821   3.51382  ...  -977.373846  -613.770792   \n",
       "3  216.213202   76.621754  351.84821 -16.08618  ...  -973.373846  -613.770792   \n",
       "4  153.643202 -109.798246  132.53821 -16.08618  ...  1643.626154  2007.229208   \n",
       "\n",
       "          245        246           247        248       249        250  \\\n",
       "0  -25.996269 -37.630448   -301.747724 -25.832889 -0.694428 -12.175933   \n",
       "1  -20.996269  48.369552     80.252276 -13.832889 -0.694428  -1.175933   \n",
       "2  -12.996269 -37.630448  10829.252276 -25.832889 -0.694428 -12.175933   \n",
       "3  -23.996269 -37.630448   -205.747724 -24.832889 -0.694428 -11.175933   \n",
       "4  206.003731 -21.630448   6667.252276  92.167111 -0.694428  49.824067   \n",
       "\n",
       "        251  252  \n",
       "0  -0.45614  0.0  \n",
       "1  -0.45614  0.0  \n",
       "2  -0.45614  0.0  \n",
       "3  -0.45614  1.0  \n",
       "4  47.54386  0.0  \n",
       "\n",
       "[5 rows x 256 columns]"
      ]
     },
     "execution_count": 12,
     "metadata": {},
     "output_type": "execute_result"
    }
   ],
   "source": [
    "path = r\"C:\\Users\\vmakh\\OneDrive\\Desktop\\Python-20220419T075236Z-001\\Python\\Мегафон\\features.csv\"\n",
    "dask_df = dd.read_csv(path, delimiter='\\t')\n",
    "dask_df.head()"
   ]
  },
  {
   "cell_type": "code",
   "execution_count": 13,
   "id": "4a4801a9",
   "metadata": {},
   "outputs": [
    {
     "data": {
      "text/plain": [
       "Index(['Unnamed: 0', 'id', 'buy_time', '0', '1', '2', '3', '4', '5', '6',\n",
       "       ...\n",
       "       '243', '244', '245', '246', '247', '248', '249', '250', '251', '252'],\n",
       "      dtype='object', length=256)"
      ]
     },
     "execution_count": 13,
     "metadata": {},
     "output_type": "execute_result"
    }
   ],
   "source": [
    "# Filter \n",
    "\n",
    "dask_df.columns\n",
    "\n"
   ]
  },
  {
   "cell_type": "code",
   "execution_count": 14,
   "id": "f786302c",
   "metadata": {},
   "outputs": [],
   "source": [
    "dask_df = dask_df.drop(['Unnamed: 0', 'buy_time'],axis=1)"
   ]
  },
  {
   "cell_type": "code",
   "execution_count": 15,
   "id": "3f3c71e4",
   "metadata": {},
   "outputs": [
    {
     "data": {
      "text/plain": [
       "id       int64\n",
       "0      float64\n",
       "1      float64\n",
       "2      float64\n",
       "3      float64\n",
       "        ...   \n",
       "248    float64\n",
       "249    float64\n",
       "250    float64\n",
       "251    float64\n",
       "252    float64\n",
       "Length: 254, dtype: object"
      ]
     },
     "execution_count": 15,
     "metadata": {},
     "output_type": "execute_result"
    }
   ],
   "source": [
    "dask_df.dtypes"
   ]
  },
  {
   "cell_type": "code",
   "execution_count": 16,
   "id": "7a900b5a",
   "metadata": {},
   "outputs": [],
   "source": [
    "n_of_partitions=100\n",
    "d_frames=[]\n",
    "for n in range(n_of_partitions):\n",
    "    df_part= dask_df.partitions[n].compute()\n",
    "    df_part = df_part.set_index('id')\n",
    "    df_part=df_part.astype('float16')\n",
    "    dff=pd.merge(df_train, df_part, left_index=True, right_index=True)\n",
    "    d_frames.append(dff)"
   ]
  },
  {
   "cell_type": "code",
   "execution_count": 17,
   "id": "20870bb7",
   "metadata": {},
   "outputs": [
    {
     "data": {
      "text/plain": [
       "100"
      ]
     },
     "execution_count": 17,
     "metadata": {},
     "output_type": "execute_result"
    }
   ],
   "source": [
    "len(d_frames)"
   ]
  },
  {
   "cell_type": "code",
   "execution_count": 18,
   "id": "f575c118",
   "metadata": {},
   "outputs": [],
   "source": [
    "ndf_train=reduce(lambda a,b: pd.concat([a, b], axis=0), d_frames)"
   ]
  },
  {
   "cell_type": "code",
   "execution_count": 32,
   "id": "0067f79a",
   "metadata": {},
   "outputs": [
    {
     "data": {
      "text/plain": [
       "(245580, 256)"
      ]
     },
     "execution_count": 32,
     "metadata": {},
     "output_type": "execute_result"
    }
   ],
   "source": [
    "ndf_train.shape"
   ]
  },
  {
   "cell_type": "code",
   "execution_count": 47,
   "id": "5d083252",
   "metadata": {},
   "outputs": [
    {
     "data": {
      "text/html": [
       "<div>\n",
       "<style scoped>\n",
       "    .dataframe tbody tr th:only-of-type {\n",
       "        vertical-align: middle;\n",
       "    }\n",
       "\n",
       "    .dataframe tbody tr th {\n",
       "        vertical-align: top;\n",
       "    }\n",
       "\n",
       "    .dataframe thead th {\n",
       "        text-align: right;\n",
       "    }\n",
       "</style>\n",
       "<table border=\"1\" class=\"dataframe\">\n",
       "  <thead>\n",
       "    <tr style=\"text-align: right;\">\n",
       "      <th></th>\n",
       "      <th>vas_id</th>\n",
       "      <th>buy_time</th>\n",
       "      <th>target</th>\n",
       "      <th>0</th>\n",
       "      <th>1</th>\n",
       "      <th>2</th>\n",
       "      <th>3</th>\n",
       "      <th>4</th>\n",
       "      <th>5</th>\n",
       "      <th>6</th>\n",
       "      <th>...</th>\n",
       "      <th>243</th>\n",
       "      <th>244</th>\n",
       "      <th>245</th>\n",
       "      <th>246</th>\n",
       "      <th>247</th>\n",
       "      <th>248</th>\n",
       "      <th>249</th>\n",
       "      <th>250</th>\n",
       "      <th>251</th>\n",
       "      <th>252</th>\n",
       "    </tr>\n",
       "    <tr>\n",
       "      <th>id</th>\n",
       "      <th></th>\n",
       "      <th></th>\n",
       "      <th></th>\n",
       "      <th></th>\n",
       "      <th></th>\n",
       "      <th></th>\n",
       "      <th></th>\n",
       "      <th></th>\n",
       "      <th></th>\n",
       "      <th></th>\n",
       "      <th></th>\n",
       "      <th></th>\n",
       "      <th></th>\n",
       "      <th></th>\n",
       "      <th></th>\n",
       "      <th></th>\n",
       "      <th></th>\n",
       "      <th></th>\n",
       "      <th></th>\n",
       "      <th></th>\n",
       "      <th></th>\n",
       "    </tr>\n",
       "  </thead>\n",
       "  <tbody>\n",
       "    <tr>\n",
       "      <th>4</th>\n",
       "      <td>1.0</td>\n",
       "      <td>2018-08-06</td>\n",
       "      <td>0.0</td>\n",
       "      <td>-96.81250</td>\n",
       "      <td>-323.500</td>\n",
       "      <td>-110.75000</td>\n",
       "      <td>-376.000</td>\n",
       "      <td>-116.1875</td>\n",
       "      <td>-397.250</td>\n",
       "      <td>-16.09375</td>\n",
       "      <td>...</td>\n",
       "      <td>4808.0</td>\n",
       "      <td>4140.0</td>\n",
       "      <td>-26.000000</td>\n",
       "      <td>-37.625</td>\n",
       "      <td>-35.75</td>\n",
       "      <td>-20.828125</td>\n",
       "      <td>-0.694336</td>\n",
       "      <td>-7.175781</td>\n",
       "      <td>-0.456055</td>\n",
       "      <td>0.0</td>\n",
       "    </tr>\n",
       "    <tr>\n",
       "      <th>30</th>\n",
       "      <td>7.0</td>\n",
       "      <td>2018-10-15</td>\n",
       "      <td>0.0</td>\n",
       "      <td>-82.37500</td>\n",
       "      <td>162.500</td>\n",
       "      <td>-83.62500</td>\n",
       "      <td>186.250</td>\n",
       "      <td>-86.5000</td>\n",
       "      <td>167.625</td>\n",
       "      <td>-16.09375</td>\n",
       "      <td>...</td>\n",
       "      <td>-962.5</td>\n",
       "      <td>-614.0</td>\n",
       "      <td>-24.000000</td>\n",
       "      <td>-37.625</td>\n",
       "      <td>-252.75</td>\n",
       "      <td>-23.828125</td>\n",
       "      <td>-0.694336</td>\n",
       "      <td>-10.179688</td>\n",
       "      <td>-0.456055</td>\n",
       "      <td>1.0</td>\n",
       "    </tr>\n",
       "    <tr>\n",
       "      <th>37</th>\n",
       "      <td>1.0</td>\n",
       "      <td>2018-08-20</td>\n",
       "      <td>0.0</td>\n",
       "      <td>-96.81250</td>\n",
       "      <td>-408.250</td>\n",
       "      <td>-110.75000</td>\n",
       "      <td>-460.750</td>\n",
       "      <td>-116.1875</td>\n",
       "      <td>-482.000</td>\n",
       "      <td>-16.09375</td>\n",
       "      <td>...</td>\n",
       "      <td>-977.5</td>\n",
       "      <td>-614.0</td>\n",
       "      <td>-26.000000</td>\n",
       "      <td>-37.625</td>\n",
       "      <td>-306.75</td>\n",
       "      <td>-25.828125</td>\n",
       "      <td>-0.694336</td>\n",
       "      <td>-12.179688</td>\n",
       "      <td>-0.456055</td>\n",
       "      <td>0.0</td>\n",
       "    </tr>\n",
       "    <tr>\n",
       "      <th>48</th>\n",
       "      <td>1.0</td>\n",
       "      <td>2018-08-27</td>\n",
       "      <td>0.0</td>\n",
       "      <td>-87.06250</td>\n",
       "      <td>-94.625</td>\n",
       "      <td>-101.00000</td>\n",
       "      <td>-145.500</td>\n",
       "      <td>-106.4375</td>\n",
       "      <td>-166.625</td>\n",
       "      <td>-16.09375</td>\n",
       "      <td>...</td>\n",
       "      <td>-887.5</td>\n",
       "      <td>-614.0</td>\n",
       "      <td>-26.000000</td>\n",
       "      <td>-37.625</td>\n",
       "      <td>-231.75</td>\n",
       "      <td>-4.832031</td>\n",
       "      <td>-0.694336</td>\n",
       "      <td>8.820312</td>\n",
       "      <td>-0.456055</td>\n",
       "      <td>0.0</td>\n",
       "    </tr>\n",
       "    <tr>\n",
       "      <th>122</th>\n",
       "      <td>2.0</td>\n",
       "      <td>2018-12-31</td>\n",
       "      <td>0.0</td>\n",
       "      <td>40.46875</td>\n",
       "      <td>209.625</td>\n",
       "      <td>34.15625</td>\n",
       "      <td>203.625</td>\n",
       "      <td>28.7500</td>\n",
       "      <td>182.500</td>\n",
       "      <td>60.18750</td>\n",
       "      <td>...</td>\n",
       "      <td>1590.0</td>\n",
       "      <td>1022.0</td>\n",
       "      <td>-5.996094</td>\n",
       "      <td>-21.625</td>\n",
       "      <td>39.25</td>\n",
       "      <td>-15.835938</td>\n",
       "      <td>-0.694336</td>\n",
       "      <td>-2.175781</td>\n",
       "      <td>-0.456055</td>\n",
       "      <td>0.0</td>\n",
       "    </tr>\n",
       "  </tbody>\n",
       "</table>\n",
       "<p>5 rows × 256 columns</p>\n",
       "</div>"
      ],
      "text/plain": [
       "     vas_id   buy_time  target         0        1          2        3  \\\n",
       "id                                                                      \n",
       "4       1.0 2018-08-06     0.0 -96.81250 -323.500 -110.75000 -376.000   \n",
       "30      7.0 2018-10-15     0.0 -82.37500  162.500  -83.62500  186.250   \n",
       "37      1.0 2018-08-20     0.0 -96.81250 -408.250 -110.75000 -460.750   \n",
       "48      1.0 2018-08-27     0.0 -87.06250  -94.625 -101.00000 -145.500   \n",
       "122     2.0 2018-12-31     0.0  40.46875  209.625   34.15625  203.625   \n",
       "\n",
       "            4        5         6  ...     243     244        245     246  \\\n",
       "id                                ...                                      \n",
       "4   -116.1875 -397.250 -16.09375  ...  4808.0  4140.0 -26.000000 -37.625   \n",
       "30   -86.5000  167.625 -16.09375  ...  -962.5  -614.0 -24.000000 -37.625   \n",
       "37  -116.1875 -482.000 -16.09375  ...  -977.5  -614.0 -26.000000 -37.625   \n",
       "48  -106.4375 -166.625 -16.09375  ...  -887.5  -614.0 -26.000000 -37.625   \n",
       "122   28.7500  182.500  60.18750  ...  1590.0  1022.0  -5.996094 -21.625   \n",
       "\n",
       "        247        248       249        250       251  252  \n",
       "id                                                          \n",
       "4    -35.75 -20.828125 -0.694336  -7.175781 -0.456055  0.0  \n",
       "30  -252.75 -23.828125 -0.694336 -10.179688 -0.456055  1.0  \n",
       "37  -306.75 -25.828125 -0.694336 -12.179688 -0.456055  0.0  \n",
       "48  -231.75  -4.832031 -0.694336   8.820312 -0.456055  0.0  \n",
       "122   39.25 -15.835938 -0.694336  -2.175781 -0.456055  0.0  \n",
       "\n",
       "[5 rows x 256 columns]"
      ]
     },
     "execution_count": 47,
     "metadata": {},
     "output_type": "execute_result"
    }
   ],
   "source": [
    "ndf_train = ndf_train.sort_index(ascending=True)\n",
    "ndf_train.head()"
   ]
  },
  {
   "cell_type": "code",
   "execution_count": 85,
   "id": "12b1be56",
   "metadata": {},
   "outputs": [
    {
     "data": {
      "text/plain": [
       "numpy.float16"
      ]
     },
     "execution_count": 85,
     "metadata": {},
     "output_type": "execute_result"
    }
   ],
   "source": [
    "type(ndf_train.loc[4,'3'])"
   ]
  },
  {
   "cell_type": "code",
   "execution_count": 25,
   "id": "a841e823",
   "metadata": {},
   "outputs": [
    {
     "data": {
      "text/plain": [
       "False"
      ]
     },
     "execution_count": 25,
     "metadata": {},
     "output_type": "execute_result"
    }
   ],
   "source": [
    "ndf_train.isnull().values.any()"
   ]
  },
  {
   "cell_type": "markdown",
   "id": "27fd7570",
   "metadata": {},
   "source": [
    "### Let's find out which features really matter"
   ]
  },
  {
   "cell_type": "code",
   "execution_count": 128,
   "id": "9729171a",
   "metadata": {},
   "outputs": [],
   "source": [
    "from sklearn.feature_selection import SelectKBest\n",
    "from sklearn.feature_selection import chi2\n",
    "from sklearn.preprocessing import StandardScaler\n",
    "from sklearn.ensemble import ExtraTreesClassifier\n",
    "import matplotlib.pyplot as plt"
   ]
  },
  {
   "cell_type": "code",
   "execution_count": 120,
   "id": "00cd5e10",
   "metadata": {},
   "outputs": [],
   "source": [
    "X = ndf_train.drop(['target', 'buy_time'], axis =1) \n",
    "y = ndf_train['target']  "
   ]
  },
  {
   "cell_type": "code",
   "execution_count": 121,
   "id": "ee5d134d",
   "metadata": {},
   "outputs": [
    {
     "data": {
      "text/plain": [
       "vas_id        9.0\n",
       "0         29008.0\n",
       "1         36480.0\n",
       "2         29024.0\n",
       "3         36448.0\n",
       "           ...   \n",
       "248       32464.0\n",
       "249        1306.0\n",
       "250       32480.0\n",
       "251        1333.0\n",
       "252         283.0\n",
       "Length: 254, dtype: float64"
      ]
     },
     "execution_count": 121,
     "metadata": {},
     "output_type": "execute_result"
    }
   ],
   "source": [
    "X.max()"
   ]
  },
  {
   "cell_type": "code",
   "execution_count": 122,
   "id": "831bca51",
   "metadata": {},
   "outputs": [
    {
     "name": "stdout",
     "output_type": "stream",
     "text": [
      "<class 'pandas.core.frame.DataFrame'>\n",
      "Int64Index: 245580 entries, 4 to 4362640\n",
      "Columns: 254 entries, vas_id to 252\n",
      "dtypes: float16(253), float64(1)\n",
      "memory usage: 130.3 MB\n"
     ]
    }
   ],
   "source": [
    "X.info()"
   ]
  },
  {
   "cell_type": "code",
   "execution_count": 123,
   "id": "2bf8d21c",
   "metadata": {},
   "outputs": [],
   "source": [
    "col_name = X.columns.to_series()[np.isinf(X).any()] # get rid of columns containing infinite values\n",
    "l=list(col_name)"
   ]
  },
  {
   "cell_type": "code",
   "execution_count": 124,
   "id": "fe2c4f17",
   "metadata": {},
   "outputs": [
    {
     "data": {
      "text/html": [
       "<div>\n",
       "<style scoped>\n",
       "    .dataframe tbody tr th:only-of-type {\n",
       "        vertical-align: middle;\n",
       "    }\n",
       "\n",
       "    .dataframe tbody tr th {\n",
       "        vertical-align: top;\n",
       "    }\n",
       "\n",
       "    .dataframe thead th {\n",
       "        text-align: right;\n",
       "    }\n",
       "</style>\n",
       "<table border=\"1\" class=\"dataframe\">\n",
       "  <thead>\n",
       "    <tr style=\"text-align: right;\">\n",
       "      <th></th>\n",
       "      <th>vas_id</th>\n",
       "      <th>0</th>\n",
       "      <th>1</th>\n",
       "      <th>2</th>\n",
       "      <th>3</th>\n",
       "      <th>4</th>\n",
       "      <th>5</th>\n",
       "      <th>6</th>\n",
       "      <th>7</th>\n",
       "      <th>8</th>\n",
       "      <th>...</th>\n",
       "      <th>238</th>\n",
       "      <th>239</th>\n",
       "      <th>241</th>\n",
       "      <th>242</th>\n",
       "      <th>246</th>\n",
       "      <th>248</th>\n",
       "      <th>249</th>\n",
       "      <th>250</th>\n",
       "      <th>251</th>\n",
       "      <th>252</th>\n",
       "    </tr>\n",
       "    <tr>\n",
       "      <th>id</th>\n",
       "      <th></th>\n",
       "      <th></th>\n",
       "      <th></th>\n",
       "      <th></th>\n",
       "      <th></th>\n",
       "      <th></th>\n",
       "      <th></th>\n",
       "      <th></th>\n",
       "      <th></th>\n",
       "      <th></th>\n",
       "      <th></th>\n",
       "      <th></th>\n",
       "      <th></th>\n",
       "      <th></th>\n",
       "      <th></th>\n",
       "      <th></th>\n",
       "      <th></th>\n",
       "      <th></th>\n",
       "      <th></th>\n",
       "      <th></th>\n",
       "      <th></th>\n",
       "    </tr>\n",
       "  </thead>\n",
       "  <tbody>\n",
       "    <tr>\n",
       "      <th>4</th>\n",
       "      <td>1.0</td>\n",
       "      <td>-96.81250</td>\n",
       "      <td>-323.500</td>\n",
       "      <td>-110.75000</td>\n",
       "      <td>-376.000</td>\n",
       "      <td>-116.1875</td>\n",
       "      <td>-397.250</td>\n",
       "      <td>-16.09375</td>\n",
       "      <td>19.671875</td>\n",
       "      <td>-6.785156</td>\n",
       "      <td>...</td>\n",
       "      <td>-247.125</td>\n",
       "      <td>-108.43750</td>\n",
       "      <td>-106.625000</td>\n",
       "      <td>257.750000</td>\n",
       "      <td>-37.625</td>\n",
       "      <td>-20.828125</td>\n",
       "      <td>-0.694336</td>\n",
       "      <td>-7.175781</td>\n",
       "      <td>-0.456055</td>\n",
       "      <td>0.0</td>\n",
       "    </tr>\n",
       "    <tr>\n",
       "      <th>30</th>\n",
       "      <td>7.0</td>\n",
       "      <td>-82.37500</td>\n",
       "      <td>162.500</td>\n",
       "      <td>-83.62500</td>\n",
       "      <td>186.250</td>\n",
       "      <td>-86.5000</td>\n",
       "      <td>167.625</td>\n",
       "      <td>-16.09375</td>\n",
       "      <td>-65.062500</td>\n",
       "      <td>-6.785156</td>\n",
       "      <td>...</td>\n",
       "      <td>-247.125</td>\n",
       "      <td>-45.40625</td>\n",
       "      <td>-0.618164</td>\n",
       "      <td>-17.296875</td>\n",
       "      <td>-37.625</td>\n",
       "      <td>-23.828125</td>\n",
       "      <td>-0.694336</td>\n",
       "      <td>-10.179688</td>\n",
       "      <td>-0.456055</td>\n",
       "      <td>1.0</td>\n",
       "    </tr>\n",
       "    <tr>\n",
       "      <th>37</th>\n",
       "      <td>1.0</td>\n",
       "      <td>-96.81250</td>\n",
       "      <td>-408.250</td>\n",
       "      <td>-110.75000</td>\n",
       "      <td>-460.750</td>\n",
       "      <td>-116.1875</td>\n",
       "      <td>-482.000</td>\n",
       "      <td>-16.09375</td>\n",
       "      <td>-65.062500</td>\n",
       "      <td>-6.785156</td>\n",
       "      <td>...</td>\n",
       "      <td>-247.125</td>\n",
       "      <td>-108.43750</td>\n",
       "      <td>-106.625000</td>\n",
       "      <td>-17.296875</td>\n",
       "      <td>-37.625</td>\n",
       "      <td>-25.828125</td>\n",
       "      <td>-0.694336</td>\n",
       "      <td>-12.179688</td>\n",
       "      <td>-0.456055</td>\n",
       "      <td>0.0</td>\n",
       "    </tr>\n",
       "    <tr>\n",
       "      <th>48</th>\n",
       "      <td>1.0</td>\n",
       "      <td>-87.06250</td>\n",
       "      <td>-94.625</td>\n",
       "      <td>-101.00000</td>\n",
       "      <td>-145.500</td>\n",
       "      <td>-106.4375</td>\n",
       "      <td>-166.625</td>\n",
       "      <td>-16.09375</td>\n",
       "      <td>-65.062500</td>\n",
       "      <td>-6.785156</td>\n",
       "      <td>...</td>\n",
       "      <td>269.000</td>\n",
       "      <td>-108.43750</td>\n",
       "      <td>-82.625000</td>\n",
       "      <td>-17.296875</td>\n",
       "      <td>-37.625</td>\n",
       "      <td>-4.832031</td>\n",
       "      <td>-0.694336</td>\n",
       "      <td>8.820312</td>\n",
       "      <td>-0.456055</td>\n",
       "      <td>0.0</td>\n",
       "    </tr>\n",
       "    <tr>\n",
       "      <th>122</th>\n",
       "      <td>2.0</td>\n",
       "      <td>40.46875</td>\n",
       "      <td>209.625</td>\n",
       "      <td>34.15625</td>\n",
       "      <td>203.625</td>\n",
       "      <td>28.7500</td>\n",
       "      <td>182.500</td>\n",
       "      <td>60.18750</td>\n",
       "      <td>278.000000</td>\n",
       "      <td>19.781250</td>\n",
       "      <td>...</td>\n",
       "      <td>3718.000</td>\n",
       "      <td>-108.43750</td>\n",
       "      <td>-106.625000</td>\n",
       "      <td>-5.296875</td>\n",
       "      <td>-21.625</td>\n",
       "      <td>-15.835938</td>\n",
       "      <td>-0.694336</td>\n",
       "      <td>-2.175781</td>\n",
       "      <td>-0.456055</td>\n",
       "      <td>0.0</td>\n",
       "    </tr>\n",
       "  </tbody>\n",
       "</table>\n",
       "<p>5 rows × 219 columns</p>\n",
       "</div>"
      ],
      "text/plain": [
       "     vas_id         0        1          2        3         4        5  \\\n",
       "id                                                                      \n",
       "4       1.0 -96.81250 -323.500 -110.75000 -376.000 -116.1875 -397.250   \n",
       "30      7.0 -82.37500  162.500  -83.62500  186.250  -86.5000  167.625   \n",
       "37      1.0 -96.81250 -408.250 -110.75000 -460.750 -116.1875 -482.000   \n",
       "48      1.0 -87.06250  -94.625 -101.00000 -145.500 -106.4375 -166.625   \n",
       "122     2.0  40.46875  209.625   34.15625  203.625   28.7500  182.500   \n",
       "\n",
       "            6           7          8  ...       238        239         241  \\\n",
       "id                                    ...                                    \n",
       "4   -16.09375   19.671875  -6.785156  ...  -247.125 -108.43750 -106.625000   \n",
       "30  -16.09375  -65.062500  -6.785156  ...  -247.125  -45.40625   -0.618164   \n",
       "37  -16.09375  -65.062500  -6.785156  ...  -247.125 -108.43750 -106.625000   \n",
       "48  -16.09375  -65.062500  -6.785156  ...   269.000 -108.43750  -82.625000   \n",
       "122  60.18750  278.000000  19.781250  ...  3718.000 -108.43750 -106.625000   \n",
       "\n",
       "            242     246        248       249        250       251  252  \n",
       "id                                                                      \n",
       "4    257.750000 -37.625 -20.828125 -0.694336  -7.175781 -0.456055  0.0  \n",
       "30   -17.296875 -37.625 -23.828125 -0.694336 -10.179688 -0.456055  1.0  \n",
       "37   -17.296875 -37.625 -25.828125 -0.694336 -12.179688 -0.456055  0.0  \n",
       "48   -17.296875 -37.625  -4.832031 -0.694336   8.820312 -0.456055  0.0  \n",
       "122   -5.296875 -21.625 -15.835938 -0.694336  -2.175781 -0.456055  0.0  \n",
       "\n",
       "[5 rows x 219 columns]"
      ]
     },
     "execution_count": 124,
     "metadata": {},
     "output_type": "execute_result"
    }
   ],
   "source": [
    "X = X.drop(l,axis=1)\n",
    "X.head()"
   ]
  },
  {
   "cell_type": "code",
   "execution_count": 126,
   "id": "491ae5e0",
   "metadata": {},
   "outputs": [
    {
     "name": "stdout",
     "output_type": "stream",
     "text": [
      "<class 'pandas.core.frame.DataFrame'>\n",
      "Int64Index: 245580 entries, 4 to 4362640\n",
      "Columns: 219 entries, vas_id to 252\n",
      "dtypes: float16(218), float64(1)\n",
      "memory usage: 113.9 MB\n"
     ]
    }
   ],
   "source": [
    "X.info()"
   ]
  },
  {
   "cell_type": "code",
   "execution_count": 119,
   "id": "3eb50933",
   "metadata": {},
   "outputs": [
    {
     "data": {
      "text/plain": [
       "Series([], dtype: object)"
      ]
     },
     "execution_count": 119,
     "metadata": {},
     "output_type": "execute_result"
    }
   ],
   "source": [
    "col_name = X.columns.to_series()[np.isinf(X).any()]\n",
    "col_name"
   ]
  },
  {
   "cell_type": "code",
   "execution_count": 129,
   "id": "5a4c90b5",
   "metadata": {},
   "outputs": [
    {
     "name": "stdout",
     "output_type": "stream",
     "text": [
      "[1.95091642e-01 6.77878689e-03 9.73446810e-03 7.32964222e-03\n",
      " 9.84194857e-03 7.20385706e-03 9.72435926e-03 2.76342037e-03\n",
      " 5.83575671e-03 2.45916498e-03 4.73706033e-03 1.50277621e-03\n",
      " 2.24404511e-03 1.38432580e-03 5.47635928e-03 6.49870060e-03\n",
      " 5.38249322e-08 5.41655074e-06 2.76581246e-05 2.01365324e-03\n",
      " 4.84677092e-03 7.09788936e-03 2.19921636e-03 2.08696040e-04\n",
      " 0.00000000e+00 3.54099510e-07 3.06208925e-03 2.27334323e-03\n",
      " 1.08681104e-03 3.93552389e-03 3.43175042e-03 4.00158616e-03\n",
      " 1.88190471e-04 1.27760279e-07 2.11126596e-07 2.08176079e-03\n",
      " 2.63747220e-05 3.31930780e-03 7.55497144e-03 7.55516409e-03\n",
      " 6.95908862e-03 2.65810204e-03 8.80772959e-03 8.76947817e-03\n",
      " 1.05354732e-02 9.99554551e-03 5.78520418e-03 8.15205227e-03\n",
      " 4.84395926e-03 3.23941958e-04 9.41761238e-03 8.84804043e-03\n",
      " 7.01540560e-03 7.73613911e-03 7.35540478e-03 7.12602563e-03\n",
      " 7.70785921e-03 1.75966153e-03 1.81232951e-03 3.07423843e-03\n",
      " 3.20804575e-03 2.29925707e-03 4.08457510e-03 1.56370976e-03\n",
      " 1.36275743e-03 1.78562448e-03 1.61231640e-03 0.00000000e+00\n",
      " 4.44136056e-03 6.85923880e-03 1.26193075e-04 1.39638617e-04\n",
      " 6.41497138e-05 0.00000000e+00 2.75055878e-04 5.01020562e-05\n",
      " 3.85048015e-05 0.00000000e+00 3.59017346e-05 4.83744866e-05\n",
      " 2.19723398e-05 2.76885009e-04 2.46083992e-04 3.32469251e-04\n",
      " 3.43165149e-04 1.71367491e-04 4.75412983e-04 0.00000000e+00\n",
      " 1.09605152e-03 6.22932616e-04 8.86085576e-04 1.16525639e-03\n",
      " 1.35336264e-03 1.77800193e-03 3.49774764e-03 4.64238192e-03\n",
      " 2.72397894e-04 5.04331020e-03 6.17334960e-04 5.29619534e-03\n",
      " 5.28519865e-04 7.35910544e-03 7.54772744e-03 8.75849508e-03\n",
      " 8.97982376e-03 1.90164992e-04 1.17231422e-04 3.79537234e-04\n",
      " 1.90375565e-04 3.56603528e-05 7.34257260e-03 7.89927030e-03\n",
      " 8.98257065e-03 7.68573851e-03 7.80436805e-03 4.57516271e-03\n",
      " 4.15980047e-03 6.77556324e-03 5.17112034e-03 4.45311441e-03\n",
      " 5.15918921e-03 4.33153475e-03 4.97381812e-03 0.00000000e+00\n",
      " 1.67571242e-03 1.35987088e-03 1.35659169e-03 7.04492901e-03\n",
      " 9.03298216e-03 9.55729388e-03 8.30105363e-03 5.30132132e-03\n",
      " 6.53657348e-03 1.32021817e-03 5.36967925e-03 8.58854666e-03\n",
      " 1.05290301e-03 2.42868858e-04 7.34256731e-05 6.23694255e-06\n",
      " 2.72344036e-03 1.34649609e-03 2.66194347e-03 3.10720540e-03\n",
      " 4.37777019e-03 4.56954802e-04 5.52207369e-03 3.35673158e-04\n",
      " 9.98499299e-03 7.45373641e-03 7.42422418e-03 6.89134589e-03\n",
      " 6.89680292e-03 7.58894946e-03 7.63349380e-03 7.59451668e-03\n",
      " 7.50433422e-03 2.97387605e-04 3.02445586e-04 1.97443658e-04\n",
      " 2.33022354e-04 6.14998738e-05 4.62640562e-05 1.98106127e-05\n",
      " 2.81739345e-05 2.48864807e-03 2.49669710e-03 2.45034596e-03\n",
      " 2.48174445e-03 7.01008676e-03 6.97680956e-03 6.96657589e-03\n",
      " 7.08452063e-03 5.42350827e-04 5.04124886e-04 8.38579768e-03\n",
      " 1.62613327e-03 9.10497108e-03 5.32226899e-03 2.66710772e-03\n",
      " 2.29978388e-03 4.57414045e-05 1.81916095e-03 4.20788770e-05\n",
      " 6.80106000e-04 1.79145471e-03 8.10236992e-05 0.00000000e+00\n",
      " 1.44069844e-03 1.35742772e-03 4.77698016e-04 5.62404679e-03\n",
      " 4.90393858e-03 1.45631745e-03 2.25296080e-05 5.68578232e-03\n",
      " 0.00000000e+00 5.62341439e-03 6.99334552e-04 8.08908182e-07\n",
      " 6.36851322e-03 1.23191829e-02 3.98435441e-03 7.01144921e-03\n",
      " 2.75013397e-03 4.91481792e-04 2.98215847e-03 6.59718093e-03\n",
      " 7.64248690e-03 7.03698228e-03 6.54175943e-03 7.62423763e-03\n",
      " 5.03508009e-03 6.81049451e-03 7.51755466e-03 4.19221936e-03\n",
      " 7.00963157e-03 3.81791246e-03 4.85723781e-03]\n"
     ]
    },
    {
     "data": {
      "image/png": "[encoded data removed]",
      "text/plain": [
       "<Figure size 432x288 with 1 Axes>"
      ]
     },
     "metadata": {
      "needs_background": "light"
     },
     "output_type": "display_data"
    }
   ],
   "source": [
    "model = ExtraTreesClassifier()\n",
    "model.fit(X,y)\n",
    "print(model.feature_importances_) #use inbuilt class feature_importances of tree based classifiers\n",
    "#plot graph of feature importances for better visualization\n",
    "feat_importances = pd.Series(model.feature_importances_, index=X.columns)\n",
    "feat_importances.nlargest(10).plot(kind='barh')\n",
    "plt.show()"
   ]
  },
  {
   "cell_type": "code",
   "execution_count": 130,
   "id": "ae33d9cb",
   "metadata": {},
   "outputs": [],
   "source": [
    "#bestfeatures = SelectKBest(score_func=chi2, k=20)\n",
    "#fit = bestfeatures.fit(X,y)\n",
    "#dfscores = pd.DataFrame(fit.scores_)\n",
    "#dfcolumns = pd.DataFrame(X.columns)\n",
    "#concat two dataframes for better visualization \n",
    "#featureScores = pd.concat([dfcolumns,dfscores],axis=1)\n",
    "#featureScores.columns = ['Specs','Score']  #naming the dataframe columns\n",
    "#print(featureScores.nlargest(20,'Score'))"
   ]
  },
  {
   "cell_type": "code",
   "execution_count": 139,
   "id": "14ac3c9a",
   "metadata": {},
   "outputs": [
    {
     "data": {
      "text/plain": [
       "['vas_id', '226', '52', '53', '164', '3', '1', '5', '145', '58']"
      ]
     },
     "execution_count": 139,
     "metadata": {},
     "output_type": "execute_result"
    }
   ],
   "source": [
    "top_feats=list(feat_importances.nlargest(10).index)\n",
    "top_feats"
   ]
  },
  {
   "cell_type": "code",
   "execution_count": 140,
   "id": "0e269912",
   "metadata": {},
   "outputs": [
    {
     "data": {
      "text/html": [
       "<div>\n",
       "<style scoped>\n",
       "    .dataframe tbody tr th:only-of-type {\n",
       "        vertical-align: middle;\n",
       "    }\n",
       "\n",
       "    .dataframe tbody tr th {\n",
       "        vertical-align: top;\n",
       "    }\n",
       "\n",
       "    .dataframe thead th {\n",
       "        text-align: right;\n",
       "    }\n",
       "</style>\n",
       "<table border=\"1\" class=\"dataframe\">\n",
       "  <thead>\n",
       "    <tr style=\"text-align: right;\">\n",
       "      <th></th>\n",
       "      <th>vas_id</th>\n",
       "      <th>226</th>\n",
       "      <th>52</th>\n",
       "      <th>53</th>\n",
       "      <th>164</th>\n",
       "      <th>3</th>\n",
       "      <th>1</th>\n",
       "      <th>5</th>\n",
       "      <th>145</th>\n",
       "      <th>58</th>\n",
       "    </tr>\n",
       "    <tr>\n",
       "      <th>id</th>\n",
       "      <th></th>\n",
       "      <th></th>\n",
       "      <th></th>\n",
       "      <th></th>\n",
       "      <th></th>\n",
       "      <th></th>\n",
       "      <th></th>\n",
       "      <th></th>\n",
       "      <th></th>\n",
       "      <th></th>\n",
       "    </tr>\n",
       "  </thead>\n",
       "  <tbody>\n",
       "    <tr>\n",
       "      <th>4</th>\n",
       "      <td>1.0</td>\n",
       "      <td>14.562500</td>\n",
       "      <td>-57.156250</td>\n",
       "      <td>-25.328125</td>\n",
       "      <td>-0.279541</td>\n",
       "      <td>-376.000</td>\n",
       "      <td>-323.500</td>\n",
       "      <td>-397.250</td>\n",
       "      <td>-40.96875</td>\n",
       "      <td>-26.687500</td>\n",
       "    </tr>\n",
       "    <tr>\n",
       "      <th>30</th>\n",
       "      <td>7.0</td>\n",
       "      <td>-2.101562</td>\n",
       "      <td>112.812500</td>\n",
       "      <td>33.656250</td>\n",
       "      <td>0.100464</td>\n",
       "      <td>186.250</td>\n",
       "      <td>162.500</td>\n",
       "      <td>167.625</td>\n",
       "      <td>-29.96875</td>\n",
       "      <td>-15.679688</td>\n",
       "    </tr>\n",
       "    <tr>\n",
       "      <th>37</th>\n",
       "      <td>1.0</td>\n",
       "      <td>-17.093750</td>\n",
       "      <td>-77.187500</td>\n",
       "      <td>-29.328125</td>\n",
       "      <td>-0.679688</td>\n",
       "      <td>-460.750</td>\n",
       "      <td>-408.250</td>\n",
       "      <td>-482.000</td>\n",
       "      <td>-42.96875</td>\n",
       "      <td>-32.687500</td>\n",
       "    </tr>\n",
       "    <tr>\n",
       "      <th>48</th>\n",
       "      <td>1.0</td>\n",
       "      <td>5.757812</td>\n",
       "      <td>-39.156250</td>\n",
       "      <td>-21.328125</td>\n",
       "      <td>0.140503</td>\n",
       "      <td>-145.500</td>\n",
       "      <td>-94.625</td>\n",
       "      <td>-166.625</td>\n",
       "      <td>31.03125</td>\n",
       "      <td>34.312500</td>\n",
       "    </tr>\n",
       "    <tr>\n",
       "      <th>122</th>\n",
       "      <td>2.0</td>\n",
       "      <td>-12.945312</td>\n",
       "      <td>-16.171875</td>\n",
       "      <td>24.671875</td>\n",
       "      <td>-0.029510</td>\n",
       "      <td>203.625</td>\n",
       "      <td>209.625</td>\n",
       "      <td>182.500</td>\n",
       "      <td>20.03125</td>\n",
       "      <td>15.320312</td>\n",
       "    </tr>\n",
       "  </tbody>\n",
       "</table>\n",
       "</div>"
      ],
      "text/plain": [
       "     vas_id        226          52         53       164        3        1  \\\n",
       "id                                                                          \n",
       "4       1.0  14.562500  -57.156250 -25.328125 -0.279541 -376.000 -323.500   \n",
       "30      7.0  -2.101562  112.812500  33.656250  0.100464  186.250  162.500   \n",
       "37      1.0 -17.093750  -77.187500 -29.328125 -0.679688 -460.750 -408.250   \n",
       "48      1.0   5.757812  -39.156250 -21.328125  0.140503 -145.500  -94.625   \n",
       "122     2.0 -12.945312  -16.171875  24.671875 -0.029510  203.625  209.625   \n",
       "\n",
       "           5       145         58  \n",
       "id                                 \n",
       "4   -397.250 -40.96875 -26.687500  \n",
       "30   167.625 -29.96875 -15.679688  \n",
       "37  -482.000 -42.96875 -32.687500  \n",
       "48  -166.625  31.03125  34.312500  \n",
       "122  182.500  20.03125  15.320312  "
      ]
     },
     "execution_count": 140,
     "metadata": {},
     "output_type": "execute_result"
    }
   ],
   "source": [
    "X=X[top_feats]\n",
    "X.head()"
   ]
  },
  {
   "cell_type": "markdown",
   "id": "58730ecd",
   "metadata": {},
   "source": [
    "### Let's determine which model is the best"
   ]
  },
  {
   "cell_type": "code",
   "execution_count": 149,
   "id": "4b7c62ab",
   "metadata": {},
   "outputs": [],
   "source": [
    "from sklearn.model_selection import train_test_split\n",
    "from sklearn.ensemble import RandomForestClassifier\n",
    "from sklearn.ensemble import GradientBoostingClassifier\n",
    "from sklearn.base import BaseEstimator, TransformerMixin\n",
    "from sklearn.linear_model import LogisticRegression\n",
    "from sklearn.pipeline import Pipeline, make_pipeline\n",
    "from sklearn.pipeline import FeatureUnion\n",
    "from sklearn.preprocessing import StandardScaler"
   ]
  },
  {
   "cell_type": "code",
   "execution_count": 145,
   "id": "821f2b7e",
   "metadata": {},
   "outputs": [],
   "source": [
    "class FeatureSelector(BaseEstimator, TransformerMixin):\n",
    "    def __init__(self, column):\n",
    "        self.column = column\n",
    "\n",
    "    def fit(self, X, y=None):\n",
    "        return self\n",
    "\n",
    "    def transform(self, X, y=None):\n",
    "        return X[self.column]\n",
    "    \n",
    "class NumberSelector(BaseEstimator, TransformerMixin):\n",
    "    \"\"\"\n",
    "    Transformer to select a single column from the data frame to perform additional transformations on\n",
    "    Use on numeric columns in the data\n",
    "    \"\"\"\n",
    "    def __init__(self, key):\n",
    "        self.key = key\n",
    "\n",
    "    def fit(self, X, y=None):\n",
    "        return self\n",
    "\n",
    "    def transform(self, X):\n",
    "        return X[[self.key]]\n",
    "    \n",
    "class OHEEncoder(BaseEstimator, TransformerMixin):\n",
    "    def __init__(self, key):\n",
    "        self.key = key\n",
    "        self.columns = []\n",
    "\n",
    "    def fit(self, X, y=None):\n",
    "        self.columns = [col for col in pd.get_dummies(X, prefix=self.key).columns]\n",
    "        return self\n",
    "\n",
    "    def transform(self, X):\n",
    "        X = pd.get_dummies(X, prefix=self.key)\n",
    "        test_columns = [col for col in X.columns]\n",
    "        for col_ in self.columns:\n",
    "            if col_ not in test_columns:\n",
    "                X[col_] = 0\n",
    "        return X[self.columns]"
   ]
  },
  {
   "cell_type": "code",
   "execution_count": 146,
   "id": "b3838628",
   "metadata": {},
   "outputs": [],
   "source": [
    "X_train, X_test, y_train, y_test = train_test_split(X, y, random_state=0)"
   ]
  },
  {
   "cell_type": "code",
   "execution_count": 150,
   "id": "ab340969",
   "metadata": {},
   "outputs": [],
   "source": [
    "continuous_columns = list(X.columns)\n",
    "categorical_columns = []"
   ]
  },
  {
   "cell_type": "code",
   "execution_count": 151,
   "id": "b3da665f",
   "metadata": {},
   "outputs": [],
   "source": [
    "final_transformers = list()\n",
    "\n",
    "for cat_col in categorical_columns:\n",
    "    cat_transformer = Pipeline([\n",
    "                ('selector', FeatureSelector(column=cat_col)),\n",
    "                ('ohe', OHEEncoder(key=cat_col))\n",
    "            ])\n",
    "    final_transformers.append((cat_col, cat_transformer))\n",
    "    \n",
    "for cont_col in continuous_columns:\n",
    "    cont_transformer = Pipeline([\n",
    "                ('selector', NumberSelector(key=cont_col)),\n",
    "                ('scaler', StandardScaler())\n",
    "            ])\n",
    "    final_transformers.append((cont_col, cont_transformer))"
   ]
  },
  {
   "cell_type": "code",
   "execution_count": 152,
   "id": "bb647ae1",
   "metadata": {},
   "outputs": [],
   "source": [
    "feats = FeatureUnion(final_transformers)\n",
    "\n",
    "feature_processing = Pipeline([('feats', feats)])"
   ]
  },
  {
   "cell_type": "code",
   "execution_count": 153,
   "id": "0e6f8132",
   "metadata": {},
   "outputs": [],
   "source": [
    "pipeline_1 = Pipeline([\n",
    "    ('features',feats),\n",
    "    ('classifier', RandomForestClassifier(random_state = 42)),\n",
    "])"
   ]
  },
  {
   "cell_type": "code",
   "execution_count": 154,
   "id": "2ed972a5",
   "metadata": {},
   "outputs": [],
   "source": [
    "pipeline_2 = Pipeline([\n",
    "    ('features',feats),\n",
    "    ('classifier', GradientBoostingClassifier(random_state = 42)),\n",
    "])"
   ]
  },
  {
   "cell_type": "code",
   "execution_count": 155,
   "id": "3b01e563",
   "metadata": {},
   "outputs": [],
   "source": [
    "pipeline_3 = Pipeline([\n",
    "    ('features',feats),\n",
    "    ('classifier', LogisticRegression(random_state = 42)),\n",
    "])"
   ]
  },
  {
   "cell_type": "code",
   "execution_count": 156,
   "id": "4cbe2dad",
   "metadata": {},
   "outputs": [
    {
     "name": "stdout",
     "output_type": "stream",
     "text": [
      "RandomForestClassifier  :  [0.0425     0.02833333 0.67       0.03       0.025      0.03\n",
      " 0.03       0.01       0.00333333 0.03      ]\n",
      "GradienBoostingClassifier  :  [0.02250601 0.02012386 0.3883544  0.01899381 0.01788505 0.01882047\n",
      " 0.01761632 0.01881887 0.0174191  0.01918884]\n",
      "LogisticRegression  :  [0.2576457  0.12957113 0.18188995 0.04008577 0.03989625 0.02659091\n",
      " 0.0258234  0.02666586 0.02575469 0.02663167]\n"
     ]
    }
   ],
   "source": [
    "methods=['RandomForestClassifier','GradienBoostingClassifier','LogisticRegression']\n",
    "pipeline_all=[pipeline_1,pipeline_2, pipeline_3]\n",
    "preds=[pr.fit(X_train, y_train).predict_proba(X_test)[:, 1] for pr in pipeline_all ]\n",
    "pips={k:p for k,p in zip(methods, preds)}\n",
    "for key, value in pips.items():\n",
    "    print(key, ' : ', value[:10])"
   ]
  },
  {
   "cell_type": "code",
   "execution_count": 164,
   "id": "2d6acf54",
   "metadata": {},
   "outputs": [],
   "source": [
    "from sklearn.metrics import f1_score, roc_auc_score, precision_score, classification_report, precision_recall_curve, roc_curve, confusion_matrix\n",
    "from sklearn.model_selection import cross_val_score, train_test_split"
   ]
  },
  {
   "cell_type": "code",
   "execution_count": 158,
   "id": "26da07c5",
   "metadata": {},
   "outputs": [
    {
     "data": {
      "text/html": [
       "<div>\n",
       "<style scoped>\n",
       "    .dataframe tbody tr th:only-of-type {\n",
       "        vertical-align: middle;\n",
       "    }\n",
       "\n",
       "    .dataframe tbody tr th {\n",
       "        vertical-align: top;\n",
       "    }\n",
       "\n",
       "    .dataframe thead th {\n",
       "        text-align: right;\n",
       "    }\n",
       "</style>\n",
       "<table border=\"1\" class=\"dataframe\">\n",
       "  <thead>\n",
       "    <tr style=\"text-align: right;\">\n",
       "      <th></th>\n",
       "      <th>RandomForestClassifier</th>\n",
       "      <th>GradienBoostingClassifier</th>\n",
       "      <th>LogisticRegression</th>\n",
       "    </tr>\n",
       "  </thead>\n",
       "  <tbody>\n",
       "    <tr>\n",
       "      <th>Threshold</th>\n",
       "      <td>0.133333</td>\n",
       "      <td>0.215908</td>\n",
       "      <td>0.162671</td>\n",
       "    </tr>\n",
       "    <tr>\n",
       "      <th>F-Score</th>\n",
       "      <td>0.427397</td>\n",
       "      <td>0.456605</td>\n",
       "      <td>0.347091</td>\n",
       "    </tr>\n",
       "    <tr>\n",
       "      <th>Precision</th>\n",
       "      <td>0.302234</td>\n",
       "      <td>0.327236</td>\n",
       "      <td>0.288388</td>\n",
       "    </tr>\n",
       "    <tr>\n",
       "      <th>Recall</th>\n",
       "      <td>0.729503</td>\n",
       "      <td>0.755138</td>\n",
       "      <td>0.435801</td>\n",
       "    </tr>\n",
       "  </tbody>\n",
       "</table>\n",
       "</div>"
      ],
      "text/plain": [
       "           RandomForestClassifier  GradienBoostingClassifier  \\\n",
       "Threshold                0.133333                   0.215908   \n",
       "F-Score                  0.427397                   0.456605   \n",
       "Precision                0.302234                   0.327236   \n",
       "Recall                   0.729503                   0.755138   \n",
       "\n",
       "           LogisticRegression  \n",
       "Threshold            0.162671  \n",
       "F-Score              0.347091  \n",
       "Precision            0.288388  \n",
       "Recall               0.435801  "
      ]
     },
     "execution_count": 158,
     "metadata": {},
     "output_type": "execute_result"
    }
   ],
   "source": [
    "metrix=[]\n",
    "names=['Threshold', 'F-Score', 'Precision', 'Recall']\n",
    "for pp in pips.values():\n",
    "    precision,recall,thresholds = precision_recall_curve(y_test, pp)\n",
    "    fscore = (2 * precision * recall) / (precision + recall)\n",
    "    # locate the index of the largest f score\n",
    "    ix = np.argmax(fscore)\n",
    "    m={k:v for k,v in zip(names,[thresholds[ix],fscore[ix],precision[ix],recall[ix]])}\n",
    "    metrix.append(m)   \n",
    "   \n",
    "md={k:v for k, v in zip(methods,metrix)}\n",
    "\n",
    "df=pd.DataFrame(md)\n",
    "df"
   ]
  },
  {
   "cell_type": "markdown",
   "id": "cd746089",
   "metadata": {},
   "source": [
    "### GradientBoostingClassifier is the Winner!\n",
    "\n",
    "#### Let's plot the ROC curve of the Winner"
   ]
  },
  {
   "cell_type": "code",
   "execution_count": 163,
   "id": "bb14ea78",
   "metadata": {},
   "outputs": [
    {
     "name": "stdout",
     "output_type": "stream",
     "text": [
      "CV score is 0.8413830020362821\n"
     ]
    }
   ],
   "source": [
    "clf = GradientBoostingClassifier()\n",
    "clf.fit(X_train, y_train)\n",
    "y_pred = clf.predict(X_test)\n",
    "\n",
    "cv_scores = cross_val_score(clf, X_train, y_train, cv=3, scoring='roc_auc')\n",
    "cv_score = np.mean(cv_scores)\n",
    "print('CV score is {}'.format(cv_score))"
   ]
  },
  {
   "cell_type": "code",
   "execution_count": 169,
   "id": "d7a46398",
   "metadata": {},
   "outputs": [
    {
     "name": "stdout",
     "output_type": "stream",
     "text": [
      "Best Threshold=0.000000, F-Score=0.374, Precision=0.074, Recall=1.000\n"
     ]
    }
   ],
   "source": [
    "b=2.55\n",
    "\n",
    "precision, recall, thresholds = precision_recall_curve(y_test.values, y_pred)\n",
    "fscore = (1+b**2)*(precision * recall) / (b**2*precision + recall)\n",
    "# locate the index of the largest f score\n",
    "ix = np.argmax(fscore)\n",
    "print('Best Threshold=%f, F-Score=%.3f, Precision=%.3f, Recall=%.3f' % (thresholds[ix], \n",
    "                                                                        fscore[ix],\n",
    "                                                                        precision[ix],\n",
    "                                                                        recall[ix]))"
   ]
  },
  {
   "cell_type": "code",
   "execution_count": 168,
   "id": "fff18ea3",
   "metadata": {},
   "outputs": [
    {
     "data": {
      "image/png": "[encoded data removed]",
      "text/plain": [
       "<Figure size 720x576 with 1 Axes>"
      ]
     },
     "metadata": {},
     "output_type": "display_data"
    }
   ],
   "source": [
    "import seaborn as sns\n",
    "import itertools\n",
    "import matplotlib.pyplot as plt\n",
    "\n",
    "%matplotlib inline\n",
    "sns.set(font_scale=1.5)\n",
    "sns.set_color_codes(\"muted\")\n",
    "\n",
    "plt.figure(figsize=(10, 8))\n",
    "fpr, tpr, thresholds_ = roc_curve(y_test, y_pred, pos_label=1)\n",
    "lw = 2\n",
    "plt.plot(fpr, tpr, lw=lw, label='ROC curve ')\n",
    "plt.plot([0, 1], [0, 1])\n",
    "plt.xlim([0.0, 1.0])\n",
    "plt.ylim([0.0, 1.05])\n",
    "plt.xlabel('False Positive Rate')\n",
    "plt.ylabel('True Positive Rate')\n",
    "plt.title('ROC curve')\n",
    "plt.savefig(\"ROC.png\")\n",
    "plt.show()"
   ]
  },
  {
   "cell_type": "markdown",
   "id": "636a8915",
   "metadata": {},
   "source": [
    "### BAD TIMES!!! Even the best model sucks...."
   ]
  },
  {
   "cell_type": "markdown",
   "id": "7632e112",
   "metadata": {},
   "source": [
    "### Sorryyy...."
   ]
  },
  {
   "cell_type": "code",
   "execution_count": null,
   "id": "e42b1917",
   "metadata": {},
   "outputs": [],
   "source": []
  }
 ],
 "metadata": {
  "kernelspec": {
   "display_name": "Python 3 (ipykernel)",
   "language": "python",
   "name": "python3"
  },
  "language_info": {
   "codemirror_mode": {
    "name": "ipython",
    "version": 3
   },
   "file_extension": ".py",
   "mimetype": "text/x-python",
   "name": "python",
   "nbconvert_exporter": "python",
   "pygments_lexer": "ipython3",
   "version": "3.9.12"
  }
 },
 "nbformat": 4,
 "nbformat_minor": 5
}
