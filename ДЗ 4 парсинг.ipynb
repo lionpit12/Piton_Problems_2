{
 "cells": [
  {
   "cell_type": "markdown",
   "id": "537fd91d",
   "metadata": {},
   "source": [
    "Спарсить цитаты с сайта Quotes to Scrape - https://quotes.toscrape.com.\n",
    "Необходимо извлечь: цитаты, авторов и список тегов.\n",
    "\n",
    "Задание со звёздочкой: спарсить все цитаты на сайте, а не только с первой страницы.\n",
    "\n",
    "При парсинге желательно использовать разные методы для получения необходимой информации.\n",
    "Файл с парсером должен быть или с расширением .py, или с расширением .ipynb\n",
    "Итоговые данные можно положить в список, pandas DataFrame, можно вывести на экран, можно сохранить в .json, .csv и т.д. - на Ваше усмотрение."
   ]
  },
  {
   "cell_type": "code",
   "execution_count": 1,
   "id": "cc03f591",
   "metadata": {},
   "outputs": [],
   "source": [
    "import requests\n",
    "from lxml import html\n",
    "from bs4 import BeautifulSoup as bs"
   ]
  },
  {
   "cell_type": "code",
   "execution_count": 2,
   "id": "4c0d6318",
   "metadata": {},
   "outputs": [
    {
     "data": {
      "text/plain": [
       "200"
      ]
     },
     "execution_count": 2,
     "metadata": {},
     "output_type": "execute_result"
    }
   ],
   "source": [
    "url = 'https://quotes.toscrape.com/'\n",
    "r = requests.get(url)\n",
    "r.status_code"
   ]
  },
  {
   "cell_type": "code",
   "execution_count": 3,
   "id": "e0892424",
   "metadata": {},
   "outputs": [
    {
     "data": {
      "text/plain": [
       "<!DOCTYPE html>\n",
       "\n",
       "<html lang=\"en\">\n",
       "<head>\n",
       "<meta charset=\"utf-8\"/>\n",
       "<title>Quotes to Scrape</title>\n",
       "<link href=\"/static/bootstrap.min.css\" rel=\"stylesheet\"/>\n",
       "<link href=\"/static/main.css\" rel=\"stylesheet\"/>\n",
       "</head>\n",
       "<body>\n",
       "<div class=\"container\">\n",
       "<div class=\"row header-box\">\n",
       "<div class=\"col-md-8\">\n",
       "<h1>\n",
       "<a href=\"/\" style=\"text-decoration: none\">Quotes to Scrape</a>\n",
       "</h1>\n",
       "</div>\n",
       "<div class=\"col-md-4\">\n",
       "<p>\n",
       "<a href=\"/login\">Login</a>\n",
       "</p>\n",
       "</div>\n",
       "</div>\n",
       "<div class=\"row\">\n",
       "<div class=\"col-md-8\">\n",
       "<div class=\"quote\" itemscope=\"\" itemtype=\"http://schema.org/CreativeWork\">\n",
       "<span class=\"text\" itemprop=\"text\">“The world as we have created it is a process of our thinking. It cannot be changed without changing our thinking.”</span>\n",
       "<span>by <small class=\"author\" itemprop=\"author\">Albert Einstein</small>\n",
       "<a href=\"/author/Albert-Einstein\">(about)</a>\n",
       "</span>\n",
       "<div class=\"tags\">\n",
       "            Tags:\n",
       "            <meta class=\"keywords\" content=\"change,deep-thoughts,thinking,world\" itemprop=\"keywords\"/>\n",
       "<a class=\"tag\" href=\"/tag/change/page/1/\">change</a>\n",
       "<a class=\"tag\" href=\"/tag/deep-thoughts/page/1/\">deep-thoughts</a>\n",
       "<a class=\"tag\" href=\"/tag/thinking/page/1/\">thinking</a>\n",
       "<a class=\"tag\" href=\"/tag/world/page/1/\">world</a>\n",
       "</div>\n",
       "</div>\n",
       "<div class=\"quote\" itemscope=\"\" itemtype=\"http://schema.org/CreativeWork\">\n",
       "<span class=\"text\" itemprop=\"text\">“It is our choices, Harry, that show what we truly are, far more than our abilities.”</span>\n",
       "<span>by <small class=\"author\" itemprop=\"author\">J.K. Rowling</small>\n",
       "<a href=\"/author/J-K-Rowling\">(about)</a>\n",
       "</span>\n",
       "<div class=\"tags\">\n",
       "            Tags:\n",
       "            <meta class=\"keywords\" content=\"abilities,choices\" itemprop=\"keywords\"/>\n",
       "<a class=\"tag\" href=\"/tag/abilities/page/1/\">abilities</a>\n",
       "<a class=\"tag\" href=\"/tag/choices/page/1/\">choices</a>\n",
       "</div>\n",
       "</div>\n",
       "<div class=\"quote\" itemscope=\"\" itemtype=\"http://schema.org/CreativeWork\">\n",
       "<span class=\"text\" itemprop=\"text\">“There are only two ways to live your life. One is as though nothing is a miracle. The other is as though everything is a miracle.”</span>\n",
       "<span>by <small class=\"author\" itemprop=\"author\">Albert Einstein</small>\n",
       "<a href=\"/author/Albert-Einstein\">(about)</a>\n",
       "</span>\n",
       "<div class=\"tags\">\n",
       "            Tags:\n",
       "            <meta class=\"keywords\" content=\"inspirational,life,live,miracle,miracles\" itemprop=\"keywords\"/>\n",
       "<a class=\"tag\" href=\"/tag/inspirational/page/1/\">inspirational</a>\n",
       "<a class=\"tag\" href=\"/tag/life/page/1/\">life</a>\n",
       "<a class=\"tag\" href=\"/tag/live/page/1/\">live</a>\n",
       "<a class=\"tag\" href=\"/tag/miracle/page/1/\">miracle</a>\n",
       "<a class=\"tag\" href=\"/tag/miracles/page/1/\">miracles</a>\n",
       "</div>\n",
       "</div>\n",
       "<div class=\"quote\" itemscope=\"\" itemtype=\"http://schema.org/CreativeWork\">\n",
       "<span class=\"text\" itemprop=\"text\">“The person, be it gentleman or lady, who has not pleasure in a good novel, must be intolerably stupid.”</span>\n",
       "<span>by <small class=\"author\" itemprop=\"author\">Jane Austen</small>\n",
       "<a href=\"/author/Jane-Austen\">(about)</a>\n",
       "</span>\n",
       "<div class=\"tags\">\n",
       "            Tags:\n",
       "            <meta class=\"keywords\" content=\"aliteracy,books,classic,humor\" itemprop=\"keywords\"/>\n",
       "<a class=\"tag\" href=\"/tag/aliteracy/page/1/\">aliteracy</a>\n",
       "<a class=\"tag\" href=\"/tag/books/page/1/\">books</a>\n",
       "<a class=\"tag\" href=\"/tag/classic/page/1/\">classic</a>\n",
       "<a class=\"tag\" href=\"/tag/humor/page/1/\">humor</a>\n",
       "</div>\n",
       "</div>\n",
       "<div class=\"quote\" itemscope=\"\" itemtype=\"http://schema.org/CreativeWork\">\n",
       "<span class=\"text\" itemprop=\"text\">“Imperfection is beauty, madness is genius and it's better to be absolutely ridiculous than absolutely boring.”</span>\n",
       "<span>by <small class=\"author\" itemprop=\"author\">Marilyn Monroe</small>\n",
       "<a href=\"/author/Marilyn-Monroe\">(about)</a>\n",
       "</span>\n",
       "<div class=\"tags\">\n",
       "            Tags:\n",
       "            <meta class=\"keywords\" content=\"be-yourself,inspirational\" itemprop=\"keywords\"/>\n",
       "<a class=\"tag\" href=\"/tag/be-yourself/page/1/\">be-yourself</a>\n",
       "<a class=\"tag\" href=\"/tag/inspirational/page/1/\">inspirational</a>\n",
       "</div>\n",
       "</div>\n",
       "<div class=\"quote\" itemscope=\"\" itemtype=\"http://schema.org/CreativeWork\">\n",
       "<span class=\"text\" itemprop=\"text\">“Try not to become a man of success. Rather become a man of value.”</span>\n",
       "<span>by <small class=\"author\" itemprop=\"author\">Albert Einstein</small>\n",
       "<a href=\"/author/Albert-Einstein\">(about)</a>\n",
       "</span>\n",
       "<div class=\"tags\">\n",
       "            Tags:\n",
       "            <meta class=\"keywords\" content=\"adulthood,success,value\" itemprop=\"keywords\"/>\n",
       "<a class=\"tag\" href=\"/tag/adulthood/page/1/\">adulthood</a>\n",
       "<a class=\"tag\" href=\"/tag/success/page/1/\">success</a>\n",
       "<a class=\"tag\" href=\"/tag/value/page/1/\">value</a>\n",
       "</div>\n",
       "</div>\n",
       "<div class=\"quote\" itemscope=\"\" itemtype=\"http://schema.org/CreativeWork\">\n",
       "<span class=\"text\" itemprop=\"text\">“It is better to be hated for what you are than to be loved for what you are not.”</span>\n",
       "<span>by <small class=\"author\" itemprop=\"author\">André Gide</small>\n",
       "<a href=\"/author/Andre-Gide\">(about)</a>\n",
       "</span>\n",
       "<div class=\"tags\">\n",
       "            Tags:\n",
       "            <meta class=\"keywords\" content=\"life,love\" itemprop=\"keywords\"/>\n",
       "<a class=\"tag\" href=\"/tag/life/page/1/\">life</a>\n",
       "<a class=\"tag\" href=\"/tag/love/page/1/\">love</a>\n",
       "</div>\n",
       "</div>\n",
       "<div class=\"quote\" itemscope=\"\" itemtype=\"http://schema.org/CreativeWork\">\n",
       "<span class=\"text\" itemprop=\"text\">“I have not failed. I've just found 10,000 ways that won't work.”</span>\n",
       "<span>by <small class=\"author\" itemprop=\"author\">Thomas A. Edison</small>\n",
       "<a href=\"/author/Thomas-A-Edison\">(about)</a>\n",
       "</span>\n",
       "<div class=\"tags\">\n",
       "            Tags:\n",
       "            <meta class=\"keywords\" content=\"edison,failure,inspirational,paraphrased\" itemprop=\"keywords\"/>\n",
       "<a class=\"tag\" href=\"/tag/edison/page/1/\">edison</a>\n",
       "<a class=\"tag\" href=\"/tag/failure/page/1/\">failure</a>\n",
       "<a class=\"tag\" href=\"/tag/inspirational/page/1/\">inspirational</a>\n",
       "<a class=\"tag\" href=\"/tag/paraphrased/page/1/\">paraphrased</a>\n",
       "</div>\n",
       "</div>\n",
       "<div class=\"quote\" itemscope=\"\" itemtype=\"http://schema.org/CreativeWork\">\n",
       "<span class=\"text\" itemprop=\"text\">“A woman is like a tea bag; you never know how strong it is until it's in hot water.”</span>\n",
       "<span>by <small class=\"author\" itemprop=\"author\">Eleanor Roosevelt</small>\n",
       "<a href=\"/author/Eleanor-Roosevelt\">(about)</a>\n",
       "</span>\n",
       "<div class=\"tags\">\n",
       "            Tags:\n",
       "            <meta class=\"keywords\" content=\"misattributed-eleanor-roosevelt\" itemprop=\"keywords\"/>\n",
       "<a class=\"tag\" href=\"/tag/misattributed-eleanor-roosevelt/page/1/\">misattributed-eleanor-roosevelt</a>\n",
       "</div>\n",
       "</div>\n",
       "<div class=\"quote\" itemscope=\"\" itemtype=\"http://schema.org/CreativeWork\">\n",
       "<span class=\"text\" itemprop=\"text\">“A day without sunshine is like, you know, night.”</span>\n",
       "<span>by <small class=\"author\" itemprop=\"author\">Steve Martin</small>\n",
       "<a href=\"/author/Steve-Martin\">(about)</a>\n",
       "</span>\n",
       "<div class=\"tags\">\n",
       "            Tags:\n",
       "            <meta class=\"keywords\" content=\"humor,obvious,simile\" itemprop=\"keywords\"/>\n",
       "<a class=\"tag\" href=\"/tag/humor/page/1/\">humor</a>\n",
       "<a class=\"tag\" href=\"/tag/obvious/page/1/\">obvious</a>\n",
       "<a class=\"tag\" href=\"/tag/simile/page/1/\">simile</a>\n",
       "</div>\n",
       "</div>\n",
       "<nav>\n",
       "<ul class=\"pager\">\n",
       "<li class=\"next\">\n",
       "<a href=\"/page/2/\">Next <span aria-hidden=\"true\">→</span></a>\n",
       "</li>\n",
       "</ul>\n",
       "</nav>\n",
       "</div>\n",
       "<div class=\"col-md-4 tags-box\">\n",
       "<h2>Top Ten tags</h2>\n",
       "<span class=\"tag-item\">\n",
       "<a class=\"tag\" href=\"/tag/love/\" style=\"font-size: 28px\">love</a>\n",
       "</span>\n",
       "<span class=\"tag-item\">\n",
       "<a class=\"tag\" href=\"/tag/inspirational/\" style=\"font-size: 26px\">inspirational</a>\n",
       "</span>\n",
       "<span class=\"tag-item\">\n",
       "<a class=\"tag\" href=\"/tag/life/\" style=\"font-size: 26px\">life</a>\n",
       "</span>\n",
       "<span class=\"tag-item\">\n",
       "<a class=\"tag\" href=\"/tag/humor/\" style=\"font-size: 24px\">humor</a>\n",
       "</span>\n",
       "<span class=\"tag-item\">\n",
       "<a class=\"tag\" href=\"/tag/books/\" style=\"font-size: 22px\">books</a>\n",
       "</span>\n",
       "<span class=\"tag-item\">\n",
       "<a class=\"tag\" href=\"/tag/reading/\" style=\"font-size: 14px\">reading</a>\n",
       "</span>\n",
       "<span class=\"tag-item\">\n",
       "<a class=\"tag\" href=\"/tag/friendship/\" style=\"font-size: 10px\">friendship</a>\n",
       "</span>\n",
       "<span class=\"tag-item\">\n",
       "<a class=\"tag\" href=\"/tag/friends/\" style=\"font-size: 8px\">friends</a>\n",
       "</span>\n",
       "<span class=\"tag-item\">\n",
       "<a class=\"tag\" href=\"/tag/truth/\" style=\"font-size: 8px\">truth</a>\n",
       "</span>\n",
       "<span class=\"tag-item\">\n",
       "<a class=\"tag\" href=\"/tag/simile/\" style=\"font-size: 6px\">simile</a>\n",
       "</span>\n",
       "</div>\n",
       "</div>\n",
       "</div>\n",
       "<footer class=\"footer\">\n",
       "<div class=\"container\">\n",
       "<p class=\"text-muted\">\n",
       "                Quotes by: <a href=\"https://www.goodreads.com/quotes\">GoodReads.com</a>\n",
       "</p>\n",
       "<p class=\"copyright\">\n",
       "                Made with <span class=\"sh-red\">❤</span> by <a href=\"https://scrapinghub.com\">Scrapinghub</a>\n",
       "</p>\n",
       "</div>\n",
       "</footer>\n",
       "</body>\n",
       "</html>"
      ]
     },
     "execution_count": 3,
     "metadata": {},
     "output_type": "execute_result"
    }
   ],
   "source": [
    "soup = bs(r.content, 'html.parser')\n",
    "soup"
   ]
  },
  {
   "cell_type": "code",
   "execution_count": 4,
   "id": "7a58ecb1",
   "metadata": {},
   "outputs": [
    {
     "data": {
      "text/plain": [
       "10"
      ]
     },
     "execution_count": 4,
     "metadata": {},
     "output_type": "execute_result"
    }
   ],
   "source": [
    "quotes = soup.select('div[class=quote]')\n",
    "len(quotes)"
   ]
  },
  {
   "cell_type": "code",
   "execution_count": 5,
   "id": "5b2554e0",
   "metadata": {},
   "outputs": [
    {
     "data": {
      "text/plain": [
       "<div class=\"quote\" itemscope=\"\" itemtype=\"http://schema.org/CreativeWork\">\n",
       "<span class=\"text\" itemprop=\"text\">“The world as we have created it is a process of our thinking. It cannot be changed without changing our thinking.”</span>\n",
       "<span>by <small class=\"author\" itemprop=\"author\">Albert Einstein</small>\n",
       "<a href=\"/author/Albert-Einstein\">(about)</a>\n",
       "</span>\n",
       "<div class=\"tags\">\n",
       "            Tags:\n",
       "            <meta class=\"keywords\" content=\"change,deep-thoughts,thinking,world\" itemprop=\"keywords\"/>\n",
       "<a class=\"tag\" href=\"/tag/change/page/1/\">change</a>\n",
       "<a class=\"tag\" href=\"/tag/deep-thoughts/page/1/\">deep-thoughts</a>\n",
       "<a class=\"tag\" href=\"/tag/thinking/page/1/\">thinking</a>\n",
       "<a class=\"tag\" href=\"/tag/world/page/1/\">world</a>\n",
       "</div>\n",
       "</div>"
      ]
     },
     "execution_count": 5,
     "metadata": {},
     "output_type": "execute_result"
    }
   ],
   "source": [
    "quotes[0]"
   ]
  },
  {
   "cell_type": "code",
   "execution_count": 6,
   "id": "5d8bc7e4",
   "metadata": {},
   "outputs": [
    {
     "data": {
      "text/plain": [
       "'Albert Einstein'"
      ]
     },
     "execution_count": 6,
     "metadata": {},
     "output_type": "execute_result"
    }
   ],
   "source": [
    "quotes[0].find('span').find_next_sibling('span').find('small').text\n"
   ]
  },
  {
   "cell_type": "code",
   "execution_count": 7,
   "id": "1ec573ed",
   "metadata": {},
   "outputs": [],
   "source": [
    "final_data = []\n",
    "for q in quotes:\n",
    "    tag = q.find('div').find('meta')['content']\n",
    "    text = q.find('span', attrs={'class':['text']}).text\n",
    "    author = q.find('span').find_next_sibling('span').find('small').text\n",
    "    \n",
    "    tmp_dict = {\n",
    "        'tag': tag,\n",
    "        'text': text,\n",
    "        'author': author\n",
    "    }\n",
    "    final_data.append(tmp_dict)"
   ]
  },
  {
   "cell_type": "code",
   "execution_count": 8,
   "id": "98fc04c2",
   "metadata": {},
   "outputs": [
    {
     "data": {
      "text/plain": [
       "[{'tag': 'change,deep-thoughts,thinking,world',\n",
       "  'text': '“The world as we have created it is a process of our thinking. It cannot be changed without changing our thinking.”',\n",
       "  'author': 'Albert Einstein'},\n",
       " {'tag': 'abilities,choices',\n",
       "  'text': '“It is our choices, Harry, that show what we truly are, far more than our abilities.”',\n",
       "  'author': 'J.K. Rowling'},\n",
       " {'tag': 'inspirational,life,live,miracle,miracles',\n",
       "  'text': '“There are only two ways to live your life. One is as though nothing is a miracle. The other is as though everything is a miracle.”',\n",
       "  'author': 'Albert Einstein'},\n",
       " {'tag': 'aliteracy,books,classic,humor',\n",
       "  'text': '“The person, be it gentleman or lady, who has not pleasure in a good novel, must be intolerably stupid.”',\n",
       "  'author': 'Jane Austen'},\n",
       " {'tag': 'be-yourself,inspirational',\n",
       "  'text': \"“Imperfection is beauty, madness is genius and it's better to be absolutely ridiculous than absolutely boring.”\",\n",
       "  'author': 'Marilyn Monroe'},\n",
       " {'tag': 'adulthood,success,value',\n",
       "  'text': '“Try not to become a man of success. Rather become a man of value.”',\n",
       "  'author': 'Albert Einstein'},\n",
       " {'tag': 'life,love',\n",
       "  'text': '“It is better to be hated for what you are than to be loved for what you are not.”',\n",
       "  'author': 'André Gide'},\n",
       " {'tag': 'edison,failure,inspirational,paraphrased',\n",
       "  'text': \"“I have not failed. I've just found 10,000 ways that won't work.”\",\n",
       "  'author': 'Thomas A. Edison'},\n",
       " {'tag': 'misattributed-eleanor-roosevelt',\n",
       "  'text': \"“A woman is like a tea bag; you never know how strong it is until it's in hot water.”\",\n",
       "  'author': 'Eleanor Roosevelt'},\n",
       " {'tag': 'humor,obvious,simile',\n",
       "  'text': '“A day without sunshine is like, you know, night.”',\n",
       "  'author': 'Steve Martin'}]"
      ]
     },
     "execution_count": 8,
     "metadata": {},
     "output_type": "execute_result"
    }
   ],
   "source": [
    "final_data"
   ]
  },
  {
   "cell_type": "code",
   "execution_count": 22,
   "id": "f075b19c",
   "metadata": {},
   "outputs": [
    {
     "name": "stdout",
     "output_type": "stream",
     "text": [
      "\n",
      "start scraping https://quotes.toscrape.com/\n",
      "\tstart scraping 1 from 10\n",
      "\tstart scraping 2 from 10\n",
      "\tstart scraping 3 from 10\n",
      "\tstart scraping 4 from 10\n",
      "\tstart scraping 5 from 10\n",
      "\tstart scraping 6 from 10\n",
      "\tstart scraping 7 from 10\n",
      "\tstart scraping 8 from 10\n",
      "\tstart scraping 9 from 10\n",
      "\tstart scraping 10 from 10\n",
      "\n",
      "start scraping https://quotes.toscrape.com//page/2/\n",
      "\tstart scraping 1 from 10\n",
      "\tstart scraping 2 from 10\n",
      "\tstart scraping 3 from 10\n",
      "\tstart scraping 4 from 10\n",
      "\tstart scraping 5 from 10\n",
      "\tstart scraping 6 from 10\n",
      "\tstart scraping 7 from 10\n",
      "\tstart scraping 8 from 10\n",
      "\tstart scraping 9 from 10\n",
      "\tstart scraping 10 from 10\n",
      "\n",
      "start scraping https://quotes.toscrape.com//page/3/\n",
      "\tstart scraping 1 from 10\n",
      "\tstart scraping 2 from 10\n",
      "\tstart scraping 3 from 10\n",
      "\tstart scraping 4 from 10\n",
      "\tstart scraping 5 from 10\n",
      "\tstart scraping 6 from 10\n",
      "\tstart scraping 7 from 10\n",
      "\tstart scraping 8 from 10\n",
      "\tstart scraping 9 from 10\n",
      "\tstart scraping 10 from 10\n",
      "\n",
      "start scraping https://quotes.toscrape.com//page/4/\n",
      "\tstart scraping 1 from 10\n",
      "\tstart scraping 2 from 10\n",
      "\tstart scraping 3 from 10\n",
      "\tstart scraping 4 from 10\n",
      "\tstart scraping 5 from 10\n",
      "\tstart scraping 6 from 10\n",
      "\tstart scraping 7 from 10\n",
      "\tstart scraping 8 from 10\n",
      "\tstart scraping 9 from 10\n",
      "\tstart scraping 10 from 10\n",
      "\n",
      "start scraping https://quotes.toscrape.com//page/5/\n",
      "\tstart scraping 1 from 10\n",
      "\tstart scraping 2 from 10\n",
      "\tstart scraping 3 from 10\n",
      "\tstart scraping 4 from 10\n",
      "\tstart scraping 5 from 10\n",
      "\tstart scraping 6 from 10\n",
      "\tstart scraping 7 from 10\n",
      "\tstart scraping 8 from 10\n",
      "\tstart scraping 9 from 10\n",
      "\tstart scraping 10 from 10\n",
      "\n",
      "start scraping https://quotes.toscrape.com//page/6/\n",
      "\tstart scraping 1 from 10\n",
      "\tstart scraping 2 from 10\n",
      "\tstart scraping 3 from 10\n",
      "\tstart scraping 4 from 10\n",
      "\tstart scraping 5 from 10\n",
      "\tstart scraping 6 from 10\n",
      "\tstart scraping 7 from 10\n",
      "\tstart scraping 8 from 10\n",
      "\tstart scraping 9 from 10\n",
      "\tstart scraping 10 from 10\n",
      "\n",
      "start scraping https://quotes.toscrape.com//page/7/\n",
      "\tstart scraping 1 from 10\n",
      "\tstart scraping 2 from 10\n",
      "\tstart scraping 3 from 10\n",
      "\tstart scraping 4 from 10\n",
      "\tstart scraping 5 from 10\n",
      "\tstart scraping 6 from 10\n",
      "\tstart scraping 7 from 10\n",
      "\tstart scraping 8 from 10\n",
      "\tstart scraping 9 from 10\n",
      "\tstart scraping 10 from 10\n",
      "\n",
      "start scraping https://quotes.toscrape.com//page/8/\n",
      "\tstart scraping 1 from 10\n",
      "\tstart scraping 2 from 10\n",
      "\tstart scraping 3 from 10\n",
      "\tstart scraping 4 from 10\n",
      "\tstart scraping 5 from 10\n",
      "\tstart scraping 6 from 10\n",
      "\tstart scraping 7 from 10\n",
      "\tstart scraping 8 from 10\n",
      "\tstart scraping 9 from 10\n",
      "\tstart scraping 10 from 10\n",
      "\n",
      "start scraping https://quotes.toscrape.com//page/9/\n",
      "\tstart scraping 1 from 10\n",
      "\tstart scraping 2 from 10\n",
      "\tstart scraping 3 from 10\n",
      "\tstart scraping 4 from 10\n",
      "\tstart scraping 5 from 10\n",
      "\tstart scraping 6 from 10\n",
      "\tstart scraping 7 from 10\n",
      "\tstart scraping 8 from 10\n",
      "\tstart scraping 9 from 10\n",
      "\tstart scraping 10 from 10\n",
      "\n",
      "start scraping https://quotes.toscrape.com//page/10/\n",
      "\tstart scraping 1 from 10\n",
      "\tstart scraping 2 from 10\n",
      "\tstart scraping 3 from 10\n",
      "\tstart scraping 4 from 10\n",
      "\tstart scraping 5 from 10\n",
      "\tstart scraping 6 from 10\n",
      "\tstart scraping 7 from 10\n",
      "\tstart scraping 8 from 10\n",
      "\tstart scraping 9 from 10\n",
      "\tstart scraping 10 from 10\n",
      "\n",
      "NO NEW PAGE: 'NoneType' object has no attribute 'find'\n",
      "\n",
      "\n",
      "DONE. SCRAPED 100\n"
     ]
    }
   ],
   "source": [
    "final = []\n",
    "url = 'https://quotes.toscrape.com/'\n",
    "while True:\n",
    "    r = requests.get(url)\n",
    "    if r.status_code == 200:\n",
    "        print(f'\\nstart scraping {url}')\n",
    "        html = bs(r.content, 'lxml')\n",
    "        quotes = html.select('div[class=quote]')\n",
    "        \n",
    "        for num_q, q in enumerate(quotes, 1):\n",
    "            print(f'\\tstart scraping {num_q} from {len(quotes)}')\n",
    "            tag = q.find('div').find('meta')['content']\n",
    "            text = q.find('span', attrs={'class':['text']}).text\n",
    "            author = q.find('span').find_next_sibling('span').find('small').text\n",
    "\n",
    "            tmp_dict = {\n",
    "                'tag': tag,\n",
    "                'text': text,\n",
    "                'author': author\n",
    "             }\n",
    "            final.append(tmp_dict)\n",
    "            \n",
    "        try:\n",
    "            next_page = html.find('li', class_='next').find('a')['href']\n",
    "            url = 'https://quotes.toscrape.com/' + next_page\n",
    "        except Exception as e:\n",
    "            print(f'\\nNO NEW PAGE: {e}')\n",
    "            break\n",
    "    else:\n",
    "        print(f'\\nerror status code: {r.status_code}')\n",
    "        break\n",
    "        \n",
    "print(f'\\n\\nDONE. SCRAPED {len(final)}')"
   ]
  },
  {
   "cell_type": "code",
   "execution_count": 23,
   "id": "87d3b389",
   "metadata": {},
   "outputs": [
    {
     "data": {
      "text/plain": [
       "{'tag': 'inspirational',\n",
       " 'text': \"“A person's a person, no matter how small.”\",\n",
       " 'author': 'Dr. Seuss'}"
      ]
     },
     "execution_count": 23,
     "metadata": {},
     "output_type": "execute_result"
    }
   ],
   "source": [
    "final[-2]"
   ]
  },
  {
   "cell_type": "markdown",
   "id": "116dec81",
   "metadata": {},
   "source": [
    "# ДЗ № 4\n",
    "На выбор\n",
    "* Создать MongoDB, записать туда данные из парсера с предыдущего урока (любое название базы, любое название таблицы). Выполнить команду для демонстрации содержимого коллекции.\n",
    "* Создать базу данных sqlite, загрузить туда данные из парсера с предыдущего урока. Выполнить команду для демонстрации содержимого коллекции."
   ]
  },
  {
   "cell_type": "code",
   "execution_count": 24,
   "id": "a54001d0",
   "metadata": {},
   "outputs": [],
   "source": [
    "from pymongo import MongoClient\n",
    "client = MongoClient()"
   ]
  },
  {
   "cell_type": "code",
   "execution_count": 25,
   "id": "8f6e6670",
   "metadata": {},
   "outputs": [],
   "source": [
    "client = MongoClient('mongodb://localhost:27017/')"
   ]
  },
  {
   "cell_type": "code",
   "execution_count": 26,
   "id": "2f97ca66",
   "metadata": {},
   "outputs": [
    {
     "name": "stdout",
     "output_type": "stream",
     "text": [
      "['admin', 'cars', 'config', 'local', 'test', 'testdb']\n"
     ]
    }
   ],
   "source": [
    "print(client.list_database_names())"
   ]
  },
  {
   "cell_type": "code",
   "execution_count": 27,
   "id": "18fd4d53",
   "metadata": {},
   "outputs": [],
   "source": [
    "db_quotes = client.qoutes"
   ]
  },
  {
   "cell_type": "code",
   "execution_count": 28,
   "id": "09dbd864",
   "metadata": {},
   "outputs": [
    {
     "name": "stdout",
     "output_type": "stream",
     "text": [
      "['admin', 'cars', 'config', 'local', 'test', 'testdb']\n"
     ]
    }
   ],
   "source": [
    "print(client.list_database_names())"
   ]
  },
  {
   "cell_type": "code",
   "execution_count": 29,
   "id": "1da65408",
   "metadata": {},
   "outputs": [
    {
     "data": {
      "text/plain": [
       "<pymongo.results.InsertManyResult at 0x1d57212e100>"
      ]
     },
     "execution_count": 29,
     "metadata": {},
     "output_type": "execute_result"
    }
   ],
   "source": [
    "db_quotes.quotes_table.insert_many(final)"
   ]
  },
  {
   "cell_type": "code",
   "execution_count": 30,
   "id": "c0c130de",
   "metadata": {},
   "outputs": [
    {
     "name": "stdout",
     "output_type": "stream",
     "text": [
      "['admin', 'cars', 'config', 'local', 'qoutes', 'test', 'testdb']\n"
     ]
    }
   ],
   "source": [
    "print(client.list_database_names())"
   ]
  },
  {
   "cell_type": "code",
   "execution_count": 31,
   "id": "5e745ec9",
   "metadata": {},
   "outputs": [
    {
     "name": "stdout",
     "output_type": "stream",
     "text": [
      "['quotes_table']\n"
     ]
    }
   ],
   "source": [
    "print(db_quotes.list_collection_names())"
   ]
  },
  {
   "cell_type": "code",
   "execution_count": 32,
   "id": "adc4753e",
   "metadata": {},
   "outputs": [
    {
     "name": "stdout",
     "output_type": "stream",
     "text": [
      "<pymongo.cursor.Cursor object at 0x000001D5717776D0>\n"
     ]
    }
   ],
   "source": [
    "print(db_quotes.quotes_table.find())"
   ]
  },
  {
   "cell_type": "code",
   "execution_count": 37,
   "id": "22131af5",
   "metadata": {},
   "outputs": [
    {
     "name": "stdout",
     "output_type": "stream",
     "text": [
      "{'_id': ObjectId('62f7a1b1b84e134dbc2ee260'), 'tag': 'fantasy', 'text': '“I like nonsense, it wakes up the brain cells. Fantasy is a necessary ingredient in living.”', 'author': 'Dr. Seuss'}\n",
      "{'_id': ObjectId('62f7a1b1b84e134dbc2ee26b'), 'tag': 'comedy,life,yourself', 'text': '“Today you are You, that is truer than true. There is no one alive who is Youer than You.”', 'author': 'Dr. Seuss'}\n",
      "{'_id': ObjectId('62f7a1b1b84e134dbc2ee270'), 'tag': 'learning,reading,seuss', 'text': \"“The more that you read, the more things you will know. The more that you learn, the more places you'll go.”\", 'author': 'Dr. Seuss'}\n",
      "{'_id': ObjectId('62f7a1b1b84e134dbc2ee297'), 'tag': 'troubles', 'text': \"“I have heard there are troubles of more than one kind. Some come from ahead and some come from behind. But I've bought a big bat. I'm all ready you see. Now my troubles are going to have troubles with me!”\", 'author': 'Dr. Seuss'}\n",
      "{'_id': ObjectId('62f7a1b1b84e134dbc2ee29b'), 'tag': 'humor,philosophy', 'text': '“Think left and think right and think low and think high. Oh, the thinks you can think up if only you try!”', 'author': 'Dr. Seuss'}\n",
      "{'_id': ObjectId('62f7a1b1b84e134dbc2ee2b4'), 'tag': 'inspirational', 'text': \"“A person's a person, no matter how small.”\", 'author': 'Dr. Seuss'}\n"
     ]
    }
   ],
   "source": [
    "all_quotes = db_quotes.quotes_table.find({'author': 'Dr. Seuss'})\n",
    "for q in all_quotes:\n",
    "    print(q)"
   ]
  },
  {
   "cell_type": "code",
   "execution_count": null,
   "id": "669801e5",
   "metadata": {},
   "outputs": [],
   "source": []
  }
 ],
 "metadata": {
  "kernelspec": {
   "display_name": "Python 3 (ipykernel)",
   "language": "python",
   "name": "python3"
  },
  "language_info": {
   "codemirror_mode": {
    "name": "ipython",
    "version": 3
   },
   "file_extension": ".py",
   "mimetype": "text/x-python",
   "name": "python",
   "nbconvert_exporter": "python",
   "pygments_lexer": "ipython3",
   "version": "3.9.12"
  }
 },
 "nbformat": 4,
 "nbformat_minor": 5
}
