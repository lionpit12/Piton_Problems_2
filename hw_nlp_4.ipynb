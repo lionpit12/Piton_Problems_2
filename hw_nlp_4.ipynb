{
 "cells": [
  {
   "cell_type": "code",
   "execution_count": 1,
   "id": "552c93ce",
   "metadata": {},
   "outputs": [],
   "source": [
    "import pandas as pd\n",
    "import numpy as np\n",
    "from nltk.tokenize import word_tokenize\n",
    "from nltk.corpus import stopwords\n",
    "from nltk.stem import WordNetLemmatizer\n",
    "from sklearn.feature_extraction.text import TfidfVectorizer"
   ]
  },
  {
   "cell_type": "code",
   "execution_count": 2,
   "id": "f15b4fa5",
   "metadata": {},
   "outputs": [
    {
     "data": {
      "text/html": [
       "<div>\n",
       "<style scoped>\n",
       "    .dataframe tbody tr th:only-of-type {\n",
       "        vertical-align: middle;\n",
       "    }\n",
       "\n",
       "    .dataframe tbody tr th {\n",
       "        vertical-align: top;\n",
       "    }\n",
       "\n",
       "    .dataframe thead th {\n",
       "        text-align: right;\n",
       "    }\n",
       "</style>\n",
       "<table border=\"1\" class=\"dataframe\">\n",
       "  <thead>\n",
       "    <tr style=\"text-align: right;\">\n",
       "      <th></th>\n",
       "      <th>text</th>\n",
       "      <th>label</th>\n",
       "    </tr>\n",
       "  </thead>\n",
       "  <tbody>\n",
       "    <tr>\n",
       "      <th>0</th>\n",
       "      <td>на работе был полный пиддес :| и так каждое за...</td>\n",
       "      <td>-1</td>\n",
       "    </tr>\n",
       "    <tr>\n",
       "      <th>1</th>\n",
       "      <td>Коллеги сидят рубятся в Urban terror, а я из-з...</td>\n",
       "      <td>-1</td>\n",
       "    </tr>\n",
       "    <tr>\n",
       "      <th>2</th>\n",
       "      <td>@elina_4post как говорят обещаного три года жд...</td>\n",
       "      <td>-1</td>\n",
       "    </tr>\n",
       "    <tr>\n",
       "      <th>3</th>\n",
       "      <td>Желаю хорошего полёта и удачной посадки,я буду...</td>\n",
       "      <td>-1</td>\n",
       "    </tr>\n",
       "    <tr>\n",
       "      <th>4</th>\n",
       "      <td>Обновил за каким-то лешим surf, теперь не рабо...</td>\n",
       "      <td>-1</td>\n",
       "    </tr>\n",
       "  </tbody>\n",
       "</table>\n",
       "</div>"
      ],
      "text/plain": [
       "                                                text  label\n",
       "0  на работе был полный пиддес :| и так каждое за...     -1\n",
       "1  Коллеги сидят рубятся в Urban terror, а я из-з...     -1\n",
       "2  @elina_4post как говорят обещаного три года жд...     -1\n",
       "3  Желаю хорошего полёта и удачной посадки,я буду...     -1\n",
       "4  Обновил за каким-то лешим surf, теперь не рабо...     -1"
      ]
     },
     "execution_count": 2,
     "metadata": {},
     "output_type": "execute_result"
    }
   ],
   "source": [
    "df = pd.read_csv('negative.csv', sep=';', header=None, usecols=[3, 4], names=['text', 'label'])\n",
    "df.head()"
   ]
  },
  {
   "cell_type": "code",
   "execution_count": 3,
   "id": "9c6da5bf",
   "metadata": {},
   "outputs": [],
   "source": [
    "import re\n",
    "from tqdm.notebook import tqdm\n",
    "from multiprocessing import Pool\n",
    "from pymystem3 import Mystem"
   ]
  },
  {
   "cell_type": "code",
   "execution_count": 5,
   "id": "44ee3cf1",
   "metadata": {},
   "outputs": [],
   "source": [
    "import pymorphy2\n",
    "morph = pymorphy2.MorphAnalyzer()"
   ]
  },
  {
   "cell_type": "code",
   "execution_count": 6,
   "id": "875b145f",
   "metadata": {},
   "outputs": [],
   "source": [
    "words_regex = re.compile('\\w+')\n",
    "\n",
    "def find_words(text, regex = words_regex):\n",
    "    tokens =  regex.findall(text.lower())\n",
    "    return [w for w in tokens if w.isalpha() and len(w) >= 3]\n",
    "\n",
    "\n",
    "stopwords_list = stopwords.words('russian')\n",
    "\n",
    "# mystem = Mystem()\n",
    "# def lemmatize(words, lemmer = mystem, stopwords = stopwords_list):\n",
    "#     lemmas = lemmer.lemmatize(' '.join(words))\n",
    "#     return [w for w in lemmas if not w in stopwords \n",
    "#             and w.isalpha()]\n",
    "\n",
    "def lemmatize(words, lemmer = morph, stopwords = stopwords_list):\n",
    "    lemmas = [lemmer.parse(w)[0].normal_form for w in words]\n",
    "    return [w for w in lemmas if not w in stopwords \n",
    "            and w.isalpha()]\n",
    "\n",
    "def preprocess(text):\n",
    "    return (lemmatize(find_words(text)))"
   ]
  },
  {
   "cell_type": "code",
   "execution_count": 7,
   "id": "3f26f3bb",
   "metadata": {},
   "outputs": [
    {
     "data": {
      "text/html": [
       "<div>\n",
       "<style scoped>\n",
       "    .dataframe tbody tr th:only-of-type {\n",
       "        vertical-align: middle;\n",
       "    }\n",
       "\n",
       "    .dataframe tbody tr th {\n",
       "        vertical-align: top;\n",
       "    }\n",
       "\n",
       "    .dataframe thead th {\n",
       "        text-align: right;\n",
       "    }\n",
       "</style>\n",
       "<table border=\"1\" class=\"dataframe\">\n",
       "  <thead>\n",
       "    <tr style=\"text-align: right;\">\n",
       "      <th></th>\n",
       "      <th>text</th>\n",
       "      <th>label</th>\n",
       "    </tr>\n",
       "  </thead>\n",
       "  <tbody>\n",
       "    <tr>\n",
       "      <th>0</th>\n",
       "      <td>[работа, полный, пиддес, каждый, закрытие, мес...</td>\n",
       "      <td>-1</td>\n",
       "    </tr>\n",
       "    <tr>\n",
       "      <th>1</th>\n",
       "      <td>[коллега, сидеть, рубиться, urban, terror, дол...</td>\n",
       "      <td>-1</td>\n",
       "    </tr>\n",
       "    <tr>\n",
       "      <th>2</th>\n",
       "      <td>[говорить, обещаной, год, ждать]</td>\n",
       "      <td>-1</td>\n",
       "    </tr>\n",
       "    <tr>\n",
       "      <th>3</th>\n",
       "      <td>[желать, хороший, полёт, удачный, посадка, оче...</td>\n",
       "      <td>-1</td>\n",
       "    </tr>\n",
       "    <tr>\n",
       "      <th>4</th>\n",
       "      <td>[обновить, леший, surf, работать, простоплеер]</td>\n",
       "      <td>-1</td>\n",
       "    </tr>\n",
       "  </tbody>\n",
       "</table>\n",
       "</div>"
      ],
      "text/plain": [
       "                                                text  label\n",
       "0  [работа, полный, пиддес, каждый, закрытие, мес...     -1\n",
       "1  [коллега, сидеть, рубиться, urban, terror, дол...     -1\n",
       "2                   [говорить, обещаной, год, ждать]     -1\n",
       "3  [желать, хороший, полёт, удачный, посадка, оче...     -1\n",
       "4     [обновить, леший, surf, работать, простоплеер]     -1"
      ]
     },
     "execution_count": 7,
     "metadata": {},
     "output_type": "execute_result"
    }
   ],
   "source": [
    "df['text'] = df['text'].apply(preprocess)\n",
    "df.head()"
   ]
  },
  {
   "cell_type": "code",
   "execution_count": 8,
   "id": "de1d78df",
   "metadata": {},
   "outputs": [],
   "source": [
    "from gensim.models import *\n",
    "from gensim import corpora"
   ]
  },
  {
   "cell_type": "code",
   "execution_count": 9,
   "id": "a4fc96ad",
   "metadata": {},
   "outputs": [],
   "source": [
    "dictionary = corpora.Dictionary(df['text'])\n",
    "\n",
    "dictionary.filter_extremes(no_below = 10, no_above = 0.9, keep_n=None) # игнорируем слова, которые встречаются реже 10 раз или составляют более 0.9 словаря \n",
    "dictionary.save('tweet.dict')"
   ]
  },
  {
   "cell_type": "code",
   "execution_count": 10,
   "id": "80c5d729",
   "metadata": {},
   "outputs": [],
   "source": [
    "corpus = [dictionary.doc2bow(text) for text in df['text']]\n",
    "corpora.MmCorpus.serialize('tweet.model', corpus) "
   ]
  },
  {
   "cell_type": "code",
   "execution_count": 11,
   "id": "dd2f45a9",
   "metadata": {},
   "outputs": [
    {
     "name": "stdout",
     "output_type": "stream",
     "text": [
      "CPU times: total: 2min 47s\n",
      "Wall time: 4min 4s\n"
     ]
    }
   ],
   "source": [
    "%time lda = ldamodel.LdaModel(corpus, id2word=dictionary, num_topics=20, chunksize=50, update_every=1, passes=2)"
   ]
  },
  {
   "cell_type": "code",
   "execution_count": 12,
   "id": "75a348b1",
   "metadata": {},
   "outputs": [
    {
     "data": {
      "text/plain": [
       "[(1,\n",
       "  '0.404*\"мочь\" + 0.138*\"сидеть\" + 0.102*\"неделя\" + 0.085*\"вчера\" + 0.054*\"работать\" + 0.053*\"плакать\" + 0.034*\"больница\" + 0.029*\"лежать\" + 0.027*\"тви\" + 0.015*\"заходить\"'),\n",
       " (12,\n",
       "  '0.000*\"игнорить\" + 0.000*\"барановский\" + 0.000*\"светить\" + 0.000*\"поштый\" + 0.000*\"обратный\" + 0.000*\"гадать\" + 0.000*\"эгоист\" + 0.000*\"мошенник\" + 0.000*\"викторович\" + 0.000*\"кавер\"'),\n",
       " (17,\n",
       "  '0.569*\"хотеть\" + 0.105*\"думать\" + 0.098*\"мама\" + 0.090*\"плохо\" + 0.050*\"бояться\" + 0.030*\"значит\" + 0.027*\"россия\" + 0.008*\"почта\" + 0.000*\"завтра\" + 0.000*\"спать\"'),\n",
       " (4,\n",
       "  '0.224*\"фильм\" + 0.211*\"видеть\" + 0.198*\"прийтись\" + 0.125*\"сходить\" + 0.053*\"комп\" + 0.053*\"бред\" + 0.050*\"кино\" + 0.000*\"смотреть\" + 0.000*\"никто\" + 0.000*\"завтра\"'),\n",
       " (15,\n",
       "  '0.292*\"блин\" + 0.227*\"сказать\" + 0.102*\"работа\" + 0.085*\"нравиться\" + 0.059*\"месяц\" + 0.054*\"долго\" + 0.047*\"сон\" + 0.031*\"начать\" + 0.021*\"сниться\" + 0.020*\"полный\"'),\n",
       " (19,\n",
       "  '0.493*\"весь\" + 0.250*\"делать\" + 0.189*\"дом\" + 0.022*\"язык\" + 0.013*\"быстрый\" + 0.000*\"ночь\" + 0.000*\"просто\" + 0.000*\"жизнь\" + 0.000*\"большой\" + 0.000*\"подписчик\"'),\n",
       " (6,\n",
       "  '0.801*\"всё\" + 0.087*\"сделать\" + 0.048*\"гулять\" + 0.040*\"сука\" + 0.000*\"равно\" + 0.000*\"таки\" + 0.000*\"время\" + 0.000*\"свой\" + 0.000*\"вроде\" + 0.000*\"большой\"'),\n",
       " (18,\n",
       "  '0.670*\"http\" + 0.109*\"который\" + 0.071*\"друг\" + 0.038*\"купить\" + 0.030*\"зима\" + 0.030*\"место\" + 0.015*\"общаться\" + 0.009*\"сначала\" + 0.005*\"видеться\" + 0.003*\"сутки\"'),\n",
       " (7,\n",
       "  '0.186*\"последний\" + 0.180*\"скоро\" + 0.098*\"лето\" + 0.095*\"вода\" + 0.087*\"увидеть\" + 0.085*\"глаз\" + 0.079*\"выходить\" + 0.041*\"вид\" + 0.040*\"наверно\" + 0.021*\"чувак\"'),\n",
       " (13,\n",
       "  '0.379*\"пойти\" + 0.212*\"первый\" + 0.116*\"деньга\" + 0.094*\"умереть\" + 0.078*\"бывать\" + 0.048*\"потерять\" + 0.008*\"снимать\" + 0.000*\"завтра\" + 0.000*\"большой\" + 0.000*\"школа\"')]"
      ]
     },
     "execution_count": 12,
     "metadata": {},
     "output_type": "execute_result"
    }
   ],
   "source": [
    "lda.show_topics(num_topics=10, num_words=10, formatted=True)"
   ]
  },
  {
   "cell_type": "code",
   "execution_count": 19,
   "id": "7ac59061",
   "metadata": {},
   "outputs": [
    {
     "data": {
      "text/plain": [
       "10"
      ]
     },
     "execution_count": 19,
     "metadata": {},
     "output_type": "execute_result"
    }
   ],
   "source": [
    "len(lda.show_topics(num_topics=10, num_words=10, formatted=True))"
   ]
  },
  {
   "cell_type": "code",
   "execution_count": 21,
   "id": "590a92db",
   "metadata": {},
   "outputs": [
    {
     "name": "stderr",
     "output_type": "stream",
     "text": [
      "C:\\Users\\vmakh\\anaconda3\\lib\\site-packages\\sklearn\\cluster\\_kmeans.py:870: FutureWarning: The default value of `n_init` will change from 10 to 'auto' in 1.4. Set the value of `n_init` explicitly to suppress the warning\n",
      "  warnings.warn(\n",
      "C:\\Users\\vmakh\\anaconda3\\lib\\site-packages\\sklearn\\cluster\\_kmeans.py:1382: UserWarning: KMeans is known to have a memory leak on Windows with MKL, when there are less chunks than available threads. You can avoid it by setting the environment variable OMP_NUM_THREADS=1.\n",
      "  warnings.warn(\n"
     ]
    },
    {
     "data": {
      "image/png": "[encoded data removed]",
      "text/plain": [
       "<Figure size 640x480 with 1 Axes>"
      ]
     },
     "metadata": {},
     "output_type": "display_data"
    }
   ],
   "source": [
    "import numpy as np\n",
    "from sklearn.cluster import KMeans\n",
    "from sklearn.manifold import TSNE\n",
    "import matplotlib.pyplot as plt\n",
    "\n",
    "# Получаем матрицу тематик\n",
    "topics = lda.show_topics(num_topics=10, num_words=10, formatted=False)\n",
    "\n",
    "# Составляем матрицу признаков для кластеризации\n",
    "X = np.zeros((len(topics), len(topics[0][1])))\n",
    "for i, (topic_id, words) in enumerate(topics):\n",
    "    for j, (word, prob) in enumerate(words):\n",
    "        X[i,j] = prob\n",
    "\n",
    "# Кластеризуем тематики\n",
    "kmeans = KMeans(n_clusters=3, random_state=0).fit(X)\n",
    "\n",
    "# Визуализируем результаты с помощью метода t-SNE\n",
    "tsne = TSNE(n_components=2, perplexity=3, learning_rate=100, n_iter=1000, random_state=0)\n",
    "X_tsne = tsne.fit_transform(X)\n",
    "\n",
    "# Рисуем график\n",
    "colors = ['red', 'green', 'blue']\n",
    "for i, (topic_id, words) in enumerate(topics):\n",
    "    plt.scatter(X_tsne[i,0], X_tsne[i,1], color=colors[kmeans.labels_[i]])\n",
    "    plt.annotate(topic_id, xy=(X_tsne[i,0], X_tsne[i,1]), xytext=(5,-5), textcoords='offset points')\n",
    "plt.show()\n"
   ]
  },
  {
   "cell_type": "code",
   "execution_count": null,
   "id": "526732f4",
   "metadata": {},
   "outputs": [],
   "source": []
  }
 ],
 "metadata": {
  "kernelspec": {
   "display_name": "Python 3 (ipykernel)",
   "language": "python",
   "name": "python3"
  },
  "language_info": {
   "codemirror_mode": {
    "name": "ipython",
    "version": 3
   },
   "file_extension": ".py",
   "mimetype": "text/x-python",
   "name": "python",
   "nbconvert_exporter": "python",
   "pygments_lexer": "ipython3",
   "version": "3.9.16"
  }
 },
 "nbformat": 4,
 "nbformat_minor": 5
}
